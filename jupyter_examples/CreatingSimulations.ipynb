{
 "cells": [
  {
   "cell_type": "markdown",
   "metadata": {},
   "source": [
    "http://rebound.readthedocs.io/en/latest/ipython/Horizons.html"
   ]
  },
  {
   "cell_type": "code",
   "execution_count": null,
   "metadata": {
    "collapsed": true
   },
   "outputs": [],
   "source": [
    "import sys\n",
    "sys.path.append('../')\n",
    "import systemsounds as ss\n",
    "import numpy as np\n",
    "import rebound"
   ]
  },
  {
   "cell_type": "markdown",
   "metadata": {},
   "source": [
    "# Saturn"
   ]
  },
  {
   "cell_type": "code",
   "execution_count": 2,
   "metadata": {},
   "outputs": [
    {
     "name": "stdout",
     "output_type": "stream",
     "text": [
      "Searching NASA Horizons for 'Saturn'... Found: Saturn Barycenter (6).\n",
      "Searching NASA Horizons for 'Mimas'... Found: Mimas (601).\n",
      "Searching NASA Horizons for 'Enceladus'... Found: Enceladus (602).\n",
      "Searching NASA Horizons for 'Tethys'... Found: Tethys (603).\n",
      "Searching NASA Horizons for 'Dione'... Found: Dione (604).\n",
      "Searching NASA Horizons for 'Rhea'... Found: Rhea (605).\n",
      "Searching NASA Horizons for 'Titan'... Found: Titan (606).\n",
      "Searching NASA Horizons for 'Iapetus'... Found: Iapetus (608).\n",
      "1.3651720005602326\n"
     ]
    }
   ],
   "source": [
    "filename = \"saturn.bin\"\n",
    "#try:\n",
    "    #sim = rebound.Simulation.from_file(\"../binaries/\"+filename)\n",
    "#except:\n",
    "date = \"2017-06-04 05:00\" # barycentric dynamical time (sounded good but DOESN't work anymore, P<0, positions all very close)\n",
    "#date = \"2017-09-15 12:08\" # barycentric dynamical time\n",
    "#date = \"2017-06-17 02:00\" # barycentric dynamical time (24*4=96 orbits of mimas before plunge)\n",
    "#date = \"2017-09-12 05:37\" # barycentric dynamical time DOESN't work, P<0\n",
    "\n",
    "#grand finale: Sept. 15: Final signal received on Earth at 12:08 p.m. UTC (5:08 a.m. PDT)\n",
    "#Start of final orbit Apoapse Sep 12 5:37 a.m.UTC 10:37 p.m. PDT\n",
    "sim = rebound.Simulation()\n",
    "sim.add(\"Saturn\", date=date)  #sim.add(\"NAME=Saturn\", date=date) \n",
    "sim.add(\"Mimas\")\n",
    "sim.add(\"Enceladus\")\n",
    "sim.add(\"Tethys\")\n",
    "sim.add(\"Dione\")\n",
    "sim.add(\"Rhea\")\n",
    "sim.add(\"Titan\")\n",
    "sim.add(\"Iapetus\")\n",
    "print(sim.particles[-1].P)\n",
    "sim.move_to_com()\n",
    "\n",
    "ps = sim.particles\n",
    "sim2 = rebound.Simulation()\n",
    "sim2.add(m=ps[0].m)\n",
    "for p in ps[1:]:\n",
    "    sim2.add(m=p.m, a=p.a, e=p.e, pomega=p.pomega, theta=p.theta)\n",
    "sim2.move_to_com()\n",
    "sim2.save(\"../binaries/\"+filename)"
   ]
  },
  {
   "cell_type": "markdown",
   "metadata": {},
   "source": [
    "# Arbitrary System"
   ]
  },
  {
   "cell_type": "code",
   "execution_count": 8,
   "metadata": {},
   "outputs": [
    {
     "name": "stdout",
     "output_type": "stream",
     "text": [
      "---------------------------------\n",
      "REBOUND version:     \t3.5.2\n",
      "REBOUND built on:    \tJun 18 2017 23:59:37\n",
      "Number of particles: \t8\n",
      "Selected integrator: \tias15\n",
      "Simulation time:     \t0.0000000000000000e+00\n",
      "Current timestep:    \t0.001000\n",
      "---------------------------------\n",
      "<rebound.Particle object, m=1.0 x=0.0 y=0.0 z=0.0 vx=0.0 vy=0.0 vz=0.0>\n",
      "<rebound.Particle object, m=1e-06 x=-0.8716730871507681 y=0.49008777697168643 z=0.0 vx=-0.49008802201551366 vy=-0.8716735229872028 vz=0.0>\n",
      "<rebound.Particle object, m=1e-06 x=-0.730420639335784 y=0.22107500127562923 z=0.0 vx=-0.3316125884816464 vy=-1.0956316187971078 vz=0.0>\n",
      "<rebound.Particle object, m=1e-06 x=-0.5483225950433971 y=0.3101528539545719 z=0.0 vx=-0.6203060377411296 vy=-1.0966455981687016 vz=0.0>\n",
      "<rebound.Particle object, m=1e-06 x=0.38604180475603983 y=-0.34841232388606197 z=0.0 vx=0.929102670063341 vy=1.0294495420665808 vz=0.0>\n",
      "<rebound.Particle object, m=1e-06 x=-0.22664449864592479 y=-0.36455926768404756 z=0.0 vx=1.296215849705634 vy=-0.8058448820827234 vz=0.0>\n",
      "<rebound.Particle object, m=1e-06 x=-0.24712459638989193 y=0.25396156805471987 z=0.0 vx=-1.203967319067664 vy=-1.171550558246121 vz=0.0>\n",
      "<rebound.Particle object, m=1e-06 x=0.2831719546690383 y=-0.07331739202828155 z=0.0 vx=0.46344308555409647 vy=1.7899428296146758 vz=0.0>\n",
      "---------------------------------\n"
     ]
    }
   ],
   "source": [
    "import sys\n",
    "sys.path.append('../')\n",
    "import systemsounds as ss\n",
    "import numpy as np\n",
    "import rebound\n",
    "import random\n",
    "filename = \"newsystem.bin\"\n",
    "\n",
    "sim = rebound.Simulation()\n",
    "sim.add(m=1.)  #1 Solar mass\n",
    "a1=1.\n",
    "sim.add(m=1e-6, a=a1, e=0., inc=0., theta=2.*np.pi*np.random.rand())\n",
    "a2=a1*(3./2.)**(-2./3)  #semi-major axis of a perfect 5th above planet 1\n",
    "sim.add(m=1e-6, a=a2, theta=2.*np.pi*np.random.rand())\n",
    "a3=a2*(4./3.)**(-2./3)  #semi-major axis 4th above planet 2 (=a1*2**(-2./3))\n",
    "sim.add(m=1e-6, a=a3, theta=2.*np.pi*np.random.rand())\n",
    "'''\n",
    "a4=a3*(4./3.)**(-2./3)  #semi-major axis 4th above planet 2 (=a1*2**(-2./3))\n",
    "sim.add(m=1e-6, a=a4, theta=2.*np.pi*np.random.rand())\n",
    "a5=a4*(4./3.)**(-2./3)  #semi-major axis 4th above planet 2 (=a1*2**(-2./3))\n",
    "sim.add(m=1e-6, a=a5, theta=2.*np.pi*np.random.rand())\n",
    "a6=a5*(4./3.)**(-2./3)  #semi-major axis 4th above planet 2 (=a1*2**(-2./3))\n",
    "sim.add(m=1e-6, a=a6, theta=2.*np.pi*np.random.rand())\n",
    "a7=a6*(4./3.)**(-2./3)  #semi-major axis 4th above planet 2 (=a1*2**(-2./3))\n",
    "sim.add(m=1e-6, a=a7, theta=2.*np.pi*np.random.rand())\n",
    "'''\n",
    "sim.status()\n",
    "\n",
    "sim.move_to_com()\n",
    "sim.save(\"../binaries/\"+filename)"
   ]
  },
  {
   "cell_type": "markdown",
   "metadata": {},
   "source": [
    "# Janus and Epimetheus"
   ]
  },
  {
   "cell_type": "code",
   "execution_count": 11,
   "metadata": {},
   "outputs": [
    {
     "name": "stdout",
     "output_type": "stream",
     "text": [
      "Searching NASA Horizons for 'Saturn'... Found: Saturn Barycenter (6).\n",
      "Searching NASA Horizons for 'Epimetheus'... Found: Epimetheus (611).\n",
      "Searching NASA Horizons for 'Janus'... Found: Janus (610).\n"
     ]
    }
   ],
   "source": [
    "\n",
    "import sys\n",
    "sys.path.append('../')\n",
    "import systemsounds as ss\n",
    "import numpy as np\n",
    "import rebound\n",
    "filename = \"janus.bin\"\n",
    "#try:\n",
    "    #sim = rebound.Simulation.from_file(\"../binaries/\"+filename)\n",
    "#except:\n",
    "date = \"2017-06-04 00:57\"\n",
    "sim = rebound.Simulation()\n",
    "sim.add(\"Saturn\", date=date)\n",
    "sim.add(\"Epimetheus\", date=date)\n",
    "#print('Epimetheus a=',sim.particles[-1].a, 'P=',sim.particles[-1].P)\n",
    "sim.add(\"Janus\", date=date)\n",
    "#print('Janus a=',sim.particles[-1].a, 'P=',sim.particles[-1].P)\n",
    "sim.move_to_com()\n",
    "\n",
    "ps = sim.particles\n",
    "sim2 = rebound.Simulation()\n",
    "sim2.add(m=ps[0].m)\n",
    "for p in ps[1:]:\n",
    "    sim2.add(m=p.m, a=p.a, e=p.e, pomega=p.pomega, theta=p.theta)\n",
    "    \n",
    "#add ring of particles at Janus's 2:1 resonance\n",
    "a_Janus=sim.particles[-1].a\n",
    "N_ring=5\n",
    "for i in range(N_ring):\n",
    "    sim2.add(m=0.,a=a_Janus*2**(-2./3),theta=2.*np.pi/N_ring*i)\n",
    "    \n",
    "sim2.move_to_com()\n",
    "sim2.save(\"../binaries/\"+filename)"
   ]
  },
  {
   "cell_type": "markdown",
   "metadata": {},
   "source": [
    "# Solar System"
   ]
  },
  {
   "cell_type": "code",
   "execution_count": null,
   "metadata": {
    "collapsed": true
   },
   "outputs": [],
   "source": [
    "import sys\n",
    "sys.path.append('../')\n",
    "import systemsounds as ss\n",
    "import numpy as np\n",
    "import rebound\n",
    "filename = \"solarsystem.bin\"\n",
    "#try:\n",
    "    #sim = rebound.Simulation.from_file(\"../binaries/\"+filename)\n",
    "#except:\n",
    "date = \"1983-02-17 02:00\"\n",
    "date = \"2017-05-10 05:00\"\n",
    "\n",
    "sim = rebound.Simulation()\n",
    "sim.add(\"Sun\", date=date)\n",
    "sim.add(\"Mercury\", date=date)\n",
    "sim.add(\"Venus\", date=date)\n",
    "sim.add(\"Earth\", date=date)\n",
    "sim.add(\"Mars\", date=date)\n",
    "sim.add(\"Jupiter\", date=date)\n",
    "sim.add(\"Saturn\", date=date)\n",
    "sim.add(\"Uranus\", date=date)\n",
    "sim.add(\"Neptune\", date=date)\n",
    "sim.move_to_com()\n",
    "sim.save(\"../binaries/\"+filename)"
   ]
  },
  {
   "cell_type": "code",
   "execution_count": 4,
   "metadata": {},
   "outputs": [
    {
     "name": "stdout",
     "output_type": "stream",
     "text": [
      "Searching NASA Horizons for 'Sun'... Found: Sun (10).\n",
      "Searching NASA Horizons for 'Mercury'... Found: Mercury Barycenter (199).\n",
      "Searching NASA Horizons for 'Venus'... Found: Venus Barycenter (299).\n",
      "Searching NASA Horizons for 'Earth'... Found: Earth-Moon Barycenter (3).\n",
      "Searching NASA Horizons for 'Mars'... Found: Mars Barycenter (4).\n"
     ]
    }
   ],
   "source": [
    "import sys\n",
    "sys.path.append('../')\n",
    "import systemsounds as ss\n",
    "import numpy as np\n",
    "import rebound\n",
    "filename = \"solarsystemI.bin\"\n",
    "#try:\n",
    "    #sim = rebound.Simulation.from_file(\"../binaries/\"+filename)\n",
    "#except:\n",
    "date = \"1983-02-17 02:00\"\n",
    "date = \"2017-05-10 05:00\"\n",
    "\n",
    "sim = rebound.Simulation()\n",
    "sim.add(\"Sun\", date=date)\n",
    "sim.add(\"Mercury\", date=date)\n",
    "sim.add(\"Venus\", date=date)\n",
    "sim.add(\"Earth\", date=date)\n",
    "sim.add(\"Mars\", date=date)\n",
    "sim.move_to_com()\n",
    "sim.save(\"../binaries/\"+filename)"
   ]
  },
  {
   "cell_type": "markdown",
   "metadata": {},
   "source": [
    "# Asteroid Belt"
   ]
  },
  {
   "cell_type": "code",
   "execution_count": 18,
   "metadata": {},
   "outputs": [
    {
     "name": "stdout",
     "output_type": "stream",
     "text": [
      "['id' 'full_name' 'e' 'a' 'i' 'om' 'w' 'per_y' 'diameter']\n",
      "['a0000008' '     8 Flora' '0.157028745' '2.201405117' '5.886535185'\n",
      " '110.9009246' '285.3102149' '3.266315709' '147.491']\n",
      "Searching NASA Horizons for 'Sun'... "
     ]
    },
    {
     "ename": "timeout",
     "evalue": "timed out",
     "output_type": "error",
     "traceback": [
      "\u001b[0;31m---------------------------------------------------------------------------\u001b[0m",
      "\u001b[0;31mtimeout\u001b[0m                                   Traceback (most recent call last)",
      "\u001b[0;32m<ipython-input-18-eb658434b7e3>\u001b[0m in \u001b[0;36m<module>\u001b[0;34m()\u001b[0m\n\u001b[1;32m     34\u001b[0m \u001b[0;34m\u001b[0m\u001b[0m\n\u001b[1;32m     35\u001b[0m \u001b[0msim\u001b[0m \u001b[0;34m=\u001b[0m \u001b[0mrebound\u001b[0m\u001b[0;34m.\u001b[0m\u001b[0mSimulation\u001b[0m\u001b[0;34m(\u001b[0m\u001b[0;34m)\u001b[0m\u001b[0;34m\u001b[0m\u001b[0m\n\u001b[0;32m---> 36\u001b[0;31m \u001b[0msim\u001b[0m\u001b[0;34m.\u001b[0m\u001b[0madd\u001b[0m\u001b[0;34m(\u001b[0m\u001b[0;34m\"Sun\"\u001b[0m\u001b[0;34m,\u001b[0m \u001b[0mdate\u001b[0m\u001b[0;34m=\u001b[0m\u001b[0mdate\u001b[0m\u001b[0;34m)\u001b[0m\u001b[0;34m\u001b[0m\u001b[0m\n\u001b[0m\u001b[1;32m     37\u001b[0m \u001b[0msim\u001b[0m\u001b[0;34m.\u001b[0m\u001b[0madd\u001b[0m\u001b[0;34m(\u001b[0m\u001b[0mast_IDs\u001b[0m\u001b[0;34m[\u001b[0m\u001b[0;36m0\u001b[0m\u001b[0;34m]\u001b[0m\u001b[0;34m)\u001b[0m\u001b[0;34m\u001b[0m\u001b[0m\n\u001b[1;32m     38\u001b[0m \u001b[0msim\u001b[0m\u001b[0;34m.\u001b[0m\u001b[0madd\u001b[0m\u001b[0;34m(\u001b[0m\u001b[0;34m\"6 Hebe\"\u001b[0m\u001b[0;34m)\u001b[0m\u001b[0;34m\u001b[0m\u001b[0m\n",
      "\u001b[0;32m/Applications/anaconda/envs/venv/lib/python3.6/site-packages/rebound/simulation.py\u001b[0m in \u001b[0;36madd\u001b[0;34m(self, particle, **kwargs)\u001b[0m\n\u001b[1;32m   1006\u001b[0m                 \u001b[0;32mif\u001b[0m \u001b[0;32mNone\u001b[0m \u001b[0;32min\u001b[0m \u001b[0mself\u001b[0m\u001b[0;34m.\u001b[0m\u001b[0munits\u001b[0m\u001b[0;34m.\u001b[0m\u001b[0mvalues\u001b[0m\u001b[0;34m(\u001b[0m\u001b[0;34m)\u001b[0m\u001b[0;34m:\u001b[0m\u001b[0;34m\u001b[0m\u001b[0m\n\u001b[1;32m   1007\u001b[0m                     \u001b[0mself\u001b[0m\u001b[0;34m.\u001b[0m\u001b[0munits\u001b[0m \u001b[0;34m=\u001b[0m \u001b[0;34m(\u001b[0m\u001b[0;34m'AU'\u001b[0m\u001b[0;34m,\u001b[0m \u001b[0;34m'yr2pi'\u001b[0m\u001b[0;34m,\u001b[0m \u001b[0;34m'Msun'\u001b[0m\u001b[0;34m)\u001b[0m\u001b[0;34m\u001b[0m\u001b[0m\n\u001b[0;32m-> 1008\u001b[0;31m                 \u001b[0mself\u001b[0m\u001b[0;34m.\u001b[0m\u001b[0madd\u001b[0m\u001b[0;34m(\u001b[0m\u001b[0mhorizons\u001b[0m\u001b[0;34m.\u001b[0m\u001b[0mgetParticle\u001b[0m\u001b[0;34m(\u001b[0m\u001b[0mparticle\u001b[0m\u001b[0;34m,\u001b[0m \u001b[0;34m**\u001b[0m\u001b[0mkwargs\u001b[0m\u001b[0;34m)\u001b[0m\u001b[0;34m,\u001b[0m \u001b[0mhash\u001b[0m\u001b[0;34m=\u001b[0m\u001b[0mparticle\u001b[0m\u001b[0;34m)\u001b[0m\u001b[0;34m\u001b[0m\u001b[0m\n\u001b[0m\u001b[1;32m   1009\u001b[0m                 \u001b[0munits_convert_particle\u001b[0m\u001b[0;34m(\u001b[0m\u001b[0mself\u001b[0m\u001b[0;34m.\u001b[0m\u001b[0mparticles\u001b[0m\u001b[0;34m[\u001b[0m\u001b[0;34m-\u001b[0m\u001b[0;36m1\u001b[0m\u001b[0;34m]\u001b[0m\u001b[0;34m,\u001b[0m \u001b[0;34m'km'\u001b[0m\u001b[0;34m,\u001b[0m \u001b[0;34m's'\u001b[0m\u001b[0;34m,\u001b[0m \u001b[0;34m'kg'\u001b[0m\u001b[0;34m,\u001b[0m \u001b[0mself\u001b[0m\u001b[0;34m.\u001b[0m\u001b[0m_units\u001b[0m\u001b[0;34m[\u001b[0m\u001b[0;34m'length'\u001b[0m\u001b[0;34m]\u001b[0m\u001b[0;34m,\u001b[0m \u001b[0mself\u001b[0m\u001b[0;34m.\u001b[0m\u001b[0m_units\u001b[0m\u001b[0;34m[\u001b[0m\u001b[0;34m'time'\u001b[0m\u001b[0;34m]\u001b[0m\u001b[0;34m,\u001b[0m \u001b[0mself\u001b[0m\u001b[0;34m.\u001b[0m\u001b[0m_units\u001b[0m\u001b[0;34m[\u001b[0m\u001b[0;34m'mass'\u001b[0m\u001b[0;34m]\u001b[0m\u001b[0;34m)\u001b[0m\u001b[0;34m\u001b[0m\u001b[0m\n\u001b[1;32m   1010\u001b[0m             \u001b[0;32melse\u001b[0m\u001b[0;34m:\u001b[0m\u001b[0;34m\u001b[0m\u001b[0m\n",
      "\u001b[0;32m/Applications/anaconda/envs/venv/lib/python3.6/site-packages/rebound/horizons.py\u001b[0m in \u001b[0;36mgetParticle\u001b[0;34m(particle, m, x, y, z, vx, vy, vz, primary, a, anom, e, omega, inc, Omega, MEAN, date, plane)\u001b[0m\n\u001b[1;32m     41\u001b[0m \u001b[0;34m\u001b[0m\u001b[0m\n\u001b[1;32m     42\u001b[0m     \u001b[0mt\u001b[0m \u001b[0;34m=\u001b[0m \u001b[0mtelnetlib\u001b[0m\u001b[0;34m.\u001b[0m\u001b[0mTelnet\u001b[0m\u001b[0;34m(\u001b[0m\u001b[0;34m)\u001b[0m\u001b[0;34m\u001b[0m\u001b[0m\n\u001b[0;32m---> 43\u001b[0;31m     \u001b[0mt\u001b[0m\u001b[0;34m.\u001b[0m\u001b[0mopen\u001b[0m\u001b[0;34m(\u001b[0m\u001b[0;34m'horizons.jpl.nasa.gov'\u001b[0m\u001b[0;34m,\u001b[0m \u001b[0;36m6775\u001b[0m\u001b[0;34m,\u001b[0m \u001b[0;36m20\u001b[0m\u001b[0;34m)\u001b[0m\u001b[0;34m\u001b[0m\u001b[0m\n\u001b[0m\u001b[1;32m     44\u001b[0m     expect = ( ( b'Horizons>', particle+'\\n' ),\n\u001b[1;32m     45\u001b[0m                \u001b[0;34m(\u001b[0m \u001b[0;34mb'Continue.*:'\u001b[0m\u001b[0;34m,\u001b[0m \u001b[0;34m'y\\n'\u001b[0m \u001b[0;34m)\u001b[0m\u001b[0;34m,\u001b[0m\u001b[0;34m\u001b[0m\u001b[0m\n",
      "\u001b[0;32m/Applications/anaconda/envs/venv/lib/python3.6/telnetlib.py\u001b[0m in \u001b[0;36mopen\u001b[0;34m(self, host, port, timeout)\u001b[0m\n\u001b[1;32m    232\u001b[0m         \u001b[0mself\u001b[0m\u001b[0;34m.\u001b[0m\u001b[0mport\u001b[0m \u001b[0;34m=\u001b[0m \u001b[0mport\u001b[0m\u001b[0;34m\u001b[0m\u001b[0m\n\u001b[1;32m    233\u001b[0m         \u001b[0mself\u001b[0m\u001b[0;34m.\u001b[0m\u001b[0mtimeout\u001b[0m \u001b[0;34m=\u001b[0m \u001b[0mtimeout\u001b[0m\u001b[0;34m\u001b[0m\u001b[0m\n\u001b[0;32m--> 234\u001b[0;31m         \u001b[0mself\u001b[0m\u001b[0;34m.\u001b[0m\u001b[0msock\u001b[0m \u001b[0;34m=\u001b[0m \u001b[0msocket\u001b[0m\u001b[0;34m.\u001b[0m\u001b[0mcreate_connection\u001b[0m\u001b[0;34m(\u001b[0m\u001b[0;34m(\u001b[0m\u001b[0mhost\u001b[0m\u001b[0;34m,\u001b[0m \u001b[0mport\u001b[0m\u001b[0;34m)\u001b[0m\u001b[0;34m,\u001b[0m \u001b[0mtimeout\u001b[0m\u001b[0;34m)\u001b[0m\u001b[0;34m\u001b[0m\u001b[0m\n\u001b[0m\u001b[1;32m    235\u001b[0m \u001b[0;34m\u001b[0m\u001b[0m\n\u001b[1;32m    236\u001b[0m     \u001b[0;32mdef\u001b[0m \u001b[0m__del__\u001b[0m\u001b[0;34m(\u001b[0m\u001b[0mself\u001b[0m\u001b[0;34m)\u001b[0m\u001b[0;34m:\u001b[0m\u001b[0;34m\u001b[0m\u001b[0m\n",
      "\u001b[0;32m/Applications/anaconda/envs/venv/lib/python3.6/socket.py\u001b[0m in \u001b[0;36mcreate_connection\u001b[0;34m(address, timeout, source_address)\u001b[0m\n\u001b[1;32m    720\u001b[0m \u001b[0;34m\u001b[0m\u001b[0m\n\u001b[1;32m    721\u001b[0m     \u001b[0;32mif\u001b[0m \u001b[0merr\u001b[0m \u001b[0;32mis\u001b[0m \u001b[0;32mnot\u001b[0m \u001b[0;32mNone\u001b[0m\u001b[0;34m:\u001b[0m\u001b[0;34m\u001b[0m\u001b[0m\n\u001b[0;32m--> 722\u001b[0;31m         \u001b[0;32mraise\u001b[0m \u001b[0merr\u001b[0m\u001b[0;34m\u001b[0m\u001b[0m\n\u001b[0m\u001b[1;32m    723\u001b[0m     \u001b[0;32melse\u001b[0m\u001b[0;34m:\u001b[0m\u001b[0;34m\u001b[0m\u001b[0m\n\u001b[1;32m    724\u001b[0m         \u001b[0;32mraise\u001b[0m \u001b[0merror\u001b[0m\u001b[0;34m(\u001b[0m\u001b[0;34m\"getaddrinfo returns an empty list\"\u001b[0m\u001b[0;34m)\u001b[0m\u001b[0;34m\u001b[0m\u001b[0m\n",
      "\u001b[0;32m/Applications/anaconda/envs/venv/lib/python3.6/socket.py\u001b[0m in \u001b[0;36mcreate_connection\u001b[0;34m(address, timeout, source_address)\u001b[0m\n\u001b[1;32m    711\u001b[0m             \u001b[0;32mif\u001b[0m \u001b[0msource_address\u001b[0m\u001b[0;34m:\u001b[0m\u001b[0;34m\u001b[0m\u001b[0m\n\u001b[1;32m    712\u001b[0m                 \u001b[0msock\u001b[0m\u001b[0;34m.\u001b[0m\u001b[0mbind\u001b[0m\u001b[0;34m(\u001b[0m\u001b[0msource_address\u001b[0m\u001b[0;34m)\u001b[0m\u001b[0;34m\u001b[0m\u001b[0m\n\u001b[0;32m--> 713\u001b[0;31m             \u001b[0msock\u001b[0m\u001b[0;34m.\u001b[0m\u001b[0mconnect\u001b[0m\u001b[0;34m(\u001b[0m\u001b[0msa\u001b[0m\u001b[0;34m)\u001b[0m\u001b[0;34m\u001b[0m\u001b[0m\n\u001b[0m\u001b[1;32m    714\u001b[0m             \u001b[0;32mreturn\u001b[0m \u001b[0msock\u001b[0m\u001b[0;34m\u001b[0m\u001b[0m\n\u001b[1;32m    715\u001b[0m \u001b[0;34m\u001b[0m\u001b[0m\n",
      "\u001b[0;31mtimeout\u001b[0m: timed out"
     ]
    }
   ],
   "source": [
    "import sys\n",
    "sys.path.append('../')\n",
    "import systemsounds as ss\n",
    "import numpy as np\n",
    "import rebound\n",
    "import pandas as pd\n",
    "filename = \"asteroidbelt.bin\"\n",
    "#try:\n",
    "    #sim = rebound.Simulation.from_file(\"../binaries/\"+filename)\n",
    "#except:\n",
    "\n",
    "data='asteroids_100.csv'   #choose minium size to include, 10 or 100 km\n",
    "asteroids=pd.read_csv(data, sep=',',header=None)\n",
    "header=asteroids.values[0]\n",
    "print(header)\n",
    "print(asteroids.values[1])\n",
    "\n",
    "ast_IDs=[]\n",
    "ast_names=[]\n",
    "ast_as=[]\n",
    "ast_freqs=[]\n",
    "ast_notes=[]\n",
    "ast_D=[]\n",
    "ast_es=[]\n",
    "\n",
    "a_max = 5.\n",
    "for i in range(1,len(asteroids.values)):\n",
    "    if float(asteroids.values[i][3])<a_max:\n",
    "        ast_IDs.append(asteroids.values[i][0])\n",
    "        ast_names.append(asteroids.values[i][1])\n",
    "#print(ast_IDs)\n",
    "        \n",
    "date = \"2017-05-10 05:00\"\n",
    "\n",
    "sim = rebound.Simulation()\n",
    "sim.add(\"Sun\", date=date)\n",
    "sim.add(ast_IDs[0])\n",
    "sim.add(\"6 Hebe\")\n",
    "\n",
    "sim.move_to_com()\n",
    "sim.save(\"../binaries/\"+filename)\n"
   ]
  },
  {
   "cell_type": "code",
   "execution_count": null,
   "metadata": {
    "collapsed": true
   },
   "outputs": [],
   "source": [
    "#a0000006 130.31 C3 -6.7 cents      6 Hebe\n",
    "#a0000046 122.61 B2 -12.1 cents     46 Hestia\n",
    "#a0000146 109.83 A2 -2.6 cents    146 Lucina\n",
    "#a0000266 104.74 G#2 +15.2 cents    266 Aline\n",
    "#a0000776 98.06 G2 +1.0 cents    776 Berbericia (1914 TY)\n",
    "#a0000488 87.22 F2 -1.7 cents    488 Kreusa (1902 JG)\n",
    "#a0000334 64.05 C2 -36.4 cents    334 Chicago (1892 L) 198.77"
   ]
  },
  {
   "cell_type": "markdown",
   "metadata": {},
   "source": [
    "# Calculate Pitches"
   ]
  },
  {
   "cell_type": "code",
   "execution_count": 28,
   "metadata": {},
   "outputs": [
    {
     "name": "stdout",
     "output_type": "stream",
     "text": [
      "\n",
      "Notes and offsets:\n",
      "Planet 1 : G#2 -12.7 cents  =  103.07 Hz\n",
      "Planet 2 : A#1 -36.4 cents  =  57.06 Hz\n",
      "Planet 3 : E1 +8.4 cents  =  41.4 Hz\n",
      "Planet 4 : B0 +43.8 cents  =  31.66 Hz\n",
      "Planet 5 : F0 +39.2 cents  =  22.33 Hz\n",
      "Planet 6 : A#-2 +6.6 cents  =  7.31 Hz\n",
      "Planet 7 : F#-4 +13.9 cents  =  1.46 Hz\n"
     ]
    }
   ],
   "source": [
    "notenames = [\"C\", \"C#\", \"D\", \"D#\", \"E\", \"F\", \"F#\", \"G\", \"G#\", \"A\", \"A#\", \"B\"]\n",
    "A4 = 440\n",
    "C0 = A4*pow(2, -4.75)\n",
    "C4=C0*pow(2, 4)\n",
    "\n",
    "def pitch(freq):\n",
    "    h = int(round(12*np.log2(freq/C0)))\n",
    "    octave = h // 12\n",
    "    n = h % 12\n",
    "    f0=C0*2**(h/12.)\n",
    "    cent = 1200*np.log2(freq/f0)\n",
    "    #return name[n] + str(octave) + ' + '+str(round(cent,1)) +' cents'\n",
    "    return '{0} {1:+.1f} cents'.format(notenames[n]+str(octave),cent)\n",
    "\n",
    "filename = \"../binaries/saturn.bin\"\n",
    "sim = rebound.Simulation.from_file(filename)\n",
    "\n",
    "basefreq=C4 #or 1/timescale*2**octave\n",
    "basefreq=103.068333727\n",
    "baseperiod=sim.particles[1].P\n",
    "freqs=[basefreq*baseperiod/sim.particles[i].P for i in range(1,sim.N)]\n",
    "\n",
    "print('\\nNotes and offsets:')\n",
    "for i in range(1,sim.N):\n",
    "    print('Planet '+str(i)+' : '+ pitch(freqs[i-1]),' = ',np.round(freqs[i-1],2), 'Hz')"
   ]
  },
  {
   "cell_type": "code",
   "execution_count": 16,
   "metadata": {},
   "outputs": [
    {
     "name": "stdout",
     "output_type": "stream",
     "text": [
      "[103.068333727, 58.666437667350635, 38.85028963839458, 24.839169084682965, 13.600286058304766, 1.8832410884449529, -0.1726740998045721]\n"
     ]
    }
   ],
   "source": [
    "print(freqs)"
   ]
  },
  {
   "cell_type": "code",
   "execution_count": null,
   "metadata": {
    "collapsed": true
   },
   "outputs": [],
   "source": [
    "filename = \"../binaries/solarsystem.bin\"\n",
    "sim = rebound.Simulation.from_file(filename)\n",
    "sim.t = 0\n",
    "ss.rescale_time(sim, sim.particles[3].P) #Earth"
   ]
  },
  {
   "cell_type": "code",
   "execution_count": 6,
   "metadata": {
    "collapsed": true
   },
   "outputs": [],
   "source": [
    "transits = ss.EventRecorder(sim, lambda sim, i: sim.particles[i].y, targets=[])\n",
    "conjunctions = ss.EventRecorder(sim, lambda sim, i: np.sin(sim.particles[i].theta - sim.particles[i+1].theta), targets=[])"
   ]
  },
  {
   "cell_type": "markdown",
   "metadata": {},
   "source": [
    "We start by staggering in the planet transits, 4 outer planet orbits at a time, from the outside inward, by changing `transits.targets`."
   ]
  },
  {
   "cell_type": "code",
   "execution_count": 7,
   "metadata": {},
   "outputs": [
    {
     "name": "stdout",
     "output_type": "stream",
     "text": [
      "[7]\n",
      "[6, 7]\n",
      "[5, 6, 7]\n",
      "[4, 5, 6, 7]\n",
      "[3, 4, 5, 6, 7]\n",
      "[2, 3, 4, 5, 6, 7]\n",
      "[1, 2, 3, 4, 5, 6, 7]\n"
     ]
    }
   ],
   "source": [
    "planets = list(range(sim.N))\n",
    "for i in range(1,8):\n",
    "    ps = planets[-i:]\n",
    "    transits.targets = ps\n",
    "    print(transits.targets)\n",
    "    sim.integrate(tmax=sim.t+4)"
   ]
  },
  {
   "cell_type": "markdown",
   "metadata": {},
   "source": [
    "We now stagger in conjunctions starting from the outermost pair, leaving in all the planets for the transits:"
   ]
  },
  {
   "cell_type": "code",
   "execution_count": 8,
   "metadata": {},
   "outputs": [
    {
     "name": "stdout",
     "output_type": "stream",
     "text": [
      "[6]\n",
      "[5, 6]\n",
      "[4, 5, 6]\n",
      "[3, 4, 5, 6]\n",
      "[2, 3, 4, 5, 6]\n",
      "[1, 2, 3, 4, 5, 6]\n"
     ]
    }
   ],
   "source": [
    "planets = list(range(sim.N-1))\n",
    "for i in range(1,7):\n",
    "    ps = planets[-i:]\n",
    "    conjunctions.targets = ps\n",
    "    print(conjunctions.targets)\n",
    "    sim.integrate(tmax=sim.t+4)"
   ]
  },
  {
   "cell_type": "code",
   "execution_count": null,
   "metadata": {
    "collapsed": true
   },
   "outputs": [],
   "source": [
    "planets = list(range(sim.N))\n",
    "ps = planets\n",
    "for i in range(100):\n",
    "    transits.targets = ps\n",
    "    print(transits.targets)\n",
    "    sim.integrate(tmax=sim.t+4)"
   ]
  },
  {
   "cell_type": "markdown",
   "metadata": {},
   "source": [
    "# Making the MIDI\n",
    "\n",
    "We need to set a tempo in beats per minute, where 1 beat corresponds to one time unit in the simulation. Here we set bpm=30, which means that there are 2 seconds per simulation time unit = one outer planet orbit. We then make the MIDI file and set the tempo:"
   ]
  },
  {
   "cell_type": "code",
   "execution_count": 9,
   "metadata": {
    "collapsed": true
   },
   "outputs": [],
   "source": [
    "from midiutil import MIDIFile\n",
    "\n",
    "bpm = 30\n",
    "midifile = MIDIFile(adjust_origin=True)\n",
    "midifile.addTempo(track=0, time=0, tempo=bpm) "
   ]
  },
  {
   "cell_type": "markdown",
   "metadata": {},
   "source": [
    "Now we need to decide on MIDI notes for the transits and conjunctions. We use the `calc_midi_notes` function to scale all notes relative to the outermost (ref_ID=-1) particle, and assign to that planet a MIDI note of 48=C4. See e.g.  http://subsynth.sourceforge.net/midinote2freq.html for a list of MIDI notes. We then manually assign notes to the conjunctions.\n",
    "\n",
    "Finally, we step through the list of transits and conjunctions, and add the corresponding note for each of them, depending on the transiting planet or conjunction pair, at the time of the event. One can also set the note duration and velocity (volume). Here we add planet transits onto separate channels, and the conjunctions all into one channel above the others."
   ]
  },
  {
   "cell_type": "code",
   "execution_count": 10,
   "metadata": {
    "collapsed": true
   },
   "outputs": [],
   "source": [
    "transit_notes = ss.calc_midi_notes(sim.particles, ref_note=48, ref_ID=-1)\n",
    "conjunction_notes = [0, 33, 35, 20, 18, 14, 12]\n",
    "\n",
    "for transit in transits.events:\n",
    "    midifile.addNote(track=0, channel=transit['target'], pitch=transit_notes[transit['target']], time=transit['time'], duration=1, volume=100)\n",
    "for conjunction in conjunctions.events:\n",
    "    midifile.addNote(track=0, channel=sim.N, pitch=conjunction_notes[conjunction['target']], time=conjunction['time'], duration=1, volume=100)"
   ]
  },
  {
   "cell_type": "markdown",
   "metadata": {},
   "source": [
    "Finally, we write the file:"
   ]
  },
  {
   "cell_type": "code",
   "execution_count": 11,
   "metadata": {
    "collapsed": true
   },
   "outputs": [],
   "source": [
    "with open(\"./trappist.mid\", \"wb\") as f:\n",
    "    midifile.writeFile(f)"
   ]
  },
  {
   "cell_type": "code",
   "execution_count": null,
   "metadata": {
    "collapsed": true
   },
   "outputs": [],
   "source": []
  }
 ],
 "metadata": {
  "kernelspec": {
   "display_name": "Python 3",
   "language": "python",
   "name": "python3"
  },
  "language_info": {
   "codemirror_mode": {
    "name": "ipython",
    "version": 3
   },
   "file_extension": ".py",
   "mimetype": "text/x-python",
   "name": "python",
   "nbconvert_exporter": "python",
   "pygments_lexer": "ipython3",
   "version": "3.6.1"
  }
 },
 "nbformat": 4,
 "nbformat_minor": 2
}
