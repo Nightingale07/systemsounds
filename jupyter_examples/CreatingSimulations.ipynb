{
 "cells": [
  {
   "cell_type": "markdown",
   "metadata": {},
   "source": [
    "http://rebound.readthedocs.io/en/latest/ipython/Horizons.html"
   ]
  },
  {
   "cell_type": "code",
   "execution_count": null,
   "metadata": {
    "collapsed": true
   },
   "outputs": [],
   "source": [
    "import sys\n",
    "sys.path.append('../')\n",
    "import systemsounds as ss\n",
    "import numpy as np\n",
    "import rebound"
   ]
  },
  {
   "cell_type": "markdown",
   "metadata": {},
   "source": [
    "# Saturn"
   ]
  },
  {
   "cell_type": "code",
   "execution_count": 2,
   "metadata": {},
   "outputs": [
    {
     "name": "stdout",
     "output_type": "stream",
     "text": [
      "Searching NASA Horizons for 'Saturn'... Found: Saturn Barycenter (6).\n",
      "Searching NASA Horizons for 'Mimas'... Found: Mimas (601).\n",
      "Searching NASA Horizons for 'Enceladus'... Found: Enceladus (602).\n",
      "Searching NASA Horizons for 'Tethys'... Found: Tethys (603).\n",
      "Searching NASA Horizons for 'Dione'... Found: Dione (604).\n",
      "Searching NASA Horizons for 'Rhea'... Found: Rhea (605).\n",
      "Searching NASA Horizons for 'Titan'... Found: Titan (606).\n",
      "Searching NASA Horizons for 'Iapetus'... Found: Iapetus (608).\n",
      "1.3651720005602326\n"
     ]
    }
   ],
   "source": [
    "filename = \"saturn.bin\"\n",
    "#try:\n",
    "    #sim = rebound.Simulation.from_file(\"../binaries/\"+filename)\n",
    "#except:\n",
    "date = \"2017-06-04 05:00\" # barycentric dynamical time (sounded good but DOESN't work anymore, P<0, positions all very close)\n",
    "#date = \"2017-09-15 12:08\" # barycentric dynamical time\n",
    "#date = \"2017-06-17 02:00\" # barycentric dynamical time (24*4=96 orbits of mimas before plunge)\n",
    "#date = \"2017-09-12 05:37\" # barycentric dynamical time DOESN't work, P<0\n",
    "\n",
    "#grand finale: Sept. 15: Final signal received on Earth at 12:08 p.m. UTC (5:08 a.m. PDT)\n",
    "#Start of final orbit Apoapse Sep 12 5:37 a.m.UTC 10:37 p.m. PDT\n",
    "sim = rebound.Simulation()\n",
    "sim.add(\"Saturn\", date=date)  #sim.add(\"NAME=Saturn\", date=date) \n",
    "sim.add(\"Mimas\")\n",
    "sim.add(\"Enceladus\")\n",
    "sim.add(\"Tethys\")\n",
    "sim.add(\"Dione\")\n",
    "sim.add(\"Rhea\")\n",
    "sim.add(\"Titan\")\n",
    "sim.add(\"Iapetus\")\n",
    "print(sim.particles[-1].P)\n",
    "sim.move_to_com()\n",
    "\n",
    "ps = sim.particles\n",
    "sim2 = rebound.Simulation()\n",
    "sim2.add(m=ps[0].m)\n",
    "for p in ps[1:]:\n",
    "    sim2.add(m=p.m, a=p.a, e=p.e, pomega=p.pomega, theta=p.theta)\n",
    "sim2.move_to_com()\n",
    "sim2.save(\"../binaries/\"+filename)"
   ]
  },
  {
   "cell_type": "markdown",
   "metadata": {},
   "source": [
    "# Arbitrary System"
   ]
  },
  {
   "cell_type": "code",
   "execution_count": 8,
   "metadata": {},
   "outputs": [
    {
     "name": "stdout",
     "output_type": "stream",
     "text": [
      "---------------------------------\n",
      "REBOUND version:     \t3.5.2\n",
      "REBOUND built on:    \tJun 18 2017 23:59:37\n",
      "Number of particles: \t8\n",
      "Selected integrator: \tias15\n",
      "Simulation time:     \t0.0000000000000000e+00\n",
      "Current timestep:    \t0.001000\n",
      "---------------------------------\n",
      "<rebound.Particle object, m=1.0 x=0.0 y=0.0 z=0.0 vx=0.0 vy=0.0 vz=0.0>\n",
      "<rebound.Particle object, m=1e-06 x=-0.8716730871507681 y=0.49008777697168643 z=0.0 vx=-0.49008802201551366 vy=-0.8716735229872028 vz=0.0>\n",
      "<rebound.Particle object, m=1e-06 x=-0.730420639335784 y=0.22107500127562923 z=0.0 vx=-0.3316125884816464 vy=-1.0956316187971078 vz=0.0>\n",
      "<rebound.Particle object, m=1e-06 x=-0.5483225950433971 y=0.3101528539545719 z=0.0 vx=-0.6203060377411296 vy=-1.0966455981687016 vz=0.0>\n",
      "<rebound.Particle object, m=1e-06 x=0.38604180475603983 y=-0.34841232388606197 z=0.0 vx=0.929102670063341 vy=1.0294495420665808 vz=0.0>\n",
      "<rebound.Particle object, m=1e-06 x=-0.22664449864592479 y=-0.36455926768404756 z=0.0 vx=1.296215849705634 vy=-0.8058448820827234 vz=0.0>\n",
      "<rebound.Particle object, m=1e-06 x=-0.24712459638989193 y=0.25396156805471987 z=0.0 vx=-1.203967319067664 vy=-1.171550558246121 vz=0.0>\n",
      "<rebound.Particle object, m=1e-06 x=0.2831719546690383 y=-0.07331739202828155 z=0.0 vx=0.46344308555409647 vy=1.7899428296146758 vz=0.0>\n",
      "---------------------------------\n"
     ]
    }
   ],
   "source": [
    "import sys\n",
    "sys.path.append('../')\n",
    "import systemsounds as ss\n",
    "import numpy as np\n",
    "import rebound\n",
    "import random\n",
    "filename = \"newsystem.bin\"\n",
    "\n",
    "sim = rebound.Simulation()\n",
    "sim.add(m=1.)  #1 Solar mass\n",
    "a1=1.\n",
    "sim.add(m=1e-6, a=a1, e=0., inc=0., theta=2.*np.pi*np.random.rand())\n",
    "a2=a1*(3./2.)**(-2./3)  #semi-major axis of a perfect 5th above planet 1\n",
    "sim.add(m=1e-6, a=a2, theta=2.*np.pi*np.random.rand())\n",
    "a3=a2*(4./3.)**(-2./3)  #semi-major axis 4th above planet 2 (=a1*2**(-2./3))\n",
    "sim.add(m=1e-6, a=a3, theta=2.*np.pi*np.random.rand())\n",
    "'''\n",
    "a4=a3*(4./3.)**(-2./3)  #semi-major axis 4th above planet 2 (=a1*2**(-2./3))\n",
    "sim.add(m=1e-6, a=a4, theta=2.*np.pi*np.random.rand())\n",
    "a5=a4*(4./3.)**(-2./3)  #semi-major axis 4th above planet 2 (=a1*2**(-2./3))\n",
    "sim.add(m=1e-6, a=a5, theta=2.*np.pi*np.random.rand())\n",
    "a6=a5*(4./3.)**(-2./3)  #semi-major axis 4th above planet 2 (=a1*2**(-2./3))\n",
    "sim.add(m=1e-6, a=a6, theta=2.*np.pi*np.random.rand())\n",
    "a7=a6*(4./3.)**(-2./3)  #semi-major axis 4th above planet 2 (=a1*2**(-2./3))\n",
    "sim.add(m=1e-6, a=a7, theta=2.*np.pi*np.random.rand())\n",
    "'''\n",
    "sim.status()\n",
    "\n",
    "sim.move_to_com()\n",
    "sim.save(\"../binaries/\"+filename)"
   ]
  },
  {
   "cell_type": "markdown",
   "metadata": {},
   "source": [
    "# Janus and Epimetheus"
   ]
  },
  {
   "cell_type": "code",
   "execution_count": 11,
   "metadata": {},
   "outputs": [
    {
     "name": "stdout",
     "output_type": "stream",
     "text": [
      "Searching NASA Horizons for 'Saturn'... Found: Saturn Barycenter (6).\n",
      "Searching NASA Horizons for 'Epimetheus'... Found: Epimetheus (611).\n",
      "Searching NASA Horizons for 'Janus'... Found: Janus (610).\n"
     ]
    }
   ],
   "source": [
    "\n",
    "import sys\n",
    "sys.path.append('../')\n",
    "import systemsounds as ss\n",
    "import numpy as np\n",
    "import rebound\n",
    "filename = \"janus.bin\"\n",
    "#try:\n",
    "    #sim = rebound.Simulation.from_file(\"../binaries/\"+filename)\n",
    "#except:\n",
    "date = \"2017-06-04 00:57\"\n",
    "sim = rebound.Simulation()\n",
    "sim.add(\"Saturn\", date=date)\n",
    "sim.add(\"Epimetheus\", date=date)\n",
    "#print('Epimetheus a=',sim.particles[-1].a, 'P=',sim.particles[-1].P)\n",
    "sim.add(\"Janus\", date=date)\n",
    "#print('Janus a=',sim.particles[-1].a, 'P=',sim.particles[-1].P)\n",
    "sim.move_to_com()\n",
    "\n",
    "ps = sim.particles\n",
    "sim2 = rebound.Simulation()\n",
    "sim2.add(m=ps[0].m)\n",
    "for p in ps[1:]:\n",
    "    sim2.add(m=p.m, a=p.a, e=p.e, pomega=p.pomega, theta=p.theta)\n",
    "    \n",
    "#add ring of particles at Janus's 2:1 resonance\n",
    "a_Janus=sim.particles[-1].a\n",
    "N_ring=5\n",
    "for i in range(N_ring):\n",
    "    sim2.add(m=0.,a=a_Janus*2**(-2./3),theta=2.*np.pi/N_ring*i)\n",
    "    \n",
    "sim2.move_to_com()\n",
    "sim2.save(\"../binaries/\"+filename)"
   ]
  },
  {
   "cell_type": "markdown",
   "metadata": {},
   "source": [
    "# Janus Resonances"
   ]
  },
  {
   "cell_type": "code",
   "execution_count": 68,
   "metadata": {},
   "outputs": [
    {
     "name": "stdout",
     "output_type": "stream",
     "text": [
      "Searching NASA Horizons for 'Saturn'... Found: Saturn Barycenter (6).\n",
      "Searching NASA Horizons for 'Janus'... Found: Janus (610).\n",
      "Searching NASA Horizons for 'Epimetheus'... Found: Epimetheus (611).\n",
      "Searching NASA Horizons for 'Janus'... Found: Janus (610).\n"
     ]
    }
   ],
   "source": [
    "\n",
    "import sys\n",
    "sys.path.append('../')\n",
    "import systemsounds as ss\n",
    "import numpy as np\n",
    "import rebound\n",
    "filename = \"janus_all.bin\"\n",
    "#try:\n",
    "    #sim = rebound.Simulation.from_file(\"../binaries/\"+filename)\n",
    "#except:\n",
    "date = \"2017-06-04 00:57\"\n",
    "sim = rebound.Simulation()\n",
    "sim.add(\"Saturn\", date=date)\n",
    "#sim.add(\"Epimetheus\", date=date)\n",
    "#print('Epimetheus a=',sim.particles[-1].a, 'P=',sim.particles[-1].P)\n",
    "sim.add(\"Janus\", date=date)\n",
    "#print('Janus a=',sim.particles[-1].a, 'P=',sim.particles[-1].P)\n",
    "sim.move_to_com()\n",
    "\n",
    "ps = sim.particles\n",
    "sim2 = rebound.Simulation()\n",
    "sim2.add(m=ps[0].m)\n",
    "for p in ps[1:]:\n",
    "    sim2.add(m=p.m, a=p.a, e=p.e, pomega=p.pomega, theta=p.theta)\n",
    "    \n",
    "#add ring of particles at Janus's 2:1 resonance\n",
    "a_Janus=sim.particles[-1].a\n",
    "sim.remove(1)\n",
    "\n",
    "for m in [7,6,5,4,3,2]:\n",
    "    N_ring=5\n",
    "    for i in range(N_ring):\n",
    "        sim2.add(m=0.,a=a_Janus*(m/(m-1))**(-2./3),theta=2.*np.pi/N_ring*i)\n",
    "        \n",
    "sim.add(\"Epimetheus\", date=date)\n",
    "sim.add(\"Janus\", date=date)\n",
    "sim2.move_to_com()\n",
    "sim2.save(\"../binaries/\"+filename)"
   ]
  },
  {
   "cell_type": "markdown",
   "metadata": {},
   "source": [
    "# Solar System"
   ]
  },
  {
   "cell_type": "code",
   "execution_count": null,
   "metadata": {
    "collapsed": true
   },
   "outputs": [],
   "source": [
    "import sys\n",
    "sys.path.append('../')\n",
    "import systemsounds as ss\n",
    "import numpy as np\n",
    "import rebound\n",
    "filename = \"solarsystem.bin\"\n",
    "#try:\n",
    "    #sim = rebound.Simulation.from_file(\"../binaries/\"+filename)\n",
    "#except:\n",
    "date = \"1983-02-17 02:00\"\n",
    "date = \"2017-05-10 05:00\"\n",
    "\n",
    "sim = rebound.Simulation()\n",
    "sim.add(\"Sun\", date=date)\n",
    "sim.add(\"Mercury\", date=date)\n",
    "sim.add(\"Venus\", date=date)\n",
    "sim.add(\"Earth\", date=date)\n",
    "sim.add(\"Mars\", date=date)\n",
    "sim.add(\"Jupiter\", date=date)\n",
    "sim.add(\"Saturn\", date=date)\n",
    "sim.add(\"Uranus\", date=date)\n",
    "sim.add(\"Neptune\", date=date)\n",
    "sim.move_to_com()\n",
    "sim.save(\"../binaries/\"+filename)"
   ]
  },
  {
   "cell_type": "code",
   "execution_count": 4,
   "metadata": {},
   "outputs": [
    {
     "name": "stdout",
     "output_type": "stream",
     "text": [
      "Searching NASA Horizons for 'Sun'... Found: Sun (10).\n",
      "Searching NASA Horizons for 'Mercury'... Found: Mercury Barycenter (199).\n",
      "Searching NASA Horizons for 'Venus'... Found: Venus Barycenter (299).\n",
      "Searching NASA Horizons for 'Earth'... Found: Earth-Moon Barycenter (3).\n",
      "Searching NASA Horizons for 'Mars'... Found: Mars Barycenter (4).\n"
     ]
    }
   ],
   "source": [
    "import sys\n",
    "sys.path.append('../')\n",
    "import systemsounds as ss\n",
    "import numpy as np\n",
    "import rebound\n",
    "filename = \"solarsystemI.bin\"\n",
    "#try:\n",
    "    #sim = rebound.Simulation.from_file(\"../binaries/\"+filename)\n",
    "#except:\n",
    "date = \"1983-02-17 02:00\"\n",
    "date = \"2017-05-10 05:00\"\n",
    "\n",
    "sim = rebound.Simulation()\n",
    "sim.add(\"Sun\", date=date)\n",
    "sim.add(\"Mercury\", date=date)\n",
    "sim.add(\"Venus\", date=date)\n",
    "sim.add(\"Earth\", date=date)\n",
    "sim.add(\"Mars\", date=date)\n",
    "sim.move_to_com()\n",
    "sim.save(\"../binaries/\"+filename)"
   ]
  },
  {
   "cell_type": "markdown",
   "metadata": {},
   "source": [
    "# Asteroid Belt"
   ]
  },
  {
   "cell_type": "code",
   "execution_count": 70,
   "metadata": {},
   "outputs": [
    {
     "name": "stdout",
     "output_type": "stream",
     "text": [
      "['name' 'e' 'a' 'i' 'om' 'w' 'per']\n",
      "['Flora' '0.157028745' '2.201405117' '5.886535185' '110.9009246'\n",
      " '285.3102149' '1193.021813']\n",
      "Searching NASA Horizons for 'Sun'... Found: Sun (10).\n",
      "Searching NASA Horizons for 'Mars'... Found: Mars Barycenter (4).\n",
      "Searching NASA Horizons for 'NAME=Flora'... Found: 8 Flora.\n",
      "Searching NASA Horizons for 'NAME=Harmonia'... Found: 40 Harmonia.\n",
      "Searching NASA Horizons for 'NAME=Melpomene'... Found: 18 Melpomene.\n",
      "Searching NASA Horizons for 'NAME=Zelinda'... Found: 654 Zelinda (1908 BM).\n",
      "Searching NASA Horizons for 'NAME=Victoria'... Found: 12 Victoria.\n",
      "Searching NASA Horizons for 'NAME=Vesta'... Found: 4 Vesta.\n",
      "Searching NASA Horizons for 'NAME=Nemausa'... Found: 51 Nemausa.\n",
      "Searching NASA Horizons for 'NAME=Artemis'... Found: 105 Artemis.\n",
      "Searching NASA Horizons for 'NAME=Athamantis'... Found: 230 Athamantis.\n",
      "Searching NASA Horizons for 'NAME=Iris'... Found: 7 Iris.\n",
      "Searching NASA Horizons for 'NAME=Metis'... Found: 9 Metis.\n",
      "Searching NASA Horizons for 'NAME=Ausonia'... Found: 63 Ausonia.\n",
      "Searching NASA Horizons for 'NAME=Massalia'... Found: 20 Massalia.\n",
      "Searching NASA Horizons for 'NAME=Hebe'... Found: 6 Hebe.\n",
      "Searching NASA Horizons for 'NAME=Beatrix'... Found: 83 Beatrix.\n",
      "Searching NASA Horizons for 'NAME=Fortuna'... Found: 19 Fortuna.\n",
      "Searching NASA Horizons for 'NAME=Isis'... Found: 42 Isis.\n",
      "Searching NASA Horizons for 'NAME=Parthenope'... Found: 11 Parthenope.\n",
      "Searching NASA Horizons for 'NAME=Hestia'... Found: 46 Hestia.\n",
      "Searching NASA Horizons for 'NAME=Faina'... Found: 751 Faina (1913 RK).\n",
      "Searching NASA Horizons for 'NAME=Julia'... Found: 89 Julia.\n",
      "Searching NASA Horizons for 'NAME=Amphitrite'... Found: 29 Amphitrite.\n",
      "Searching NASA Horizons for 'NAME=Sophrosyne'... Found: 134 Sophrosyne.\n",
      "Searching NASA Horizons for 'NAME=Astraea'... Found: 5 Astraea.\n",
      "Searching NASA Horizons for 'NAME=Boliviana'... Found: 712 Boliviana (1911 LO).\n",
      "Searching NASA Horizons for 'NAME=Aspasia'... Found: 409 Aspasia (1895 CE).\n",
      "Searching NASA Horizons for 'NAME=Egeria'... Found: 13 Egeria.\n",
      "Searching NASA Horizons for 'NAME=Thia'... Found: 405 Thia (1895 BZ).\n",
      "Searching NASA Horizons for 'NAME=Irene'... Found: 14 Irene.\n",
      "Searching NASA Horizons for 'NAME=Aegina'... Found: 91 Aegina.\n",
      "Searching NASA Horizons for 'NAME=Ate'... Found: 111 Ate.\n",
      "Searching NASA Horizons for 'NAME=Melete'... Found: 56 Melete.\n",
      "Searching NASA Horizons for 'NAME=Aurelia'... Found: 419 Aurelia (1896 CW).\n",
      "Searching NASA Horizons for 'NAME=Desiderata'... Found: 344 Desiderata (1892 M).\n",
      "Searching NASA Horizons for 'NAME=Prokne'... Found: 194 Prokne.\n",
      "Searching NASA Horizons for 'NAME=Panopaea'... Found: 70 Panopaea.\n",
      "Searching NASA Horizons for 'NAME=Diana'... Found: 78 Diana.\n",
      "Searching NASA Horizons for 'NAME=Thalia'... Found: 23 Thalia.\n",
      "Searching NASA Horizons for 'NAME=Eva'... Found: 164 Eva.\n",
      "Searching NASA Horizons for 'NAME=Fides'... Found: 37 Fides.\n",
      "Searching NASA Horizons for 'NAME=Eunomia'... Found: 15 Eunomia.\n",
      "Searching NASA Horizons for 'NAME=Hedwig'... Found: 476 Hedwig (1901 GQ).\n",
      "Searching NASA Horizons for 'NAME=Io'... Found: 85 Io.\n",
      "Searching NASA Horizons for 'NAME=Vibilia'... Found: 144 Vibilia.\n",
      "Searching NASA Horizons for 'NAME=Lumen'... Found: 141 Lumen.\n",
      "Searching NASA Horizons for 'NAME=Juno'... Found: 3 Juno.\n",
      "Searching NASA Horizons for 'NAME=Klotho'... Found: 97 Klotho.\n",
      "Searching NASA Horizons for 'NAME=Ekard'... Found: 694 Ekard (1909 JA).\n",
      "Searching NASA Horizons for 'NAME=Adeona'... Found: 145 Adeona.\n",
      "Searching NASA Horizons for 'NAME=Bamberga'... Found: 324 Bamberga.\n",
      "Searching NASA Horizons for 'NAME=Cava'... Found: 505 Cava (1902 LL).\n",
      "Searching NASA Horizons for 'NAME=Circe'... Found: 34 Circe.\n",
      "Searching NASA Horizons for 'NAME=Ianthe'... Found: 98 Ianthe.\n",
      "Searching NASA Horizons for 'NAME=Concordia'... Found: 58 Concordia.\n",
      "Searching NASA Horizons for 'NAME=Alexandra'... Found: 54 Alexandra.\n",
      "Searching NASA Horizons for 'NAME=Elpis'... Found: 59 Elpis.\n",
      "Searching NASA Horizons for 'NAME=Lucina'... Found: 146 Lucina.\n",
      "Searching NASA Horizons for 'NAME=Eugenia'... Found: 45 Eugenia.\n",
      "Searching NASA Horizons for 'NAME=Chloris'... Found: 410 Chloris (1896 CH).\n",
      "Searching NASA Horizons for 'NAME=Lamberta'... Found: 187 Lamberta.\n",
      "Searching NASA Horizons for 'NAME=Xanthippe'... Found: 156 Xanthippe.\n",
      "Searching NASA Horizons for 'NAME=Siwa'... Found: 140 Siwa.\n",
      "Searching NASA Horizons for 'NAME=Flammario'... Found: 1021 Flammario (1924 RG).\n",
      "Searching NASA Horizons for 'NAME=Dynamene'... Found: 200 Dynamene.\n",
      "Searching NASA Horizons for 'NAME=Mandeville'... Found: 739 Mandeville (1913 QR).\n",
      "Searching NASA Horizons for 'NAME=Eunike'... Found: 185 Eunike.\n",
      "Searching NASA Horizons for 'NAME=Pompeja'... Found: 203 Pompeja.\n",
      "Searching NASA Horizons for 'NAME=Brixia'... Found: 521 Brixia (1904 NB).\n",
      "Searching NASA Horizons for 'NAME=Emita'... Found: 481 Emita (1902 HP).\n",
      "Searching NASA Horizons for 'NAME=Hersilia'... Found: 206 Hersilia.\n",
      "Searching NASA Horizons for 'NAME=Aquitania'... Found: 387 Aquitania (1894 AZ).\n",
      "Searching NASA Horizons for 'NAME=Ino'... Found: 173 Ino.\n",
      "Searching NASA Horizons for 'NAME=Eukrate'... Found: 247 Eukrate.\n",
      "Searching NASA Horizons for 'NAME=Polyxo'... Found: 308 Polyxo.\n",
      "Searching NASA Horizons for 'NAME=Nemesis'... Found: 128 Nemesis.\n",
      "Searching NASA Horizons for 'NAME=Atalante'... Found: 36 Atalante.\n",
      "Searching NASA Horizons for 'NAME=Johanna'... Found: 127 Johanna.\n",
      "Searching NASA Horizons for 'NAME=Minerva'... Found: 93 Minerva.\n",
      "Searching NASA Horizons for 'NAME=Daphne'... Found: 41 Daphne.\n",
      "Searching NASA Horizons for 'NAME=Liguria'... Found: 356 Liguria (1893 G).\n",
      "Searching NASA Horizons for 'NAME=Ceres'... Found: 1 Ceres.\n",
      "Searching NASA Horizons for 'NAME=Gyptis'... Found: 444 Gyptis (1899 EL).\n",
      "Searching NASA Horizons for 'NAME=Laetitia'... Found: 39 Laetitia.\n",
      "Searching NASA Horizons for 'NAME=Thisbe'... Found: 88 Thisbe.\n",
      "Searching NASA Horizons for 'NAME=Sapientia'... Found: 275 Sapientia.\n",
      "Searching NASA Horizons for 'NAME=Pallas'... Found: 2 Pallas.\n",
      "Searching NASA Horizons for 'NAME=Herculina'... Found: 532 Herculina (1904 NY).\n",
      "Searching NASA Horizons for 'NAME=Gratia'... Found: 424 Gratia (1896 DF).\n",
      "Searching NASA Horizons for 'NAME=Bellona'... Found: 28 Bellona.\n",
      "Searching NASA Horizons for 'NAME=Galatea'... Found: 74 Galatea.\n",
      "Searching NASA Horizons for 'NAME=Leto'... Found: 68 Leto.\n",
      "Searching NASA Horizons for 'NAME=Juewa'... Found: 139 Juewa.\n",
      "Searching NASA Horizons for 'NAME=Kleopatra'... Found: 216 Kleopatra.\n",
      "Searching NASA Horizons for 'NAME=Eleonora'... Found: 354 Eleonora (1893 A).\n",
      "Searching NASA Horizons for 'NAME=Aline'... Found: 266 Aline.\n",
      "Searching NASA Horizons for 'NAME=Hispania'... Found: 804 Hispania (1915 WT).\n",
      "Searching NASA Horizons for 'NAME=Terpsichore'... Found: 81 Terpsichore.\n",
      "Searching NASA Horizons for 'NAME=Antigone'... Found: 129 Antigone.\n",
      "Searching NASA Horizons for 'NAME=Aglaja'... Found: 47 Aglaja.\n",
      "Searching NASA Horizons for 'NAME=Hippo'... Found: 426 Hippo (1897 DH).\n",
      "Searching NASA Horizons for 'NAME=Papagena'... Found: 471 Papagena (1901 GN).\n",
      "Searching NASA Horizons for 'NAME=Siegena'... Found: 386 Siegena (1894 AY).\n",
      "Searching NASA Horizons for 'NAME=Hypatia'... Found: 238 Hypatia.\n",
      "Searching NASA Horizons for 'NAME=Kalliope'... Found: 22 Kalliope.\n",
      "Searching NASA Horizons for 'NAME=Erminia'... Found: 705 Erminia (1910 KV).\n",
      "Searching NASA Horizons for 'NAME=Dembowska'... Found: 349 Dembowska (1892 T).\n",
      "Searching NASA Horizons for 'NAME=Psyche'... Found: 16 Psyche.\n",
      "Searching NASA Horizons for 'NAME=Scheila'... Found: 596 Scheila (1906 UA).\n",
      "Searching NASA Horizons for 'NAME=Berbericia'... Found: 776 Berbericia (1914 TY).\n",
      "Searching NASA Horizons for 'NAME=Hesperia'... Found: 69 Hesperia.\n",
      "Searching NASA Horizons for 'NAME=Virtus'... Found: 494 Virtus (1902 JV).\n",
      "Searching NASA Horizons for 'NAME=Nuwa'... Found: 150 Nuwa.\n",
      "Searching NASA Horizons for 'NAME=Lomia'... Found: 117 Lomia.\n",
      "Searching NASA Horizons for 'NAME=Leukothea'... Found: 35 Leukothea.\n",
      "Searching NASA Horizons for 'NAME=Tanete'... Found: 772 Tanete (1913 TR).\n",
      "Searching NASA Horizons for 'NAME=Carlova'... Found: 360 Carlova (1893 N).\n",
      "Searching NASA Horizons for 'NAME=Charybdis'... Found: 388 Charybdis (1894 BA).\n"
     ]
    },
    {
     "name": "stdout",
     "output_type": "stream",
     "text": [
      "Searching NASA Horizons for 'NAME=Winchester'... Found: 747 Winchester (1913 QZ).\n",
      "Searching NASA Horizons for 'NAME=Marion'... Found: 506 Marion (1903 LN).\n",
      "Searching NASA Horizons for 'NAME=Isolda'... Found: 211 Isolda.\n",
      "Searching NASA Horizons for 'NAME=Armida'... Found: 514 Armida (1903 MB).\n",
      "Searching NASA Horizons for 'NAME=Germania'... Found: 241 Germania.\n",
      "Searching NASA Horizons for 'NAME=Aegle'... Found: 96 Aegle.\n",
      "Searching NASA Horizons for 'NAME=Emma'... Found: 283 Emma.\n",
      "Searching NASA Horizons for 'NAME=Interamnia'... Found: 704 Interamnia (1910 KU).\n",
      "Searching NASA Horizons for 'NAME=Patientia'... Found: 451 Patientia (1899 EY).\n",
      "Searching NASA Horizons for 'NAME=Arethusa'... Found: 95 Arethusa.\n",
      "Searching NASA Horizons for 'NAME=Gerlinde'... Found: 663 Gerlinde (1908 DG).\n",
      "Searching NASA Horizons for 'NAME=Diotima'... Found: 423 Diotima (1896 DB).\n",
      "Searching NASA Horizons for 'NAME=Marianna'... Found: 602 Marianna (1906 TE).\n",
      "Searching NASA Horizons for 'NAME=Adorea'... Found: 268 Adorea.\n",
      "Searching NASA Horizons for 'NAME=Europa'... Found: 52 Europa.\n",
      "Searching NASA Horizons for 'NAME=Pales'... Found: 49 Pales.\n",
      "Searching NASA Horizons for 'NAME=Aemilia'... Found: 159 Aemilia.\n",
      "Searching NASA Horizons for 'NAME=Semele'... Found: 86 Semele.\n",
      "Searching NASA Horizons for 'NAME=Ornamenta'... Found: 350 Ornamenta (1892 U).\n",
      "Searching NASA Horizons for 'NAME=Gudrun'... Found: 328 Gudrun.\n",
      "Searching NASA Horizons for 'NAME=Doris'... Found: 48 Doris.\n",
      "Searching NASA Horizons for 'NAME=Philomela'... Found: 196 Philomela.\n",
      "Searching NASA Horizons for 'NAME=Armenia'... Found: 780 Armenia (1914 UC).\n",
      "Searching NASA Horizons for 'NAME=Medea'... Found: 212 Medea.\n",
      "Searching NASA Horizons for 'NAME=Adelheid'... Found: 276 Adelheid.\n",
      "Searching NASA Horizons for 'NAME=Lachesis'... Found: 120 Lachesis.\n",
      "Searching NASA Horizons for 'NAME=Ani'... Found: 791 Ani (1914 UV).\n",
      "Searching NASA Horizons for 'NAME=Josephina'... Found: 303 Josephina.\n",
      "Searching NASA Horizons for 'NAME=Ursula'... Found: 375 Ursula (1893 AL).\n",
      "Searching NASA Horizons for 'NAME=Loreley'... Found: 165 Loreley.\n",
      "Searching NASA Horizons for 'NAME=Hohensteina'... Found: 788 Hohensteina (1914 UR).\n",
      "Searching NASA Horizons for 'NAME=Meliboea'... Found: 137 Meliboea.\n",
      "Searching NASA Horizons for 'NAME=Freda'... Found: 1093 Freda (1925 LA).\n",
      "Searching NASA Horizons for 'NAME=Ophelia'... Found: 171 Ophelia.\n",
      "Searching NASA Horizons for 'NAME=Elektra'... Found: 130 Elektra.\n",
      "Searching NASA Horizons for 'NAME=Eucharis'... Found: 181 Eucharis.\n",
      "Searching NASA Horizons for 'NAME=Erato'... Found: 62 Erato.\n",
      "Searching NASA Horizons for 'NAME=Aletheia'... Found: 259 Aletheia.\n",
      "Searching NASA Horizons for 'NAME=Protogeneia'... Found: 147 Protogeneia.\n",
      "Searching NASA Horizons for 'NAME=Themis'... Found: 24 Themis.\n",
      "Searching NASA Horizons for 'NAME=Nephele'... Found: 431 Nephele (1897 DN).\n",
      "Searching NASA Horizons for 'NAME=Hygiea'... Found: 10 Hygiea.\n",
      "Searching NASA Horizons for 'NAME=Wratislavia'... Found: 690 Wratislavia (1909 HZ).\n",
      "Searching NASA Horizons for 'NAME=Bettina'... Found: 250 Bettina.\n",
      "Searching NASA Horizons for 'NAME=Dido'... Found: 209 Dido.\n",
      "Searching NASA Horizons for 'NAME=Klymene'... Found: 104 Klymene.\n",
      "Searching NASA Horizons for 'NAME=Antiope'... Found: 90 Antiope.\n",
      "Searching NASA Horizons for 'NAME=Palma'... Found: 372 Palma (1893 AH).\n",
      "Searching NASA Horizons for 'NAME=Ninina'... Found: 357 Ninina (1893 J).\n",
      "Searching NASA Horizons for 'NAME=Mnemosyne'... Found: 57 Mnemosyne.\n",
      "Searching NASA Horizons for 'NAME=Comacina'... Found: 489 Comacina (1902 JM).\n",
      "Searching NASA Horizons for 'NAME=Tauris'... Found: 814 Tauris (1916 YT).\n",
      "Searching NASA Horizons for 'NAME=Euphrosyne'... Found: 31 Euphrosyne.\n",
      "Searching NASA Horizons for 'NAME=Aurora'... Found: 94 Aurora.\n",
      "Searching NASA Horizons for 'NAME=Pulcova'... Found: 762 Pulcova (1913 SQ).\n",
      "Searching NASA Horizons for 'NAME=Edith'... Found: 517 Edith (1903 MH).\n",
      "Searching NASA Horizons for 'NAME=Princetonia'... Found: 508 Princetonia (1903 LQ).\n",
      "Searching NASA Horizons for 'NAME=Davida'... Found: 511 Davida (1903 LU).\n",
      "Searching NASA Horizons for 'NAME=Philosophia'... Found: 227 Philosophia.\n",
      "Searching NASA Horizons for 'NAME=Kreusa'... Found: 488 Kreusa (1902 JG).\n",
      "Searching NASA Horizons for 'NAME=Veritas'... Found: 490 Veritas (1902 JP).\n",
      "Searching NASA Horizons for 'NAME=Bredichina'... Found: 786 Bredichina (1914 UO).\n",
      "Searching NASA Horizons for 'NAME=Dione'... Found: 106 Dione.\n",
      "Searching NASA Horizons for 'NAME=Argentina'... Found: 469 Argentina (1901 GE).\n",
      "Searching NASA Horizons for 'NAME=Iduna'... Found: 176 Iduna.\n",
      "Searching NASA Horizons for 'NAME=Undina'... Found: 92 Undina.\n",
      "Searching NASA Horizons for 'NAME=Elfriede'... Found: 618 Elfriede (1906 VZ).\n",
      "Searching NASA Horizons for 'NAME=Alauda'... Found: 702 Alauda (1910 KQ).\n",
      "Searching NASA Horizons for 'NAME=Bertha'... Found: 154 Bertha.\n",
      "Searching NASA Horizons for 'NAME=Messalina'... Found: 545 Messalina (1904 OY).\n",
      "Searching NASA Horizons for 'NAME=Helio'... Found: 895 Helio (1918 DU).\n",
      "Searching NASA Horizons for 'NAME=Myrrha'... Found: 381 Myrrha (1894 AS).\n",
      "Searching NASA Horizons for 'NAME=Sibylla'... Found: 168 Sibylla.\n",
      "Searching NASA Horizons for 'NAME=Stereoskopia'... Found: 566 Stereoskopia (1905 QO).\n",
      "Searching NASA Horizons for 'NAME=Pretoria'... Found: 790 Pretoria (1912 NW).\n",
      "Searching NASA Horizons for 'NAME=Freia'... Found: 76 Freia.\n",
      "Searching NASA Horizons for 'NAME=Bertholda'... Found: 420 Bertholda (1896 CY).\n",
      "Searching NASA Horizons for 'NAME=Adelinda'... Found: 229 Adelinda.\n",
      "Searching NASA Horizons for 'NAME=Cybele'... Found: 65 Cybele.\n",
      "Searching NASA Horizons for 'NAME=Huberta'... Found: 260 Huberta.\n",
      "Searching NASA Horizons for 'NAME=Hermione'... Found: 121 Hermione.\n",
      "Searching NASA Horizons for 'NAME=Sylvia'... Found: 87 Sylvia.\n",
      "Searching NASA Horizons for 'NAME=Camilla'... Found: 107 Camilla.\n",
      "Searching NASA Horizons for 'NAME=Merapi'... Found: 536 Merapi (1904 OF).\n",
      "Searching NASA Horizons for 'NAME=Ulla'... Found: 909 Ulla (1919 FA).\n",
      "Searching NASA Horizons for 'NAME=Helga'... Found: 522 Helga (1904 NC).\n",
      "Searching NASA Horizons for 'NAME=Chicago'... Found: 334 Chicago (1892 L).\n",
      "Searching NASA Horizons for 'NAME=Rollandia'... Found: 1269 Rollandia (1930 SH).\n",
      "Searching NASA Horizons for 'NAME=Simeisa'... Found: 748 Simeisa (1913 RD).\n",
      "Searching NASA Horizons for 'NAME=Bononia'... Found: 361 Bononia (1893 P).\n",
      "Searching NASA Horizons for 'NAME=Hilda'... Found: 153 Hilda.\n",
      "Searching NASA Horizons for 'NAME=Ismene'... Found: 190 Ismene.\n",
      "Searching NASA Horizons for 'NAME=Thule'... Found: 279 Thule.\n"
     ]
    }
   ],
   "source": [
    "import sys\n",
    "sys.path.append('../')\n",
    "import systemsounds as ss\n",
    "import numpy as np\n",
    "import rebound\n",
    "import pandas as pd\n",
    "filename = \"asteroidbelt_m.bin\"\n",
    "#try:\n",
    "    #sim = rebound.Simulation.from_file(\"../binaries/\"+filename)\n",
    "#except:\n",
    "\n",
    "data='asteroids_100_names.csv'   #choose minium size to include, 10 or 100 km\n",
    "asteroids=pd.read_csv(data, sep=',',header=None)\n",
    "header=asteroids.values[0]\n",
    "print(header)\n",
    "print(asteroids.values[1])\n",
    "\n",
    "ast_IDs=[]\n",
    "ast_names=[]\n",
    "ast_as=[]\n",
    "ast_is=[]\n",
    "ast_oms=[]\n",
    "ast_ws=[]\n",
    "ast_es=[]\n",
    "\n",
    "a_max = 5.\n",
    "for i in range(1,len(asteroids.values)):\n",
    "    if float(asteroids.values[i][2])<a_max:\n",
    "        ast_names.append(asteroids.values[i][0])\n",
    "        ast_as.append(float(asteroids.values[i][2]))\n",
    "        ast_es.append(float(asteroids.values[i][1]))\n",
    "        ast_is.append(float(asteroids.values[i][3])*np.pi/180)\n",
    "        ast_oms.append(float(asteroids.values[i][4])*np.pi/180)\n",
    "        ast_ws.append(float(asteroids.values[i][5])*np.pi/180)\n",
    "#print(ast_IDs)\n",
    "        \n",
    "date = \"2017-05-10 05:00\"\n",
    "\n",
    "sim = rebound.Simulation()\n",
    "sim.add(\"Sun\", date=date)\n",
    "sim.add(\"Mars\", date=date)\n",
    "for i in range(len(ast_as)):\n",
    "    sim.add(\"NAME=\"+ast_names[i])\n",
    "    #sim.add(a=ast_as[i],e=ast_es[i],inc=ast_is[i],Omega=ast_oms[i],omega=ast_ws[i])\n",
    "\n",
    "sim.move_to_com()\n",
    "sim.save(\"../binaries/\"+filename)\n"
   ]
  },
  {
   "cell_type": "code",
   "execution_count": 62,
   "metadata": {},
   "outputs": [
    {
     "name": "stdout",
     "output_type": "stream",
     "text": [
      "['name' 'e' 'a' 'i' 'om' 'w' 'per']\n",
      "['Flora' '0.157028745' '2.201405117' '5.886535185' '110.9009246'\n",
      " '285.3102149' '1193.021813']\n",
      "Searching NASA Horizons for 'Sun'... Found: Sun (10).\n",
      "Searching NASA Horizons for 'NAME=Hebe'... Found: 6 Hebe.\n",
      "Searching NASA Horizons for 'NAME=Hestia'... Found: 46 Hestia.\n",
      "Searching NASA Horizons for 'NAME=Lucina'... Found: 146 Lucina.\n",
      "Searching NASA Horizons for 'NAME=Aline'... Found: 266 Aline.\n",
      "Searching NASA Horizons for 'NAME=Berbericia'... Found: 776 Berbericia (1914 TY).\n",
      "Searching NASA Horizons for 'NAME=Kreusa'... Found: 488 Kreusa (1902 JG).\n",
      "Searching NASA Horizons for 'NAME=Chicago'... Found: 334 Chicago (1892 L).\n"
     ]
    }
   ],
   "source": [
    "#a0000006 130.31 C3 -6.7 cents      6 Hebe\n",
    "#a0000046 122.61 B2 -12.1 cents     46 Hestia\n",
    "#a0000146 109.83 A2 -2.6 cents    146 Lucina\n",
    "#a0000266 104.74 G#2 +15.2 cents    266 Aline\n",
    "#a0000776 98.06 G2 +1.0 cents    776 Berbericia (1914 TY)\n",
    "#a0000488 87.22 F2 -1.7 cents    488 Kreusa (1902 JG)\n",
    "#a0000334 64.05 C2 -36.4 cents    334 Chicago (1892 L) 198.77\n",
    "ast_notes=['Hebe','Hestia','Lucina','Aline','Berbericia','Kreusa','Chicago']\n",
    "import sys\n",
    "sys.path.append('../')\n",
    "import systemsounds as ss\n",
    "import numpy as np\n",
    "import rebound\n",
    "import pandas as pd\n",
    "filename = \"asteroidnotes.bin\"\n",
    "#try:\n",
    "    #sim = rebound.Simulation.from_file(\"../binaries/\"+filename)\n",
    "#except:\n",
    "\n",
    "data='asteroids_100_names.csv'   #choose minium size to include, 10 or 100 km\n",
    "asteroids=pd.read_csv(data, sep=',',header=None)\n",
    "header=asteroids.values[0]\n",
    "print(header)\n",
    "print(asteroids.values[1])\n",
    "\n",
    "ast_IDs=[]\n",
    "ast_names=[]\n",
    "ast_as=[]\n",
    "ast_is=[]\n",
    "ast_oms=[]\n",
    "ast_ws=[]\n",
    "ast_es=[]\n",
    "\n",
    "for i in range(1,len(asteroids.values)):\n",
    "    if asteroids.values[i][0] in ast_notes:\n",
    "        ast_names.append(asteroids.values[i][0])\n",
    "        ast_as.append(float(asteroids.values[i][2]))\n",
    "        ast_es.append(float(asteroids.values[i][1]))\n",
    "        ast_is.append(float(asteroids.values[i][3])*np.pi/180)\n",
    "        ast_oms.append(float(asteroids.values[i][4])*np.pi/180)\n",
    "        ast_ws.append(float(asteroids.values[i][5])*np.pi/180)\n",
    "#print(ast_IDs)\n",
    "        \n",
    "date = \"2017-05-10 05:00\"\n",
    "\n",
    "sim = rebound.Simulation()\n",
    "sim.add(\"Sun\", date=date)\n",
    "\n",
    "for i in range(len(ast_as)):\n",
    "    sim.add(\"NAME=\"+ast_names[i])\n",
    "\n",
    "sim.move_to_com()\n",
    "sim.save(\"../binaries/\"+filename)"
   ]
  },
  {
   "cell_type": "markdown",
   "metadata": {},
   "source": [
    "# Calculate Pitches"
   ]
  },
  {
   "cell_type": "code",
   "execution_count": 66,
   "metadata": {},
   "outputs": [
    {
     "name": "stdout",
     "output_type": "stream",
     "text": [
      "\n",
      "Notes and offsets:\n",
      "Planet 1 : C3 -0.2 cents  =  130.8 Hz\n",
      "Planet 2 : D#3 -33.3 cents  =  152.6 Hz\n",
      "Planet 3 : D#3 +15.5 cents  =  156.96 Hz\n",
      "Planet 4 : E3 -13.9 cents  =  163.5 Hz\n",
      "Planet 5 : F3 -2.1 cents  =  174.4 Hz\n"
     ]
    },
    {
     "ename": "IndexError",
     "evalue": "list index out of range",
     "output_type": "error",
     "traceback": [
      "\u001b[0;31m---------------------------------------------------------------------------\u001b[0m",
      "\u001b[0;31mIndexError\u001b[0m                                Traceback (most recent call last)",
      "\u001b[0;32m<ipython-input-66-95bb902565fb>\u001b[0m in \u001b[0;36m<module>\u001b[0;34m()\u001b[0m\n\u001b[1;32m     26\u001b[0m \u001b[0mprint\u001b[0m\u001b[0;34m(\u001b[0m\u001b[0;34m'\\nNotes and offsets:'\u001b[0m\u001b[0;34m)\u001b[0m\u001b[0;34m\u001b[0m\u001b[0m\n\u001b[1;32m     27\u001b[0m \u001b[0;32mfor\u001b[0m \u001b[0mi\u001b[0m \u001b[0;32min\u001b[0m \u001b[0mrange\u001b[0m\u001b[0;34m(\u001b[0m\u001b[0;36m1\u001b[0m\u001b[0;34m,\u001b[0m\u001b[0msim\u001b[0m\u001b[0;34m.\u001b[0m\u001b[0mN\u001b[0m\u001b[0;34m)\u001b[0m\u001b[0;34m:\u001b[0m\u001b[0;34m\u001b[0m\u001b[0m\n\u001b[0;32m---> 28\u001b[0;31m     \u001b[0mprint\u001b[0m\u001b[0;34m(\u001b[0m\u001b[0;34m'Planet '\u001b[0m\u001b[0;34m+\u001b[0m\u001b[0mstr\u001b[0m\u001b[0;34m(\u001b[0m\u001b[0mi\u001b[0m\u001b[0;34m)\u001b[0m\u001b[0;34m+\u001b[0m\u001b[0;34m' : '\u001b[0m\u001b[0;34m+\u001b[0m \u001b[0mpitch\u001b[0m\u001b[0;34m(\u001b[0m\u001b[0mfreqs\u001b[0m\u001b[0;34m[\u001b[0m\u001b[0mi\u001b[0m\u001b[0;34m-\u001b[0m\u001b[0;36m1\u001b[0m\u001b[0;34m]\u001b[0m\u001b[0;34m)\u001b[0m\u001b[0;34m,\u001b[0m\u001b[0;34m' = '\u001b[0m\u001b[0;34m,\u001b[0m\u001b[0mnp\u001b[0m\u001b[0;34m.\u001b[0m\u001b[0mround\u001b[0m\u001b[0;34m(\u001b[0m\u001b[0mfreqs\u001b[0m\u001b[0;34m[\u001b[0m\u001b[0mi\u001b[0m\u001b[0;34m-\u001b[0m\u001b[0;36m1\u001b[0m\u001b[0;34m]\u001b[0m\u001b[0;34m,\u001b[0m\u001b[0;36m2\u001b[0m\u001b[0;34m)\u001b[0m\u001b[0;34m,\u001b[0m \u001b[0;34m'Hz'\u001b[0m\u001b[0;34m)\u001b[0m\u001b[0;34m\u001b[0m\u001b[0m\n\u001b[0m",
      "\u001b[0;31mIndexError\u001b[0m: list index out of range"
     ]
    }
   ],
   "source": [
    "notenames = [\"C\", \"C#\", \"D\", \"D#\", \"E\", \"F\", \"F#\", \"G\", \"G#\", \"A\", \"A#\", \"B\"]\n",
    "A4 = 440\n",
    "C0 = A4*pow(2, -4.75)\n",
    "C4=C0*pow(2, 4)\n",
    "\n",
    "def pitch(freq):\n",
    "    h = int(round(12*np.log2(freq/C0)))\n",
    "    octave = h // 12\n",
    "    n = h % 12\n",
    "    f0=C0*2**(h/12.)\n",
    "    cent = 1200*np.log2(freq/f0)\n",
    "    #return name[n] + str(octave) + ' + '+str(round(cent,1)) +' cents'\n",
    "    return '{0} {1:+.1f} cents'.format(notenames[n]+str(octave),cent)\n",
    "\n",
    "filename = \"../binaries/saturn.bin\"\n",
    "sim = rebound.Simulation.from_file(filename)\n",
    "\n",
    "basefreq=C4 #or 1/timescale*2**octave\n",
    "basefreq=103.068333727\n",
    "baseperiod=sim.particles[1].P\n",
    "freqs=[basefreq*baseperiod/sim.particles[i].P for i in range(1,sim.N)]\n",
    "\n",
    "basefreq=130.8\n",
    "freqs=[basefreq,basefreq*7./6,basefreq*6./5,basefreq*5./4,basefreq*4./3]\n",
    "\n",
    "print('\\nNotes and offsets:')\n",
    "for i in range(1,sim.N):\n",
    "    print('Planet '+str(i)+' : '+ pitch(freqs[i-1]),' = ',np.round(freqs[i-1],2), 'Hz')"
   ]
  },
  {
   "cell_type": "code",
   "execution_count": 16,
   "metadata": {},
   "outputs": [
    {
     "name": "stdout",
     "output_type": "stream",
     "text": [
      "[103.068333727, 58.666437667350635, 38.85028963839458, 24.839169084682965, 13.600286058304766, 1.8832410884449529, -0.1726740998045721]\n"
     ]
    }
   ],
   "source": [
    "print(freqs)"
   ]
  },
  {
   "cell_type": "code",
   "execution_count": null,
   "metadata": {
    "collapsed": true
   },
   "outputs": [],
   "source": [
    "filename = \"../binaries/solarsystem.bin\"\n",
    "sim = rebound.Simulation.from_file(filename)\n",
    "sim.t = 0\n",
    "ss.rescale_time(sim, sim.particles[3].P) #Earth"
   ]
  },
  {
   "cell_type": "code",
   "execution_count": 6,
   "metadata": {
    "collapsed": true
   },
   "outputs": [],
   "source": [
    "transits = ss.EventRecorder(sim, lambda sim, i: sim.particles[i].y, targets=[])\n",
    "conjunctions = ss.EventRecorder(sim, lambda sim, i: np.sin(sim.particles[i].theta - sim.particles[i+1].theta), targets=[])"
   ]
  },
  {
   "cell_type": "markdown",
   "metadata": {},
   "source": [
    "We start by staggering in the planet transits, 4 outer planet orbits at a time, from the outside inward, by changing `transits.targets`."
   ]
  },
  {
   "cell_type": "code",
   "execution_count": 7,
   "metadata": {},
   "outputs": [
    {
     "name": "stdout",
     "output_type": "stream",
     "text": [
      "[7]\n",
      "[6, 7]\n",
      "[5, 6, 7]\n",
      "[4, 5, 6, 7]\n",
      "[3, 4, 5, 6, 7]\n",
      "[2, 3, 4, 5, 6, 7]\n",
      "[1, 2, 3, 4, 5, 6, 7]\n"
     ]
    }
   ],
   "source": [
    "planets = list(range(sim.N))\n",
    "for i in range(1,8):\n",
    "    ps = planets[-i:]\n",
    "    transits.targets = ps\n",
    "    print(transits.targets)\n",
    "    sim.integrate(tmax=sim.t+4)"
   ]
  },
  {
   "cell_type": "markdown",
   "metadata": {},
   "source": [
    "We now stagger in conjunctions starting from the outermost pair, leaving in all the planets for the transits:"
   ]
  },
  {
   "cell_type": "code",
   "execution_count": 8,
   "metadata": {},
   "outputs": [
    {
     "name": "stdout",
     "output_type": "stream",
     "text": [
      "[6]\n",
      "[5, 6]\n",
      "[4, 5, 6]\n",
      "[3, 4, 5, 6]\n",
      "[2, 3, 4, 5, 6]\n",
      "[1, 2, 3, 4, 5, 6]\n"
     ]
    }
   ],
   "source": [
    "planets = list(range(sim.N-1))\n",
    "for i in range(1,7):\n",
    "    ps = planets[-i:]\n",
    "    conjunctions.targets = ps\n",
    "    print(conjunctions.targets)\n",
    "    sim.integrate(tmax=sim.t+4)"
   ]
  },
  {
   "cell_type": "code",
   "execution_count": null,
   "metadata": {
    "collapsed": true
   },
   "outputs": [],
   "source": [
    "planets = list(range(sim.N))\n",
    "ps = planets\n",
    "for i in range(100):\n",
    "    transits.targets = ps\n",
    "    print(transits.targets)\n",
    "    sim.integrate(tmax=sim.t+4)"
   ]
  },
  {
   "cell_type": "markdown",
   "metadata": {},
   "source": [
    "# Making the MIDI\n",
    "\n",
    "We need to set a tempo in beats per minute, where 1 beat corresponds to one time unit in the simulation. Here we set bpm=30, which means that there are 2 seconds per simulation time unit = one outer planet orbit. We then make the MIDI file and set the tempo:"
   ]
  },
  {
   "cell_type": "code",
   "execution_count": 9,
   "metadata": {
    "collapsed": true
   },
   "outputs": [],
   "source": [
    "from midiutil import MIDIFile\n",
    "\n",
    "bpm = 30\n",
    "midifile = MIDIFile(adjust_origin=True)\n",
    "midifile.addTempo(track=0, time=0, tempo=bpm) "
   ]
  },
  {
   "cell_type": "markdown",
   "metadata": {},
   "source": [
    "Now we need to decide on MIDI notes for the transits and conjunctions. We use the `calc_midi_notes` function to scale all notes relative to the outermost (ref_ID=-1) particle, and assign to that planet a MIDI note of 48=C4. See e.g.  http://subsynth.sourceforge.net/midinote2freq.html for a list of MIDI notes. We then manually assign notes to the conjunctions.\n",
    "\n",
    "Finally, we step through the list of transits and conjunctions, and add the corresponding note for each of them, depending on the transiting planet or conjunction pair, at the time of the event. One can also set the note duration and velocity (volume). Here we add planet transits onto separate channels, and the conjunctions all into one channel above the others."
   ]
  },
  {
   "cell_type": "code",
   "execution_count": 10,
   "metadata": {
    "collapsed": true
   },
   "outputs": [],
   "source": [
    "transit_notes = ss.calc_midi_notes(sim.particles, ref_note=48, ref_ID=-1)\n",
    "conjunction_notes = [0, 33, 35, 20, 18, 14, 12]\n",
    "\n",
    "for transit in transits.events:\n",
    "    midifile.addNote(track=0, channel=transit['target'], pitch=transit_notes[transit['target']], time=transit['time'], duration=1, volume=100)\n",
    "for conjunction in conjunctions.events:\n",
    "    midifile.addNote(track=0, channel=sim.N, pitch=conjunction_notes[conjunction['target']], time=conjunction['time'], duration=1, volume=100)"
   ]
  },
  {
   "cell_type": "markdown",
   "metadata": {},
   "source": [
    "Finally, we write the file:"
   ]
  },
  {
   "cell_type": "code",
   "execution_count": 11,
   "metadata": {
    "collapsed": true
   },
   "outputs": [],
   "source": [
    "with open(\"./trappist.mid\", \"wb\") as f:\n",
    "    midifile.writeFile(f)"
   ]
  },
  {
   "cell_type": "code",
   "execution_count": null,
   "metadata": {
    "collapsed": true
   },
   "outputs": [],
   "source": []
  }
 ],
 "metadata": {
  "kernelspec": {
   "display_name": "Python 3",
   "language": "python",
   "name": "python3"
  },
  "language_info": {
   "codemirror_mode": {
    "name": "ipython",
    "version": 3
   },
   "file_extension": ".py",
   "mimetype": "text/x-python",
   "name": "python",
   "nbconvert_exporter": "python",
   "pygments_lexer": "ipython3",
   "version": "3.6.1"
  }
 },
 "nbformat": 4,
 "nbformat_minor": 2
}
