{
 "cells": [
  {
   "cell_type": "markdown",
   "metadata": {},
   "source": [
    "# TRAPPIST 1\n",
    "\n",
    "This is an example of how we made our movie of the TRAPPIST-1 system: https://www.youtube.com/watch?v=WS5UxLHbUKc\n",
    "\n",
    "You should check out [MakingAMovie.ipynb](MakingAMovie.ipynb) and [WritingMIDIFiles.ipynb](WritingMIDIFiles.ipynb) for an introduction. \n",
    "\n",
    "It makes sense to start with our `write_png` function, since the variables/flags that we need for that will have to be worked into how we choreograph our movie. The idea is that it should plot all the particles on a nice background, then make the planet markers bigger close to transit, and shoot out lines when neighboring planets overtake one another, which fade over time. We add a `plotparticles` list for the particles we want plotted (so we can stagger them in), and flags for whether we want to animate the transits and conjunctions:"
   ]
  },
  {
   "cell_type": "code",
   "execution_count": 1,
   "metadata": {
    "collapsed": true
   },
   "outputs": [],
   "source": [
    "import PIL # reminder that this is a requirement\n",
    "from scipy.misc import imread\n",
    "import matplotlib.pyplot as plt\n",
    "\n",
    "def write_png(params):\n",
    "    sim = rebound.Simulation.from_file(params['filename'])\n",
    "    ps = sim.particles\n",
    "    plotparticles = params['plotparticles']       # particles that should be displayed\n",
    "    plottransits = params['plottransits']         # whether we should highlight transits\n",
    "    plotconjunctions = params['plotconjunctions'] # whether we should draw lines for conjunctions\n",
    "    color = params['color']                       # colors for each of the particles (including the star)\n",
    "  \n",
    "    if sim.t < transits.events[0]['time']:        # only plot particles if the first transit has\n",
    "        plotparticles = []\n",
    "        show_orbit = False\n",
    "    else:\n",
    "        show_orbit = True\n",
    "        \n",
    "    # First make a color list that only includes the particles we want to plot\n",
    "    coloriterator = [color[i] for i in plotparticles]\n",
    "    lw=3 # linewidth\n",
    "\n",
    "    fig = rebound.OrbitPlot(sim, figsize=(8,8), show_orbit=show_orbit, color=coloriterator, lw=lw, plotparticles=plotparticles)\n",
    "    ax = fig.axes[0] # turn off axes\n",
    "    ax.axis('off')\n",
    "\n",
    "    if plottransits:\n",
    "        refsize=25*lw # this is what REBOUND uses for size of circles in call to plt.scatter\n",
    "                      # we want markers to match that when far from transit\n",
    "        for i in plotparticles: # overplot markers so planets have their own color\n",
    "            ax.scatter(ps[i].x, ps[i].y, s=refsize, color=color[i], marker='o', zorder=4)\n",
    "            scale=ps[i].a/3     # length scale for making dots bigger\n",
    "            size=refsize\n",
    "            if ps[i].x > 0 and np.abs(ps[i].y)/scale < 1: # increase size when particle is within `scale` of y=0, and on right\n",
    "                size *= 1+6*np.exp(-np.abs(ps[i].y)/scale)\n",
    "                ax.scatter(ps[i].x, ps[i].y, s=size, color=color[i], marker='o', zorder=5)\n",
    "\n",
    "    xlim = ax.get_xlim() # Now that all particles are plotted, get the size of the plot\n",
    "    ylim = ax.get_ylim()\n",
    "    cscale = 10*xlim[1]  # Take a bigger but relevant length scale for conjunction lines\n",
    "\n",
    "    if plotconjunctions:    \n",
    "        fadetimescale = sim.particles[-1].P/3. # timescale for the conjunction lines to dissapear\n",
    "        # Find all the conjunctions that have already happened and are within fadetimescale of sim.t\n",
    "        nearby_conjunctions = [conjunction for conjunction in conjunctions.events if sim.t - conjunction['time'] < fadetimescale and sim.t - conjunction['time'] > 0]\n",
    "        #print(sim.t)\n",
    "        #print([c['time'] for c in nearby_conjunctions])\n",
    "        for conjunction in nearby_conjunctions: \n",
    "            if conjunction['target'] and conjunction['target'] + 1 in plotparticles: # only plot if both are visible\n",
    "                # we now have to reload our binary and integrate to the time of conjunction to get the x and y values of the inner planet to plot our line\n",
    "                filename = \"../binaries/trappist.bin\"\n",
    "                sim2 = rebound.Simulation.from_file(filename)\n",
    "                sim2.t = 0\n",
    "                ss.rescale_time(sim2, sim2.particles[-1].P)\n",
    "                sim2.integrate(conjunction['time'])\n",
    "                x = sim2.particles[conjunction['target']].x\n",
    "                y = sim2.particles[conjunction['target']].y\n",
    "                ax.plot([0, cscale*x], [0,cscale*y], lw=5, color=color[conjunction['target']], alpha=max(1.-(sim.t-conjunction['time'])/fadetimescale,0.), zorder=1)\n",
    "\n",
    "    bkg = imread('../images/US_background_image.png')\n",
    "    ax.imshow(bkg, zorder=0, extent=xlim+ylim)\n",
    "\n",
    "    fig.savefig('tmp/pngs/{0:0=5d}.png'.format(params['frame_ctr']), transparent=True, dpi=300)\n",
    "    plt.close(fig)  "
   ]
  },
  {
   "cell_type": "markdown",
   "metadata": {},
   "source": [
    "Now we make our movie. We begin by importing what we need, and load our REBOUND binary simulation of the TRAPPIST-1 system that we want to animate/sonify. For convenience, we redefine the time in the simulation to 0, and rescale time so that every orbit of the outermost planet corresponds to one unit of time in the simulation (which we define as one beat in the music)."
   ]
  },
  {
   "cell_type": "code",
   "execution_count": 2,
   "metadata": {
    "collapsed": true
   },
   "outputs": [],
   "source": [
    "import sys\n",
    "sys.path.append('../')\n",
    "import systemsounds as ss\n",
    "import numpy as np\n",
    "import rebound\n",
    "\n",
    "filename = \"../binaries/trappist.bin\"\n",
    "sim = rebound.Simulation.from_file(filename)\n",
    "sim.t = 0\n",
    "ss.rescale_time(sim, sim.particles[-1].P)"
   ]
  },
  {
   "cell_type": "markdown",
   "metadata": {},
   "source": [
    "We chose to begin the movie at 30 beats per minute. We have to convert this to simulation time per second. Above we rescaled time so that one orbit of the outer planet is one unit of simulation time, so 30 bpm / 60 = 0.5 beats per second. We also assign colors to each of the particles in the simulation."
   ]
  },
  {
   "cell_type": "code",
   "execution_count": 3,
   "metadata": {
    "collapsed": true
   },
   "outputs": [],
   "source": [
    "bpm = 30\n",
    "frames = ss.FrameRecorder(sim, time_per_sec=bpm/60)\n",
    "transits = ss.EventRecorder(sim, lambda sim, i: sim.particles[i].y)\n",
    "conjunctions = ss.EventRecorder(sim, lambda sim, i: np.sin(sim.particles[i].theta - sim.particles[i+1].theta))\n",
    "\n",
    "# The commented out colors are the colors in the video, but we invert the colors in the post-processing, so we use\n",
    "# the corresponding inverse colors instead\n",
    "# actualcolors = ['None','red','darkorange','forestgreen','cyan','deepskyblue','violet','darkviolet']\n",
    "frames.color = [None, 'cyan','dodgerblue','hotpink','crimson','chocolate','forestgreen','yellowgreen']"
   ]
  },
  {
   "cell_type": "markdown",
   "metadata": {},
   "source": [
    "We also start our MIDI file now, so that we can enter the right tempo information as we go. We will add all the notes at the end:"
   ]
  },
  {
   "cell_type": "code",
   "execution_count": 4,
   "metadata": {
    "collapsed": true
   },
   "outputs": [],
   "source": [
    "from midiutil import MIDIFile\n",
    "\n",
    "midifile = MIDIFile(adjust_origin=True)\n",
    "midifile.addTempo(track=0, time=sim.t, tempo=bpm) "
   ]
  },
  {
   "cell_type": "markdown",
   "metadata": {},
   "source": [
    "We now choreograph the movie. We begin by staggering in the planets from the outside in, one bar (4 beats) at a time. We want to show and play the planets' transits, so we set `frames.plotparticles` and `transits.targets` respectively. We don't yet want to play the conjunctions, so we set `conjunctions.targets` to an empty list. "
   ]
  },
  {
   "cell_type": "code",
   "execution_count": 5,
   "metadata": {},
   "outputs": [
    {
     "name": "stdout",
     "output_type": "stream",
     "text": [
      "t = 0.0\t planets = [7]\n",
      "t = 4.0\t planets = [6, 7]\n",
      "t = 8.0\t planets = [5, 6, 7]\n",
      "t = 12.0\t planets = [4, 5, 6, 7]\n",
      "t = 16.0\t planets = [3, 4, 5, 6, 7]\n",
      "t = 20.0\t planets = [2, 3, 4, 5, 6, 7]\n",
      "t = 24.0\t planets = [1, 2, 3, 4, 5, 6, 7]\n"
     ]
    }
   ],
   "source": [
    "frames.plottransits = True\n",
    "frames.plotconjunctions = False\n",
    "\n",
    "planets = list(range(sim.N))\n",
    "conjunctions.targets = []\n",
    "for i in range(1,sim.N):\n",
    "    ps = planets[-i:]\n",
    "    print(\"t = {0}\\t planets = {1}\".format(sim.t, ps))\n",
    "    frames.plotparticles = ps\n",
    "    transits.targets = ps\n",
    "    sim.integrate(sim.t+4)"
   ]
  },
  {
   "cell_type": "markdown",
   "metadata": {},
   "source": [
    "We now want to go back to showing just the outer two planets, and then stagger in the planets again to highlight their conjunctions. So we leave all the transits playing (`transits.targets`), but stop showing them, and now stagger in `conjunctions.targets` and start displaying them. \n",
    "\n",
    "Additionally, we want to speed the movie/music up to 100 bpm linearly over the 6 bars in which we play the conjunctions, so we first calculate what the bpm should be at the beginning of each bar:"
   ]
  },
  {
   "cell_type": "code",
   "execution_count": 6,
   "metadata": {},
   "outputs": [
    {
     "name": "stdout",
     "output_type": "stream",
     "text": [
      "[  30.           41.66666667   53.33333333   65.           76.66666667\n",
      "   88.33333333  100.        ]\n"
     ]
    }
   ],
   "source": [
    "planets = list(range(sim.N))\n",
    "frames.plottransits = False\n",
    "frames.plotconjunctions = True\n",
    "\n",
    "conjunctionbars = 6\n",
    "barbpms = np.linspace(30,100,conjunctionbars+1)\n",
    "print(barbpms)"
   ]
  },
  {
   "cell_type": "markdown",
   "metadata": {},
   "source": [
    "We now stagger in the planets, and gradually increase the bpms across each bar so it sounds smooth. Each time we change the bpm (`time_per_sec`), we need to add that tempo change to our MIDI file:"
   ]
  },
  {
   "cell_type": "code",
   "execution_count": 7,
   "metadata": {},
   "outputs": [
    {
     "name": "stdout",
     "output_type": "stream",
     "text": [
      "t = 28.0\t bpm = 30.0\t planets = [6, 7]\n",
      "t = 32.0\t bpm = 41.666666666666664\t planets = [5, 6, 7]\n",
      "t = 36.0\t bpm = 53.33333333333333\t planets = [4, 5, 6, 7]\n",
      "t = 40.0\t bpm = 65.0\t planets = [3, 4, 5, 6, 7]\n",
      "t = 44.0\t bpm = 76.66666666666666\t planets = [2, 3, 4, 5, 6, 7]\n",
      "t = 48.0\t bpm = 88.33333333333333\t planets = [1, 2, 3, 4, 5, 6, 7]\n"
     ]
    }
   ],
   "source": [
    "bpms = []\n",
    "\n",
    "N = 10 # number of gradations per bar for bpm adjustments (so it sounds smoother)   \n",
    "for j, i in enumerate(range(2,sim.N)):\n",
    "    ps = planets[-i:]\n",
    "    print(\"t = {0}\\t bpm = {1}\\t planets = {2}\".format(sim.t, barbpms[j], ps))\n",
    "    frames.plotparticles = ps\n",
    "    conjunctions.targets = ps[:-1] # exclude outermost planet, since it doesn't have an exterior neighbor\n",
    "    \n",
    "    times = np.linspace(sim.t,sim.t+4,N,endpoint=True)\n",
    "    bpms = np.linspace(barbpms[j],barbpms[j+1],N,endpoint=True) # array of bpm values at N points within the current bar\n",
    "    for time, bpm in zip(times, bpms):\n",
    "        frames.time_per_sec = bpm/60\n",
    "        midifile.addTempo(track=0, time=sim.t, tempo=bpm) \n",
    "        sim.integrate(time)"
   ]
  },
  {
   "cell_type": "markdown",
   "metadata": {},
   "source": [
    "We then play for 4 for more bars, keeping everything the same:"
   ]
  },
  {
   "cell_type": "code",
   "execution_count": 8,
   "metadata": {},
   "outputs": [
    {
     "name": "stdout",
     "output_type": "stream",
     "text": [
      "t = 52.0\t planets = [1, 2, 3, 4, 5, 6, 7]\n",
      "t = 56.0\t planets = [1, 2, 3, 4, 5, 6, 7]\n",
      "t = 60.0\t planets = [1, 2, 3, 4, 5, 6, 7]\n",
      "t = 64.0\t planets = [1, 2, 3, 4, 5, 6, 7]\n"
     ]
    }
   ],
   "source": [
    "for i in range(4):\n",
    "    print(\"t = {0}\\t planets = {1}\".format(sim.t, ps))\n",
    "    sim.integrate(sim.t+4)"
   ]
  },
  {
   "cell_type": "markdown",
   "metadata": {},
   "source": [
    "Finally, we reduce the tempo back down to 30 bpm, and play for 3 bars (12 beats):"
   ]
  },
  {
   "cell_type": "code",
   "execution_count": 9,
   "metadata": {},
   "outputs": [
    {
     "name": "stdout",
     "output_type": "stream",
     "text": [
      "t = 80.0\t planets = [1, 2, 3, 4, 5, 6, 7]\n"
     ]
    }
   ],
   "source": [
    "bpm = 30\n",
    "frames.time_per_sec = bpm/60\n",
    "sim.integrate(sim.t+12)\n",
    "print(\"t = {0}\\t planets = {1}\".format(sim.t, ps))"
   ]
  },
  {
   "cell_type": "markdown",
   "metadata": {},
   "source": [
    "# MIDI File\n",
    "\n",
    "We now write the MIDI file. We scale all transit notes to the outermost planet, which we assign to a C4 note (MIDI note 48). We then manually assign notes to the conjunctions."
   ]
  },
  {
   "cell_type": "code",
   "execution_count": 10,
   "metadata": {
    "collapsed": true
   },
   "outputs": [],
   "source": [
    "transit_notes = ss.calc_midi_notes(sim.particles, ref_note=48, ref_ID=-1)\n",
    "conjunction_notes = [0, 33, 35, 20, 18, 14, 12]\n",
    "\n",
    "for transit in transits.events:\n",
    "    midifile.addNote(track=0, channel=transit['target'], pitch=transit_notes[transit['target']], time=transit['time'], duration=1, volume=100)\n",
    "for conjunction in conjunctions.events:\n",
    "        midifile.addNote(track=0, channel=sim.N, pitch=conjunction_notes[conjunction['target']], time=conjunction['time'], duration=1, volume=100)\n",
    "        \n",
    "with open(\"./trappist.mid\", \"wb\") as f:\n",
    "    midifile.writeFile(f)"
   ]
  },
  {
   "cell_type": "markdown",
   "metadata": {},
   "source": [
    "For the actual movie, we loaded the MIDI in Logic (music mixing software), and assigned each of these conjunctions to a different drum."
   ]
  },
  {
   "cell_type": "markdown",
   "metadata": {},
   "source": [
    "# Write images to temporary folder for movie"
   ]
  },
  {
   "cell_type": "markdown",
   "metadata": {},
   "source": [
    "Now we write the images. This is parallelized, but making matplotlib plots is slow, so this can take a couple hours! (the movie is 2 mins long)."
   ]
  },
  {
   "cell_type": "code",
   "execution_count": null,
   "metadata": {},
   "outputs": [],
   "source": [
    "%%time\n",
    "from subprocess import call\n",
    "call(\"rm -f tmp/pngs/*\", shell=True)\n",
    "pool = rebound.InterruptiblePool()\n",
    "res = pool.map(write_png, frames.events)"
   ]
  },
  {
   "cell_type": "markdown",
   "metadata": {},
   "source": [
    "# Outputting a movie file\n",
    "\n",
    "You now have all the frames for the movie in `systemsounds/jupyter_examples/tmp/pngs`, as well as the MIDI file `systemsounds/jupyter_examples/trappist.mid`, and can stitch them together into a movie using your favorite software. For some ideas and options, see [MovieEditingSoftware.ipynb](MovieEditingSoftware.ipynb)\n"
   ]
  }
 ],
 "metadata": {
  "kernelspec": {
   "display_name": "Python 3",
   "language": "python",
   "name": "python3"
  },
  "language_info": {
   "codemirror_mode": {
    "name": "ipython",
    "version": 3
   },
   "file_extension": ".py",
   "mimetype": "text/x-python",
   "name": "python",
   "nbconvert_exporter": "python",
   "pygments_lexer": "ipython3",
   "version": "3.6.1"
  }
 },
 "nbformat": 4,
 "nbformat_minor": 2
}
