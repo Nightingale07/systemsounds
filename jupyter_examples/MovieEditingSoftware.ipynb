{
 "cells": [
  {
   "cell_type": "markdown",
   "metadata": {},
   "source": [
    "# Advanced Movie/Music Editing\n",
    "\n",
    "If you want to do fancy editing with movies and sound, you probably need more serious software. This will vary by platform, but for movies on Mac, iMovie is a good basic option that comes with most new machines, Final Cut Pro has more options. For music, Garage Band does a lot of basic things, Logic has more functionality. If trying to combine a MIDI in your movie, it's probably not worth doing anything fancier than line them up by hand in the software.\n",
    "\n",
    "# Command Line Editing\n",
    "\n",
    "There are also a number of open-source, very capable packages that allow you to do your editing on the command line. \n",
    "\n",
    "**DISCLAIMER: This will not work for everyone, and we can't hope to effectively troubleshoot people's platform/dependency issues.** The various libraries have great documentation. We can tell you what works for us on Mac, which you can feel free to use as a starting point. We use `timidity` for manipulating the MIDI files, and `ffmpeg` for the movies.\n",
    "\n",
    "# Installation\n",
    "\n",
    "The packages can both be installed using homebrew. For FFMPEG you have to make sure you install the codecs you want to use:\n",
    "\n",
    "```\n",
    "brew install timidity\n",
    "$ brew install ffmpeg --with-fdk-aac --with-ffplay --with-freetype --with-libass --with-libquvi --with-libvorbis --with-libvpx --with-opus --with-x265\n",
    "```"
   ]
  },
  {
   "cell_type": "markdown",
   "metadata": {},
   "source": [
    "# Making a Movie\n",
    "\n",
    "We first have to make the frames, as described in [MakingAMovie.ipynb](MakingAMovie.ipynb). Let's load and run that notebook to generate the frames that we will need to stitch together:"
   ]
  },
  {
   "cell_type": "code",
   "execution_count": 1,
   "metadata": {},
   "outputs": [
    {
     "name": "stdout",
     "output_type": "stream",
     "text": [
      "CPU times: user 18 ms, sys: 24.3 ms, total: 42.2 ms\n",
      "Wall time: 4.39 s\n"
     ]
    }
   ],
   "source": [
    "%run ./MakingAMovie.ipynb"
   ]
  },
  {
   "cell_type": "markdown",
   "metadata": {},
   "source": [
    "You can also run these commands on the command line. From the notebook, we have to make sure we delete any file with the same name or the command will fail. We also have to specify the frames per second we used in generating the frame events, which defaults to 30:"
   ]
  },
  {
   "cell_type": "code",
   "execution_count": 2,
   "metadata": {},
   "outputs": [
    {
     "data": {
      "text/plain": [
       "0"
      ]
     },
     "execution_count": 2,
     "metadata": {},
     "output_type": "execute_result"
    }
   ],
   "source": [
    "moviename = 'test.mp4'\n",
    "fps = 30\n",
    "try:\n",
    "    call(\"rm -f {0}\".format(moviename), shell=True)\n",
    "except:\n",
    "    pass\n",
    "call(\"ffmpeg -r {0} -i tmp/pngs/%05d.png -c:v libx264 -pix_fmt yuv420p {1}\".format(fps, moviename), shell=True)\n",
    "call(\"open test.mp4\", shell=True)"
   ]
  },
  {
   "cell_type": "markdown",
   "metadata": {},
   "source": [
    "# Combining a movie with a MIDI\n",
    "\n",
    "Let's first make a simple MIDI (see [WritingMIDIFiles.ipynb](WritingMIDIFiles.ipynb)) that we want to add in our movie:"
   ]
  },
  {
   "cell_type": "code",
   "execution_count": 3,
   "metadata": {},
   "outputs": [],
   "source": [
    "from midiutil import MIDIFile\n",
    "import sys\n",
    "sys.path.append('../')\n",
    "import systemsounds as ss\n",
    "\n",
    "bpm = 30\n",
    "midifile = MIDIFile(adjust_origin=True)\n",
    "midifile.addTempo(track=0, time=0, tempo=bpm) \n",
    "transit_notes = ss.calc_midi_notes(sim.particles, ref_note=48, ref_ID=-1)\n",
    "conjunction_note = 72 # play higher note at conjunctions (C6)\n",
    "\n",
    "for transit in transits.events:\n",
    "    if transit['target'] >= 5:\n",
    "        midifile.addNote(track=0, channel=transit['target'], pitch=transit_notes[transit['target']], time=transit['time'], duration=1, volume=100)\n",
    "for conjunction in conjunctions.events:\n",
    "    if conjunction['target'] >= 5:\n",
    "        midifile.addNote(track=0, channel=sim.N, pitch=conjunction_note, time=conjunction['time'], duration=1, volume=100)\n",
    "\n",
    "with open(\"test.mid\", \"wb\") as f:\n",
    "    midifile.writeFile(f)"
   ]
  },
  {
   "cell_type": "markdown",
   "metadata": {
    "collapsed": true
   },
   "source": [
    "We first have to convert our MIDI into a wav file, and we make sure the initial silence is not cut off (which would get things off sync). The MIDI also includes silence at the end, which makes it longer than our movie, so we then use `ffmpeg` to trim it to the right length. For this we need the length of the movie in seconds, which is stored in `frames.elapsed_time`. "
   ]
  },
  {
   "cell_type": "code",
   "execution_count": 4,
   "metadata": {},
   "outputs": [
    {
     "data": {
      "text/plain": [
       "0"
      ]
     },
     "execution_count": 4,
     "metadata": {},
     "output_type": "execute_result"
    }
   ],
   "source": [
    "try:\n",
    "    call(\"rm -f test.mp4\", shell=True)\n",
    "    call(\"rm -f tmp/test.wav\", shell=True)\n",
    "    call(\"rm -f tmp/testcut.wav\", shell=True)\n",
    "except:\n",
    "    pass\n",
    "call(\"timidity -Ow test.mid -o tmp/test.wav --preserve-silence\", shell=True)\n",
    "call(\"ffmpeg -t {0} -i tmp/test.wav tmp/testcut.wav\".format(frames.elapsed_time), shell=True)"
   ]
  },
  {
   "cell_type": "markdown",
   "metadata": {},
   "source": [
    "Finally we stitch our frames together and include the MIDI:"
   ]
  },
  {
   "cell_type": "code",
   "execution_count": 5,
   "metadata": {},
   "outputs": [
    {
     "data": {
      "text/plain": [
       "0"
      ]
     },
     "execution_count": 5,
     "metadata": {},
     "output_type": "execute_result"
    }
   ],
   "source": [
    "call(\"ffmpeg -r {0} -i tmp/pngs/%05d.png -i tmp/testcut.wav -c:v libx264 -pix_fmt yuv420p -c:a libfdk_aac -b:a 192k -shortest test.mp4\".format(fps), shell=True)\n",
    "call(\"open test.mp4\", shell=True)"
   ]
  },
  {
   "cell_type": "code",
   "execution_count": null,
   "metadata": {
    "collapsed": true
   },
   "outputs": [],
   "source": []
  }
 ],
 "metadata": {
  "kernelspec": {
   "display_name": "Python 3",
   "language": "python",
   "name": "python3"
  },
  "language_info": {
   "codemirror_mode": {
    "name": "ipython",
    "version": 3
   },
   "file_extension": ".py",
   "mimetype": "text/x-python",
   "name": "python",
   "nbconvert_exporter": "python",
   "pygments_lexer": "ipython3",
   "version": "3.6.1"
  }
 },
 "nbformat": 4,
 "nbformat_minor": 2
}
