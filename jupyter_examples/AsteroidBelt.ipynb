{
 "cells": [
  {
   "cell_type": "markdown",
   "metadata": {},
   "source": [
    "# Asteroid Belt\n",
    "Make sim of asteroid belt."
   ]
  },
  {
   "cell_type": "code",
   "execution_count": 122,
   "metadata": {
    "collapsed": true
   },
   "outputs": [],
   "source": [
    "import PIL # reminder that this is a requirement\n",
    "from scipy.misc import imread\n",
    "import matplotlib.pyplot as plt\n",
    "\n",
    "def write_png(params):\n",
    "    sim = rebound.Simulation.from_file(params['filename'])\n",
    "    ps = sim.particles\n",
    "    plotparticles = params['plotparticles']       # particles that should be displayed\n",
    "    plottransits = params['plottransits']         # whether we should highlight transits\n",
    "    color = params['color']                       # colors for each of the particles (including the star)\n",
    "    figscale= params['figscale']\n",
    "    \n",
    "    #only plot particles once they have transisited for the first time\n",
    "    '''\n",
    "    plotparticles=[]\n",
    "    show_orbit = False\n",
    "    for i in range(len(transits.events)):\n",
    "        if sim.t > transits.events[i]['time'] and transits.events[i]['target'] not in plotparticles:\n",
    "            plotparticles.append(transits.events[i]['target'])\n",
    "    plotparticles=sorted(plotparticles)\n",
    "    if len(plotparticles)>0:\n",
    "        show_orbit = True\n",
    "    '''\n",
    "    show_orbit = True\n",
    "    \n",
    "    # First make a color list that only includes the particles we want to plot\n",
    "    #coloriterator = [color[i] for i in plotparticles]\n",
    "    lw=1 # linewidth\n",
    "\n",
    "    fig = rebound.OrbitPlot(sim, figsize=(8,8), show_orbit=show_orbit, color=False, lw=lw, plotparticles=plotparticles,lim=figscale)\n",
    "\n",
    "\n",
    "    ax = fig.axes[0] # turn off axes\n",
    "    ax.axis('off')\n",
    "    \n",
    "    if show_orbit:\n",
    "        #refsize=25*lw # this is what REBOUND uses for size of circles in call to plt.scatter\n",
    "        refsize=35*lw \n",
    "        for i in plotparticles:\n",
    "            ax.scatter(ps[i].x, ps[i].y, s=refsize, color='black', marker='o', zorder=4)\n",
    "            \n",
    "    #modify to enlarge planet on its entrance\n",
    "    if plottransits:\n",
    "        refsize=35*lw \n",
    "        for i in plotparticles: # overplot markers so planets have their own color\n",
    "            #ax.scatter(ps[i].x, ps[i].y, s=refsize, color=color[i], marker='o', zorder=4)\n",
    "            scale=ps[i].a/3     # length scale for making dots bigger\n",
    "            size=refsize\n",
    "            if ps[i].x > 0 and np.abs(ps[i].y)/scale < 1: # increase size when particle is within `scale` of y=0, and on right\n",
    "                size *= 1+8*np.exp(-np.abs(ps[i].y)/scale)\n",
    "                ax.scatter(ps[i].x, ps[i].y, s=size, color='black', marker='o', zorder=5)\n",
    "\n",
    "    fig.savefig('tmp/pngs/{0:0=5d}.png'.format(params['frame_ctr']), transparent=False, dpi=300)\n",
    "    plt.close(fig)  "
   ]
  },
  {
   "cell_type": "markdown",
   "metadata": {},
   "source": [
    "Now we make our movie. We begin by importing what we need, and load our REBOUND binary simulation of the TRAPPIST-1 system that we want to animate/sonify. For convenience, we redefine the time in the simulation to 0, and rescale time so that every orbit of the innermost planet corresponds to one unit of time in the simulation (which we define as one beat in the music)."
   ]
  },
  {
   "cell_type": "code",
   "execution_count": 135,
   "metadata": {},
   "outputs": [
    {
     "name": "stdout",
     "output_type": "stream",
     "text": [
      "1.0000000000000007 0.0010000000000000007\n"
     ]
    }
   ],
   "source": [
    "import sys\n",
    "sys.path.append('../')\n",
    "import systemsounds as ss\n",
    "import numpy as np\n",
    "import rebound\n",
    "\n",
    "sim0 = rebound.Simulation.from_file(\"../binaries/solarsystemI.bin\")\n",
    "P_mars=sim0.particles[-1].P\n",
    "\n",
    "#filename = \"../binaries/asteroidbelt.bin\"\n",
    "filename = \"../binaries/asteroidbelt_m.bin\" #includes mars as planet 1\n",
    "\n",
    "sim = rebound.Simulation.from_file(filename)\n",
    "sim.t = 0\n",
    "#ss.rescale_time(sim, sim.particles[-1].P) #set time to period of outer asteroid\n",
    "#ss.rescale_time(sim, P_mars) #set time to period of mars, why doesn't this work? doesn't record events\n",
    "ss.rescale_time(sim, sim.particles[1].P) #set time to period of mars\n",
    "sim.dt=sim.particles[1].P/1000.\n",
    "print(sim.particles[1].P,sim.dt)"
   ]
  },
  {
   "cell_type": "markdown",
   "metadata": {},
   "source": [
    "We chose to begin the movie at 60 beats per minute. We have to convert this to simulation time per second. Above we rescaled time so that one orbit of the outer planet is one unit of simulation time, so 60 bpm / 60 = 1 beats per second. We also assign colors to each of the particles in the simulation."
   ]
  },
  {
   "cell_type": "code",
   "execution_count": 136,
   "metadata": {},
   "outputs": [],
   "source": [
    "bpm = 34. \n",
    "frames = ss.FrameRecorder(sim, time_per_sec=bpm/60)\n",
    "transits = ss.EventRecorder(sim, lambda sim, i: sim.particles[i].y)\n",
    "\n",
    "# The commented out colors are the colors in the video, but we invert the colors in the post-processing, so we use\n",
    "# the corresponding inverse colors instead\n",
    "# actualcolors = ['None','grey','darkorange','forestgreen','cyan','deepskyblue','violet','darkviolet']\n",
    "frames.color = [None, 'grey','royalblue','darkorange','cyan'] #not suing\n",
    "frames.figscale = 1.1*sim.particles[-1].a"
   ]
  },
  {
   "cell_type": "markdown",
   "metadata": {},
   "source": [
    "We also start our MIDI file now, so that we can enter the right tempo information as we go. We will add all the notes at the end:"
   ]
  },
  {
   "cell_type": "code",
   "execution_count": 137,
   "metadata": {},
   "outputs": [],
   "source": [
    "from midiutil import MIDIFile\n",
    "\n",
    "midifile = MIDIFile(adjust_origin=True)\n",
    "midifile.addTempo(track=0, time=sim.t, tempo=bpm) "
   ]
  },
  {
   "cell_type": "markdown",
   "metadata": {},
   "source": [
    "We now choreograph the movie. We begin by staggering in the planets from the outside in, one bar (4 beats) at a time. We want to show and play the planets' transits, so we set `frames.plotparticles` and `transits.targets` respectively. "
   ]
  },
  {
   "cell_type": "markdown",
   "metadata": {},
   "source": [
    "# Test"
   ]
  },
  {
   "cell_type": "markdown",
   "metadata": {},
   "source": [
    "May need to integrate backwards first to have asteroids orbiting before planets enter"
   ]
  },
  {
   "cell_type": "code",
   "execution_count": 140,
   "metadata": {},
   "outputs": [
    {
     "name": "stdout",
     "output_type": "stream",
     "text": [
      "0.9999999999999996 0.015707311908910296\n",
      "t = 16.0\n",
      "t = 20.0\n",
      "1.0000000000000002 0.015458302635266962\n"
     ]
    }
   ],
   "source": [
    "frames.plottransits = False\n",
    "planets = list(range(1,sim.N))\n",
    "ps=planets\n",
    "frames.plotparticles = ps\n",
    "transits.targets = []\n",
    "#sim.integrate(sim.t-8) #back up, show mars to scale size\n",
    "#frames.plotparticles = ps[1:] #don't show mars\n",
    "#sim.integrate(sim.t+8)\n",
    "for i in range(2):\n",
    "    print(\"t = {0}\".format(sim.t))\n",
    "    sim.integrate(sim.t+4)   "
   ]
  },
  {
   "cell_type": "code",
   "execution_count": 141,
   "metadata": {},
   "outputs": [
    {
     "name": "stdout",
     "output_type": "stream",
     "text": [
      "[{'time': 0.01888890075683595, 'target': None, 'fps': 30, 'time_per_sec': 0.5666666666666667, 'frame_ctr': 0, 'elapsed_time': 0.03705882352941179, 'plotparticles': [1, 2, 3, 4, 5, 6, 7, 8, 9, 10, 11, 12, 13, 14, 15, 16, 17, 18, 19, 20, 21, 22, 23, 24, 25, 26, 27, 28, 29, 30, 31, 32, 33, 34, 35, 36, 37, 38, 39, 40, 41, 42, 43, 44, 45, 46, 47, 48, 49, 50, 51, 52, 53, 54, 55, 56, 57, 58, 59, 60, 61, 62, 63, 64, 65, 66, 67, 68, 69, 70, 71, 72, 73, 74, 75, 76, 77, 78, 79, 80, 81, 82, 83, 84, 85, 86, 87, 88, 89, 90, 91, 92, 93, 94, 95, 96, 97, 98, 99, 100, 101, 102, 103, 104, 105, 106, 107, 108, 109, 110, 111, 112, 113, 114, 115, 116, 117, 118, 119, 120, 121, 122, 123, 124, 125, 126, 127, 128, 129, 130, 131, 132, 133, 134, 135, 136, 137, 138, 139, 140, 141, 142, 143, 144, 145, 146, 147, 148, 149, 150, 151, 152, 153, 154, 155, 156, 157, 158, 159, 160, 161, 162, 163, 164, 165, 166, 167, 168, 169, 170, 171, 172, 173, 174, 175, 176, 177, 178, 179, 180, 181, 182, 183, 184, 185, 186, 187, 188, 189, 190, 191, 192, 193, 194, 195, 196, 197, 198, 199, 200, 201, 202, 203, 204, 205, 206, 207, 208, 209, 210, 211], 'color': [None, 'grey', 'royalblue', 'darkorange', 'cyan'], 'figscale': 4.760803173310831, 'plottransits': False, 'filename': 'tmp/binaries/frame0.bin'}, {'time': 0.03777781784898522, 'target': None, 'fps': 30, 'time_per_sec': 0.5666666666666667, 'frame_ctr': 1, 'elapsed_time': 0.08845447964367754, 'plotparticles': [1, 2, 3, 4, 5, 6, 7, 8, 9, 10, 11, 12, 13, 14, 15, 16, 17, 18, 19, 20, 21, 22, 23, 24, 25, 26, 27, 28, 29, 30, 31, 32, 33, 34, 35, 36, 37, 38, 39, 40, 41, 42, 43, 44, 45, 46, 47, 48, 49, 50, 51, 52, 53, 54, 55, 56, 57, 58, 59, 60, 61, 62, 63, 64, 65, 66, 67, 68, 69, 70, 71, 72, 73, 74, 75, 76, 77, 78, 79, 80, 81, 82, 83, 84, 85, 86, 87, 88, 89, 90, 91, 92, 93, 94, 95, 96, 97, 98, 99, 100, 101, 102, 103, 104, 105, 106, 107, 108, 109, 110, 111, 112, 113, 114, 115, 116, 117, 118, 119, 120, 121, 122, 123, 124, 125, 126, 127, 128, 129, 130, 131, 132, 133, 134, 135, 136, 137, 138, 139, 140, 141, 142, 143, 144, 145, 146, 147, 148, 149, 150, 151, 152, 153, 154, 155, 156, 157, 158, 159, 160, 161, 162, 163, 164, 165, 166, 167, 168, 169, 170, 171, 172, 173, 174, 175, 176, 177, 178, 179, 180, 181, 182, 183, 184, 185, 186, 187, 188, 189, 190, 191, 192, 193, 194, 195, 196, 197, 198, 199, 200, 201, 202, 203, 204, 205, 206, 207, 208, 209, 210, 211], 'color': [None, 'grey', 'royalblue', 'darkorange', 'cyan'], 'figscale': 4.760803173310831, 'plottransits': False, 'filename': 'tmp/binaries/frame1.bin'}] 0.010000000000000002\n",
      "0.015458302635266962\n"
     ]
    }
   ],
   "source": [
    "print(frames.events)"
   ]
  },
  {
   "cell_type": "markdown",
   "metadata": {},
   "source": [
    "# MIDI File\n",
    "\n",
    "We now write the MIDI file. We scale all transit notes to the outermost planet, which we assign to a C4 note (MIDI note 48). "
   ]
  },
  {
   "cell_type": "code",
   "execution_count": 57,
   "metadata": {
    "collapsed": true
   },
   "outputs": [],
   "source": [
    "transit_notes = ss.calc_midi_notes(sim.particles, ref_note=48, ref_ID=-1)\n",
    "\n",
    "for transit in transits.events:\n",
    "    midifile.addNote(track=0, channel=transit['target'], pitch=transit_notes[transit['target']], time=transit['time'], duration=1, volume=100)\n",
    "\n",
    "with open(\"./asteroidbelt.mid\", \"wb\") as f:\n",
    "    midifile.writeFile(f)"
   ]
  },
  {
   "cell_type": "markdown",
   "metadata": {},
   "source": [
    "For the actual movie, we loaded the MIDI in Logic (music mixing software), and assigned each of these conjunctions to a different drum."
   ]
  },
  {
   "cell_type": "markdown",
   "metadata": {},
   "source": [
    "# Write images to temporary folder for movie"
   ]
  },
  {
   "cell_type": "markdown",
   "metadata": {},
   "source": [
    "Now we write the images. This is parallelized, but making matplotlib plots is slow, so this can take a couple hours! (the movie is 2 mins long)."
   ]
  },
  {
   "cell_type": "code",
   "execution_count": 82,
   "metadata": {},
   "outputs": [
    {
     "name": "stdout",
     "output_type": "stream",
     "text": [
      "CPU times: user 15 ms, sys: 23.3 ms, total: 38.2 ms\n",
      "Wall time: 3.97 s\n"
     ]
    }
   ],
   "source": [
    "%%time\n",
    "from subprocess import call\n",
    "call(\"rm -f tmp/pngs/*\", shell=True)\n",
    "pool = rebound.InterruptiblePool()\n",
    "res = pool.map(write_png, frames.events)"
   ]
  },
  {
   "cell_type": "markdown",
   "metadata": {},
   "source": [
    "# Write movie file\n",
    "\n",
    "You now have all the frames for the movie in `systemsounds/jupyter_examples/tmp/pngs`, as well as the MIDI file `systemsounds/jupyter_examples/trappist.mid`, and can stitch them together into a movie using your favorite software. For some ideas and options, see [MovieEditingSoftware.ipynb](MovieEditingSoftware.ipynb)\n"
   ]
  },
  {
   "cell_type": "code",
   "execution_count": 66,
   "metadata": {},
   "outputs": [
    {
     "data": {
      "text/plain": [
       "0"
      ]
     },
     "execution_count": 66,
     "metadata": {},
     "output_type": "execute_result"
    }
   ],
   "source": [
    "moviename = 'asteroidbelt.mp4'\n",
    "fps = 30\n",
    "try:\n",
    "    call(\"rm -f {0}\".format(moviename), shell=True)\n",
    "except:\n",
    "    pass\n",
    "call(\"ffmpeg -r {0} -i tmp/pngs/%05d.png -c:v libx264 -pix_fmt yuv420p {1}\".format(fps, moviename), shell=True)\n",
    "#call(\"open test.mp4\", shell=True)"
   ]
  },
  {
   "cell_type": "code",
   "execution_count": null,
   "metadata": {
    "collapsed": true
   },
   "outputs": [],
   "source": []
  }
 ],
 "metadata": {
  "kernelspec": {
   "display_name": "Python 3",
   "language": "python",
   "name": "python3"
  },
  "language_info": {
   "codemirror_mode": {
    "name": "ipython",
    "version": 3
   },
   "file_extension": ".py",
   "mimetype": "text/x-python",
   "name": "python",
   "nbconvert_exporter": "python",
   "pygments_lexer": "ipython3",
   "version": "3.6.1"
  }
 },
 "nbformat": 4,
 "nbformat_minor": 2
}
