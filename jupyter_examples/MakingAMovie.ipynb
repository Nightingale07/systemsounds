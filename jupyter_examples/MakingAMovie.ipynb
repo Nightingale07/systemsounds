{
 "cells": [
  {
   "cell_type": "markdown",
   "metadata": {},
   "source": [
    "# Setup\n",
    "\n",
    "We begin by importing what we need, and loading a simulation. We rescale the time for convenience so that a simulation time of 1 corresponds to one orbit of the outermost planet."
   ]
  },
  {
   "cell_type": "code",
   "execution_count": 4,
   "metadata": {
    "collapsed": false
   },
   "outputs": [],
   "source": [
    "import sys\n",
    "sys.path.append('../')\n",
    "from systemsounds import rescale_time, calc_midi_notes, EventRecorder, FrameRecorder\n",
    "import numpy as np\n",
    "import rebound\n",
    "filename = \"../binaries/trappist.bin\"\n",
    "sim = rebound.Simulation.from_file(filename)\n",
    "sim.t = 0\n",
    "rescale_time(sim, sim.particles[-1].P)"
   ]
  },
  {
   "cell_type": "markdown",
   "metadata": {},
   "source": [
    "We first add a `FrameRecorder` to write frames for the movie. We have to choose how much simulation time will correspond to one second in the movie. Here we choose for each unit of time (outer planet orbits) to correspond to two seconds of movie time. We also record all the transits and conjunctions."
   ]
  },
  {
   "cell_type": "code",
   "execution_count": 5,
   "metadata": {
    "collapsed": true
   },
   "outputs": [],
   "source": [
    "frames = FrameRecorder(sim, time_per_sec=2)\n",
    "transits = EventRecorder(sim, lambda sim, i: sim.particles[i].y, targets=range(1,8))\n",
    "conjunctions = EventRecorder(sim, lambda sim, i: np.sin(sim.particles[i].theta - sim.particles[i+1].theta), targets=range(1,7))"
   ]
  },
  {
   "cell_type": "markdown",
   "metadata": {},
   "source": [
    "As an overview, the approach is for the `FrameRecorder` to record events at all the moments when we need to write a frame, and we'll later write a function to generate each of those frames. This makes it easier to parallelize, which is nice since generating individual plots with matplotlib is quite slow.\n",
    "\n",
    "With that in mind, we can also add any metadata to the `FrameRecorder` that we later want to use to write the movie frames. This will be saved in each of the frame events, e.g.:"
   ]
  },
  {
   "cell_type": "code",
   "execution_count": 6,
   "metadata": {
    "collapsed": true
   },
   "outputs": [],
   "source": [
    "frames.color = [None, 'cyan','dodgerblue','hotpink','crimson','chocolate','forestgreen','yellowgreen']"
   ]
  },
  {
   "cell_type": "markdown",
   "metadata": {},
   "source": [
    "We'll make a simple movie where we stagger in only the outer 3 planets. We do that by changing `frames.plotparticles` to store the particles we want displayed."
   ]
  },
  {
   "cell_type": "code",
   "execution_count": 7,
   "metadata": {
    "collapsed": false
   },
   "outputs": [
    {
     "name": "stdout",
     "output_type": "stream",
     "text": [
      "[6, 7]\n",
      "[5, 6, 7]\n"
     ]
    }
   ],
   "source": [
    "planets = list(range(sim.N))\n",
    "for i in range(2,4):\n",
    "    ps = planets[-i:]\n",
    "    frames.plotparticles = ps\n",
    "    print(frames.plotparticles)\n",
    "    sim.integrate(tmax=sim.t+1)"
   ]
  },
  {
   "cell_type": "markdown",
   "metadata": {},
   "source": [
    "We now have events for all the frames in the movie in `frames.events`, all the transits in `transits.events` and conjunctions in `conjunctions.events`."
   ]
  },
  {
   "cell_type": "markdown",
   "metadata": {},
   "source": [
    "# Writing the movie frames\n",
    "\n",
    "We now need to write a function that writes movie frames for each of the events. Each frame event stores basic information for the frame in a dictionary, notably a filename to a binary that stores the simulation at the appropriate time for the frame, as well as any metadata we have added before/between calls to sim.integrate (e.g. the `color` field we added above). We can see this in the first frame event:"
   ]
  },
  {
   "cell_type": "code",
   "execution_count": 8,
   "metadata": {
    "collapsed": false
   },
   "outputs": [
    {
     "data": {
      "text/plain": [
       "{'color': [None,\n",
       "  'cyan',\n",
       "  'dodgerblue',\n",
       "  'hotpink',\n",
       "  'crimson',\n",
       "  'chocolate',\n",
       "  'forestgreen',\n",
       "  'yellowgreen'],\n",
       " 'filename': 'tmp/binaries/frame0.bin',\n",
       " 'fps': 30,\n",
       " 'frame_ctr': 0,\n",
       " 'plotparticles': [6, 7],\n",
       " 'target': None,\n",
       " 'time': 0.033333324224463834,\n",
       " 'time_per_sec': 2}"
      ]
     },
     "execution_count": 8,
     "metadata": {},
     "output_type": "execute_result"
    }
   ],
   "source": [
    "frames.events[0]"
   ]
  },
  {
   "cell_type": "markdown",
   "metadata": {},
   "source": [
    "We now need to write a function that will write a movie frame from this information. Below is a simple one we could use, whee we take the variables we need, and leave the remaining dictionary entries unspecified in kwargs. We'll be writing many frames (to the tmp/pngs/ directory), so it's important to close the figures after each one."
   ]
  },
  {
   "cell_type": "code",
   "execution_count": 9,
   "metadata": {
    "collapsed": true
   },
   "outputs": [],
   "source": [
    "import matplotlib.pyplot as plt\n",
    "def write_png(params):\n",
    "    sim = rebound.Simulation.from_file(params['filename'])\n",
    "    fig = rebound.OrbitPlot(sim, figsize=(8,8), plotparticles=params['plotparticles'])\n",
    "    fig.axes[0].axis('off') # turn off axes\n",
    "    fig.savefig('tmp/pngs/{0:0=5d}.png'.format(params['frame_ctr']))\n",
    "    plt.close(fig)"
   ]
  },
  {
   "cell_type": "markdown",
   "metadata": {},
   "source": [
    "We now write all the frames using our function. Making matplotlib plots is not optimized for efficiency, so it's quite slow. We therefore generate them in parallel."
   ]
  },
  {
   "cell_type": "code",
   "execution_count": 10,
   "metadata": {
    "collapsed": false
   },
   "outputs": [
    {
     "name": "stdout",
     "output_type": "stream",
     "text": [
      "CPU times: user 20.3 ms, sys: 32.6 ms, total: 53 ms\n",
      "Wall time: 3.12 s\n"
     ]
    }
   ],
   "source": [
    "%%time\n",
    "from subprocess import call\n",
    "call(\"rm -f tmp/pngs/*\", shell=True)\n",
    "pool = rebound.InterruptiblePool()\n",
    "res = pool.map(write_png, frames.events)"
   ]
  },
  {
   "cell_type": "code",
   "execution_count": 11,
   "metadata": {
    "collapsed": false
   },
   "outputs": [
    {
     "data": {
      "text/plain": [
       "{'color': [None,\n",
       "  'cyan',\n",
       "  'dodgerblue',\n",
       "  'hotpink',\n",
       "  'crimson',\n",
       "  'chocolate',\n",
       "  'forestgreen',\n",
       "  'yellowgreen'],\n",
       " 'filename': 'tmp/binaries/frame59.bin',\n",
       " 'fps': 30,\n",
       " 'frame_ctr': 59,\n",
       " 'plotparticles': [5, 6, 7],\n",
       " 'target': None,\n",
       " 'time': 1.9999803256593183,\n",
       " 'time_per_sec': 2}"
      ]
     },
     "execution_count": 11,
     "metadata": {},
     "output_type": "execute_result"
    }
   ],
   "source": [
    "frames.events[-1]"
   ]
  },
  {
   "cell_type": "markdown",
   "metadata": {
    "collapsed": true
   },
   "source": [
    "# Outputting a movie file\n",
    "\n",
    "You now have all the frames for the movie in `systemsounds/tmp/pngs`, and can stitch them together into a movie using your favorite software. For some ideas and options, see [MovieEditingSoftware.ipynb](MovieEditingSoftware.ipynb)\n",
    "\n",
    "# More advanced example\n",
    "\n",
    "Everyone will want to do something slightly differently, so rather than building up a complicated framework with many options, the idea is that people can contribute examples to this repository that others can draw on to make their own custom movies. We're looking forward to seeing what people come up with! For a more complicated example see [TRAPPIST1.ipynb](TRAPPIST1.ipynb)"
   ]
  }
 ],
 "metadata": {
  "kernelspec": {
   "display_name": "Python 3",
   "language": "python",
   "name": "python3"
  },
  "language_info": {
   "codemirror_mode": {
    "name": "ipython",
    "version": 3
   },
   "file_extension": ".py",
   "mimetype": "text/x-python",
   "name": "python",
   "nbconvert_exporter": "python",
   "pygments_lexer": "ipython3",
   "version": "3.5.1"
  }
 },
 "nbformat": 4,
 "nbformat_minor": 2
}
