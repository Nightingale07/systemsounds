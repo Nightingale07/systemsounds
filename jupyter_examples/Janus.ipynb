{
 "cells": [
  {
   "cell_type": "markdown",
   "metadata": {},
   "source": [
    "# Janus"
   ]
  },
  {
   "cell_type": "code",
   "execution_count": 19,
   "metadata": {
    "collapsed": true
   },
   "outputs": [],
   "source": [
    "import PIL # reminder that this is a requirement\n",
    "from scipy.misc import imread\n",
    "import matplotlib.pyplot as plt\n",
    "#from matplotlib.patches import Ellipse\n",
    "\n",
    "def write_png(params):\n",
    "    sim = rebound.Simulation.from_file(params['filename'])\n",
    "    ps = sim.particles\n",
    "    plotparticles = params['plotparticles']       # particles that should be displayed\n",
    "    plottransits = params['plottransits']         # whether we should highlight transits\n",
    "    transittargets =params[\"transittargets\"]\n",
    "    plotresonances = params['plotresonances'] # whether we should draw circles for resonances\n",
    "    color = params['color']                       # colors for each of the particles (including the star)\n",
    "    fscale= params['figscale']\n",
    "    \n",
    "    if sim.t < transits.events[0]['time']:        # only plot particles if the first transit has\n",
    "        plotparticles = []\n",
    "        show_orbit = False\n",
    "    else:\n",
    "        show_orbit = True\n",
    "        \n",
    "    # First make a color list that only includes the particles we want to plot\n",
    "    #coloriterator = [color[i] for i in plotparticles]\n",
    "    coloriterator = False\n",
    "    lw=2 # linewidth\n",
    "    \n",
    "    \n",
    "    fig = rebound.OrbitPlot(sim, figsize=(8,8), show_orbit=show_orbit, color='black', lw=lw, plotparticles=plotparticles)\n",
    "    #fig = rebound.OrbitPlot(sim, figsize=(8,8), show_orbit=show_orbit, color='black', lw=lw, plotparticles=plotparticles,lim=fscale)\n",
    "    #fig = rebound.OrbitPlot(sim, figsize=(8,8), color=coloriterator, lw=lw, plotparticles=plotparticles,lim=figwidth)\n",
    "\n",
    "    ax = fig.axes[0] # turn off axes\n",
    "    ax.axis('off')\n",
    "    \n",
    "    if show_orbit:\n",
    "        refsize=25*lw # this is what REBOUND uses for size of circles in call to plt.scatter\n",
    "        for i in plotparticles:\n",
    "            if i==1:\n",
    "                refsize=50\n",
    "                c='black'\n",
    "            if i==2:\n",
    "                refsize=400\n",
    "                c='black'\n",
    "            if i>2:  #for white spaces\n",
    "                refsize=3000\n",
    "                c='white'\n",
    "            ax.scatter(ps[i].x, ps[i].y, s=refsize, color=c, marker='o', zorder=4)\n",
    "    if plottransits:\n",
    "        refsize=25*lw # this is what REBOUND uses for size of circles in call to plt.scatter\n",
    "                      # we want markers to match that when far from transit\n",
    "        for i in transittargets: # overplot markers so planets have their own color\n",
    "            #ax.scatter(ps[i].x, ps[i].y, s=refsize, color=color[i], marker='o', zorder=4)\n",
    "            scale=ps[i].a/3     # length scale for making dots bigger\n",
    "            if i==1:\n",
    "                size=refsize\n",
    "                c='black'\n",
    "            if i==2:\n",
    "                size=refsize\n",
    "                c='crimson'\n",
    "            if ps[i].x > 0 and np.abs(ps[i].y)/scale < 1: # increase size when particle is within `scale` of y=0, and on right\n",
    "                size *= 1+15*np.exp(-np.abs(ps[i].y)/scale)\n",
    "                ax.scatter(ps[i].x, ps[i].y, s=size, color=c, marker='o', zorder=5)\n",
    "                \n",
    "    if plotresonances:    \n",
    "        fadetimescale = sim.particles[2].P/8. # timescale for the circles to dissapear\n",
    "        # Find all the resonances that have already happened and are within fadetimescale of sim.t\n",
    "        nearby_resonances = [resonance for resonance in resonances.events if sim.t - resonance['time'] < fadetimescale and sim.t - resonance['time'] > 0]\n",
    "        nearby_transits = [transit for transit in transits.events if sim.t - transit['time'] < fadetimescale and sim.t - transit['time'] > 0]\n",
    "        \n",
    "        #add circle at 2:1 resonance for every time Janus is opposite to transit\n",
    "        for resonance in nearby_resonances: \n",
    "            if resonance['target'] in resonances.targets: # or transit['target'] in resonances.targets \n",
    "            \n",
    "                #print('Made it')\n",
    "                # we now have to reload our binary and integrate to the time of resonance to get the x and y values of the inner planet to plot our line\n",
    "                filename = \"../binaries/janus.bin\"\n",
    "                sim2 = rebound.Simulation.from_file(filename)\n",
    "                sim2.t = 0\n",
    "                ss.rescale_time(sim2, sim2.particles[2].P)\n",
    "                sim2.integrate(resonance['time'])\n",
    "                r_res=sim2.particles[resonance['target']].a\n",
    "                \n",
    "                #Ellipse\n",
    "                #e_res=sim2.particles[resonance['target']].e\n",
    "                #pomega_res=sim2.particles[resonance['target']].pomega\n",
    "                #print(r_res,e_res,pomega_res)\n",
    "                #ell= Ellipse(xy=(0,0), width=2.*r_res, height=2.*r_res*np.sqrt(1.-e_res**2.),\n",
    "                             #angle=pomega_res,color='r',linewidth=3,fill=False,alpha=max(1.-(sim.t-resonance['time'])/fadetimescale,0.))\n",
    "                #ax.add_artist(ell)\n",
    "                #plt.gcf().gca().add_artist(ell)\n",
    "                \n",
    "                circle2 = plt.Circle((0, 0), r_res*2.**(-2./3), color='crimson',linewidth=10,fill=False,alpha=max(1.-(sim.t-resonance['time'])/fadetimescale,0.))#fade not working\n",
    "                ax.add_artist(circle2)\n",
    "                plt.gcf().gca().add_artist(circle2)\n",
    "                \n",
    "        #add circle at 2:1 resonance for every Janus transit\n",
    "        for transit in nearby_transits: \n",
    "            if transit['target'] in resonances.targets: \n",
    "            \n",
    "                #print('Made it')\n",
    "                # we now have to reload our binary and integrate to the time of resonance to get the x and y values of the inner planet to plot our line\n",
    "                filename = \"../binaries/janus.bin\"\n",
    "                sim2 = rebound.Simulation.from_file(filename)\n",
    "                sim2.t = 0\n",
    "                ss.rescale_time(sim2, sim2.particles[2].P)\n",
    "                sim2.integrate(transit['time'])\n",
    "                r_res=sim2.particles[transit['target']].a\n",
    "                \n",
    "                circle2 = plt.Circle((0, 0), r_res*2.**(-2./3), color='crimson',linewidth=10,fill=False,alpha=max(1.-(sim.t-transit['time'])/fadetimescale,0.))#fade not working\n",
    "                ax.add_artist(circle2)\n",
    "                plt.gcf().gca().add_artist(circle2)\n",
    "                \n",
    "    #bkg = imread('../images/US_background_image.png')\n",
    "    #ax.imshow(bkg, zorder=0, extent=xlim+ylim)\n",
    "\n",
    "    fig.savefig('tmp/pngs/{0:0=5d}.png'.format(params['frame_ctr']), transparent=False, dpi=300)\n",
    "    plt.close(fig)  "
   ]
  },
  {
   "cell_type": "code",
   "execution_count": null,
   "metadata": {
    "collapsed": true
   },
   "outputs": [],
   "source": []
  },
  {
   "cell_type": "markdown",
   "metadata": {},
   "source": [
    "Now we make our movie. We begin by importing what we need, and load our REBOUND binary simulation of the TRAPPIST-1 system that we want to animate/sonify. For convenience, we redefine the time in the simulation to 0, and rescale time so that every orbit of the outermost planet corresponds to one unit of time in the simulation (which we define as one beat in the music)."
   ]
  },
  {
   "cell_type": "code",
   "execution_count": 20,
   "metadata": {},
   "outputs": [
    {
     "name": "stdout",
     "output_type": "stream",
     "text": [
      "0.012074950561369308\n",
      "0.9999999999999991\n",
      "Epimethues, Janus Periods: [1.002959925770549, 0.9999999999999991]\n",
      "Epimethues, Janus Eccentricity: [0.004332915471032813, 0.005086661460336745]\n"
     ]
    },
    {
     "data": {
      "text/plain": [
       "'\\na_Janus=sim.particles[-1].a\\nN_ring=5\\nfor i in range(N_ring):\\n    sim.add(m=0.,a=a_Janus*2**(-2./3),theta=2.*np.pi/N_ring*i)\\n'"
      ]
     },
     "execution_count": 20,
     "metadata": {},
     "output_type": "execute_result"
    }
   ],
   "source": [
    "import sys\n",
    "sys.path.append('../')\n",
    "import systemsounds as ss\n",
    "import numpy as np\n",
    "import rebound\n",
    "\n",
    "filename = \"../binaries/janus.bin\"\n",
    "#filename = \"../binaries/newsystem.bin\"\n",
    "sim = rebound.Simulation.from_file(filename)\n",
    "sim.t = 0\n",
    "print(sim.particles[2].P)\n",
    "ss.rescale_time(sim, sim.particles[2].P) #rescale to Janus\n",
    "print(sim.particles[2].P)\n",
    "Periods=[sim.particles[i].P for i in range(1,3)]\n",
    "e_s=[sim.particles[i].e for i in range(1,3)]\n",
    "print('Epimethues, Janus Periods:',Periods)\n",
    "print('Epimethues, Janus Eccentricity:',e_s)\n",
    "#sim.dt = 1e-2\n",
    "#sim.status()\n",
    "'''\n",
    "a_Janus=sim.particles[-1].a\n",
    "N_ring=5\n",
    "for i in range(N_ring):\n",
    "    sim.add(m=0.,a=a_Janus*2**(-2./3),theta=2.*np.pi/N_ring*i)\n",
    "'''"
   ]
  },
  {
   "cell_type": "markdown",
   "metadata": {},
   "source": [
    "We chose to begin the movie at 30 beats per minute. We have to convert this to simulation time per second. Above we rescaled time so that one orbit of the outer planet is one unit of simulation time, so 30 bpm / 60 = 0.5 beats per second. We also assign colors to each of the particles in the simulation."
   ]
  },
  {
   "cell_type": "code",
   "execution_count": 21,
   "metadata": {
    "collapsed": true
   },
   "outputs": [],
   "source": [
    "bpm = 25  #aliasing issues with 20 and 32 particles\n",
    "\n",
    "frames = ss.FrameRecorder(sim, time_per_sec=bpm/60)\n",
    "transits = ss.EventRecorder(sim, lambda sim, i: sim.particles[i].y)\n",
    "resonances = ss.EventRecorder(sim, lambda sim, i: -sim.particles[i].y) #2nd order resonance\n",
    "\n",
    "frames.color = None #[None, 'black','black','black']\n",
    "frames.figscale = 1.1*sim.particles[2].a"
   ]
  },
  {
   "cell_type": "markdown",
   "metadata": {},
   "source": [
    "We also start our MIDI file now, so that we can enter the right tempo information as we go. We will add all the notes at the end:"
   ]
  },
  {
   "cell_type": "code",
   "execution_count": 22,
   "metadata": {
    "collapsed": true
   },
   "outputs": [],
   "source": [
    "from midiutil import MIDIFile\n",
    "\n",
    "midifile = MIDIFile(adjust_origin=True)\n",
    "midifile.addTempo(track=0, time=sim.t, tempo=bpm) "
   ]
  },
  {
   "cell_type": "markdown",
   "metadata": {},
   "source": [
    "# Test"
   ]
  },
  {
   "cell_type": "code",
   "execution_count": 23,
   "metadata": {},
   "outputs": [
    {
     "data": {
      "text/plain": [
       "'\\nframes.plottransits = True\\nframes.plotconjunctions = False\\nframes.plotresonances = True\\n\\n\\nplanets = list(range(sim.N))\\n\\nps = planets[1:]\\nprint(\"t = {0}\\t planets = {1}\".format(sim.t, ps))\\nframes.plotparticles = ps #don\\'t plot Janus resonance as planet\\ntransits.targets = planets[1:3]  \\nresonances.targets = [planets[2]]\\nframes.transittargets=transits.targets\\n#m=2. #resonant order (2:1)\\n#frames.r_ress=[sim.particles[1].a,sim.particles[-1].a]\\n\\nbars=20\\nfor i in range(bars):\\n    print(\"t = {0}\\t planets = {1}\".format(sim.t, ps))\\n    sim.integrate(sim.t+4)\\n'"
      ]
     },
     "execution_count": 23,
     "metadata": {},
     "output_type": "execute_result"
    }
   ],
   "source": [
    "'''\n",
    "frames.plottransits = True\n",
    "frames.plotconjunctions = False\n",
    "frames.plotresonances = True\n",
    "\n",
    "\n",
    "planets = list(range(sim.N))\n",
    "\n",
    "ps = planets[1:]\n",
    "print(\"t = {0}\\t planets = {1}\".format(sim.t, ps))\n",
    "frames.plotparticles = ps #don't plot Janus resonance as planet\n",
    "transits.targets = planets[1:3]  \n",
    "resonances.targets = [planets[2]]\n",
    "frames.transittargets=transits.targets\n",
    "#m=2. #resonant order (2:1)\n",
    "#frames.r_ress=[sim.particles[1].a,sim.particles[-1].a]\n",
    "\n",
    "bars=20\n",
    "for i in range(bars):\n",
    "    print(\"t = {0}\\t planets = {1}\".format(sim.t, ps))\n",
    "    sim.integrate(sim.t+4)\n",
    "'''"
   ]
  },
  {
   "cell_type": "code",
   "execution_count": 24,
   "metadata": {},
   "outputs": [
    {
     "name": "stdout",
     "output_type": "stream",
     "text": [
      "All moons: [1, 2, 3, 4, 5, 6, 7]\n",
      "t = 0.0\t moons = [2]\n",
      "t = 2.0\t moons = [1, 2]\n",
      "t = 4.0\t moons = [1, 2, 3, 4, 5, 6, 7]\n",
      "t = 8.0\t bpm = 25.0\t moons = [1, 2, 3, 4, 5, 6, 7]\n",
      "t = 12.0\t bpm = 50.0\t moons = [1, 2, 3, 4, 5, 6, 7]\n",
      "t = 16.0\t bpm = 75.0\t moons = [1, 2, 3, 4, 5, 6, 7]\n",
      "t = 20.0\t moons = [1, 2, 3, 4, 5, 6, 7]\n"
     ]
    }
   ],
   "source": [
    "frames.plottransits = True\n",
    "frames.plotresonances = False\n",
    "\n",
    "\n",
    "planets = list(range(sim.N))\n",
    "ps = planets[1:]\n",
    "print(\"All moons: {0}\".format(ps))\n",
    "\n",
    "#Janus\n",
    "frames.plotparticles = planets[2:3] \n",
    "transits.targets = [planets[2]]\n",
    "resonances.targets = []\n",
    "frames.transittargets=transits.targets\n",
    "print(\"t = {0}\\t moons = {1}\".format(sim.t, frames.plotparticles))\n",
    "sim.integrate(sim.t+2)\n",
    "\n",
    "#Janus and Epi\n",
    "frames.plotparticles = planets[1:3]\n",
    "transits.targets = planets[1:3]  \n",
    "resonances.targets = []\n",
    "frames.transittargets=transits.targets\n",
    "print(\"t = {0}\\t moons = {1}\".format(sim.t, frames.plotparticles))\n",
    "sim.integrate(sim.t+2) #t0 1.8 then 4.2?\n",
    "\n",
    "\n",
    "#All, with Janus triggers\n",
    "frames.plotresonances = True\n",
    "frames.plotparticles = ps \n",
    "resonances.targets = [planets[2]]\n",
    "print(\"t = {0}\\t moons = {1}\".format(sim.t, frames.plotparticles))\n",
    "sim.integrate(sim.t+4)\n",
    "\n",
    "\n",
    "speedupbars = 3\n",
    "barbpms = np.linspace(25,100,speedupbars+1)\n",
    "bpms = []\n",
    "\n",
    "N = 10 # number of gradations per bar for bpm adjustments (so it sounds smoother)   \n",
    "for j, i in enumerate(range(speedupbars)):\n",
    "    print(\"t = {0}\\t bpm = {1}\\t moons = {2}\".format(sim.t, barbpms[j], ps))\n",
    "    times = np.linspace(sim.t,sim.t+4,N,endpoint=True)\n",
    "    bpms = np.linspace(barbpms[j],barbpms[j+1],N,endpoint=True) # array of bpm values at N points within the current bar\n",
    "    for time, bpm in zip(times, bpms):\n",
    "        frames.time_per_sec = bpm/60\n",
    "        midifile.addTempo(track=0, time=sim.t, tempo=bpm) \n",
    "        sim.integrate(time)\n",
    "bars=1\n",
    "for i in range(bars):\n",
    "    print(\"t = {0}\\t moons = {1}\".format(sim.t, ps))\n",
    "    sim.integrate(sim.t+4)\n",
    "    "
   ]
  },
  {
   "cell_type": "markdown",
   "metadata": {},
   "source": [
    "# MIDI File\n",
    "\n",
    "We now write the MIDI file. We scale all transit notes to the outermost planet, which we assign to a C4 note (MIDI note 48)."
   ]
  },
  {
   "cell_type": "code",
   "execution_count": 25,
   "metadata": {
    "collapsed": true
   },
   "outputs": [],
   "source": [
    "transit_notes = ss.calc_midi_notes(sim.particles, ref_note=48, ref_ID=-1)\n",
    "\n",
    "for transit in transits.events:\n",
    "    if transit['target']==1:\n",
    "        midifile.addNote(track=0, channel=1, pitch=50, time=transit['time'], duration=1, volume=100)\n",
    "    if transit['target']==2:\n",
    "        midifile.addNote(track=0, channel=1, pitch=48, time=transit['time'], duration=1, volume=100)\n",
    "for resonance in resonances.events:\n",
    "    midifile.addNote(track=0, channel=1, pitch=60, time=resonance['time'], duration=1, volume=100)\n",
    "        \n",
    "with open(\"./janus.mid\", \"wb\") as f:\n",
    "    midifile.writeFile(f)"
   ]
  },
  {
   "cell_type": "markdown",
   "metadata": {},
   "source": [
    "# Write images to temporary folder for movie"
   ]
  },
  {
   "cell_type": "markdown",
   "metadata": {},
   "source": [
    "Now we write the images. This is parallelized, but making matplotlib plots is slow, so this can take a couple hours! (the movie is 2 mins long)."
   ]
  },
  {
   "cell_type": "code",
   "execution_count": 26,
   "metadata": {},
   "outputs": [
    {
     "name": "stdout",
     "output_type": "stream",
     "text": [
      "CPU times: user 470 ms, sys: 147 ms, total: 617 ms\n",
      "Wall time: 5min 57s\n"
     ]
    }
   ],
   "source": [
    "%%time\n",
    "from subprocess import call\n",
    "call(\"rm -f tmp/pngs/*\", shell=True)\n",
    "pool = rebound.InterruptiblePool()\n",
    "res = pool.map(write_png, frames.events)"
   ]
  },
  {
   "cell_type": "markdown",
   "metadata": {},
   "source": [
    "# Outputting a movie file\n",
    "\n",
    "You now have all the frames for the movie in `systemsounds/jupyter_examples/tmp/pngs`, as well as the MIDI file `systemsounds/jupyter_examples/trappist.mid`, and can stitch them together into a movie using your favorite software. For some ideas and options, see [MovieEditingSoftware.ipynb](MovieEditingSoftware.ipynb)\n"
   ]
  },
  {
   "cell_type": "code",
   "execution_count": 27,
   "metadata": {},
   "outputs": [
    {
     "data": {
      "text/plain": [
       "0"
      ]
     },
     "execution_count": 27,
     "metadata": {},
     "output_type": "execute_result"
    }
   ],
   "source": [
    "moviename = 'Janus.mp4'\n",
    "fps = 30\n",
    "try:\n",
    "    call(\"rm -f {0}\".format(moviename), shell=True)\n",
    "except:\n",
    "    pass\n",
    "call(\"ffmpeg -r {0} -i tmp/pngs/%05d.png -c:v libx264 -pix_fmt yuv420p {1}\".format(fps, moviename), shell=True)\n",
    "#call(\"open test.mp4\", shell=True)"
   ]
  },
  {
   "cell_type": "code",
   "execution_count": null,
   "metadata": {
    "collapsed": true
   },
   "outputs": [],
   "source": []
  }
 ],
 "metadata": {
  "kernelspec": {
   "display_name": "Python 3",
   "language": "python",
   "name": "python3"
  },
  "language_info": {
   "codemirror_mode": {
    "name": "ipython",
    "version": 3
   },
   "file_extension": ".py",
   "mimetype": "text/x-python",
   "name": "python",
   "nbconvert_exporter": "python",
   "pygments_lexer": "ipython3",
   "version": "3.6.1"
  }
 },
 "nbformat": 4,
 "nbformat_minor": 2
}
