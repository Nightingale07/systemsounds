{
 "cells": [
  {
   "cell_type": "markdown",
   "metadata": {},
   "source": [
    "# Janus"
   ]
  },
  {
   "cell_type": "code",
   "execution_count": 215,
   "metadata": {
    "collapsed": true
   },
   "outputs": [],
   "source": [
    "import PIL # reminder that this is a requirement\n",
    "from scipy.misc import imread\n",
    "import matplotlib.pyplot as plt\n",
    "#from matplotlib.patches import Ellipse\n",
    "\n",
    "def write_png(params):\n",
    "    sim = rebound.Simulation.from_file(params['filename'])\n",
    "    ps = sim.particles\n",
    "    plotparticles = params['plotparticles']       # particles that should be displayed\n",
    "    plottransits = params['plottransits']         # whether we should highlight transits\n",
    "    transittargets =params[\"transittargets\"]\n",
    "    plotresonances = params['plotresonances'] # whether we should draw circles for resonances\n",
    "    color = params['color']                       # colors for each of the particles (including the star)\n",
    "    fscale= params['figscale']\n",
    "    \n",
    "    if sim.t < transits.events[0]['time']:        # only plot particles if the first transit has\n",
    "        plotparticles = []\n",
    "        show_orbit = False\n",
    "    else:\n",
    "        show_orbit = True\n",
    "        \n",
    "    # First make a color list that only includes the particles we want to plot\n",
    "    #coloriterator = [color[i] for i in plotparticles]\n",
    "    coloriterator = False\n",
    "    lw=2 # linewidth\n",
    "    \n",
    "    \n",
    "    fig = rebound.OrbitPlot(sim, figsize=(8,8), show_orbit=show_orbit, color='black', lw=lw, plotparticles=plotparticles)\n",
    "    #fig = rebound.OrbitPlot(sim, figsize=(8,8), show_orbit=show_orbit, color='black', lw=lw, plotparticles=plotparticles,lim=fscale)\n",
    "    #fig = rebound.OrbitPlot(sim, figsize=(8,8), color=coloriterator, lw=lw, plotparticles=plotparticles,lim=figwidth)\n",
    "\n",
    "    ax = fig.axes[0] # turn off axes\n",
    "    ax.axis('off')\n",
    "    \n",
    "    if show_orbit:\n",
    "        refsize=25*lw # this is what REBOUND uses for size of circles in call to plt.scatter\n",
    "        for i in plotparticles:\n",
    "            if i==1:\n",
    "                refsize=50\n",
    "                c='black'\n",
    "            if i==2:\n",
    "                refsize=400\n",
    "                c='black'\n",
    "            if i>2:  #for white spaces\n",
    "                refsize=3000\n",
    "                c='white'\n",
    "            ax.scatter(ps[i].x, ps[i].y, s=refsize, color=c, marker='o', zorder=4)\n",
    "    if plottransits:\n",
    "        refsize=25*lw # this is what REBOUND uses for size of circles in call to plt.scatter\n",
    "                      # we want markers to match that when far from transit\n",
    "        for i in transittargets: # overplot markers so planets have their own color\n",
    "            #ax.scatter(ps[i].x, ps[i].y, s=refsize, color=color[i], marker='o', zorder=4)\n",
    "            scale=ps[i].a/3     # length scale for making dots bigger\n",
    "            if i==1:\n",
    "                size=refsize\n",
    "                c='black'\n",
    "            if i==2:\n",
    "                size=refsize\n",
    "                c='crimson'\n",
    "            if ps[i].x > 0 and np.abs(ps[i].y)/scale < 1: # increase size when particle is within `scale` of y=0, and on right\n",
    "                size *= 1+15*np.exp(-np.abs(ps[i].y)/scale)\n",
    "                ax.scatter(ps[i].x, ps[i].y, s=size, color=c, marker='o', zorder=5)\n",
    "                \n",
    "    if plotresonances:    \n",
    "        fadetimescale = sim.particles[2].P/8. # timescale for the circles to dissapear\n",
    "        # Find all the resonances that have already happened and are within fadetimescale of sim.t\n",
    "        nearby_resonances = [resonance for resonance in resonances.events if sim.t - resonance['time'] < fadetimescale and sim.t - resonance['time'] > 0]\n",
    "        nearby_transits = [transit for transit in transits.events if sim.t - transit['time'] < fadetimescale and sim.t - transit['time'] > 0]\n",
    "        \n",
    "        #add circle at 2:1 resonance for every time Janus is opposite to transit\n",
    "        for resonance in nearby_resonances: \n",
    "            if resonance['target'] in resonances.targets: # or transit['target'] in resonances.targets \n",
    "            \n",
    "                #print('Made it')\n",
    "                # we now have to reload our binary and integrate to the time of resonance to get the x and y values of the inner planet to plot our line\n",
    "                filename = \"../binaries/janus.bin\"\n",
    "                sim2 = rebound.Simulation.from_file(filename)\n",
    "                sim2.t = 0\n",
    "                ss.rescale_time(sim2, sim2.particles[2].P)\n",
    "                sim2.integrate(resonance['time'])\n",
    "                r_res=sim2.particles[resonance['target']].a\n",
    "                \n",
    "                #Ellipse\n",
    "                #e_res=sim2.particles[resonance['target']].e\n",
    "                #pomega_res=sim2.particles[resonance['target']].pomega\n",
    "                #print(r_res,e_res,pomega_res)\n",
    "                #ell= Ellipse(xy=(0,0), width=2.*r_res, height=2.*r_res*np.sqrt(1.-e_res**2.),\n",
    "                             #angle=pomega_res,color='r',linewidth=3,fill=False,alpha=max(1.-(sim.t-resonance['time'])/fadetimescale,0.))\n",
    "                #ax.add_artist(ell)\n",
    "                #plt.gcf().gca().add_artist(ell)\n",
    "                \n",
    "                circle2 = plt.Circle((0, 0), r_res*2.**(-2./3), color='crimson',linewidth=10,fill=False,alpha=max(1.-(sim.t-resonance['time'])/fadetimescale,0.))#fade not working\n",
    "                ax.add_artist(circle2)\n",
    "                plt.gcf().gca().add_artist(circle2)\n",
    "                \n",
    "        #add circle at 2:1 resonance for every Janus transit\n",
    "        for transit in nearby_transits: \n",
    "            if transit['target'] in resonances.targets: \n",
    "            \n",
    "                #print('Made it')\n",
    "                # we now have to reload our binary and integrate to the time of resonance to get the x and y values of the inner planet to plot our line\n",
    "                filename = \"../binaries/janus.bin\"\n",
    "                sim2 = rebound.Simulation.from_file(filename)\n",
    "                sim2.t = 0\n",
    "                ss.rescale_time(sim2, sim2.particles[2].P)\n",
    "                sim2.integrate(transit['time'])\n",
    "                r_res=sim2.particles[transit['target']].a\n",
    "                \n",
    "                circle2 = plt.Circle((0, 0), r_res*2.**(-2./3), color='crimson',linewidth=10,fill=False,alpha=max(1.-(sim.t-transit['time'])/fadetimescale,0.))#fade not working\n",
    "                ax.add_artist(circle2)\n",
    "                plt.gcf().gca().add_artist(circle2)\n",
    "                \n",
    "    #bkg = imread('../images/US_background_image.png')\n",
    "    #ax.imshow(bkg, zorder=0, extent=xlim+ylim)\n",
    "\n",
    "    fig.savefig('tmp/pngs/{0:0=5d}.png'.format(params['frame_ctr']), transparent=False, dpi=300)\n",
    "    plt.close(fig)  "
   ]
  },
  {
   "cell_type": "code",
   "execution_count": null,
   "metadata": {
    "collapsed": true
   },
   "outputs": [],
   "source": []
  },
  {
   "cell_type": "markdown",
   "metadata": {},
   "source": [
    "Now we make our movie. We begin by importing what we need, and load our REBOUND binary simulation of the TRAPPIST-1 system that we want to animate/sonify. For convenience, we redefine the time in the simulation to 0, and rescale time so that every orbit of the outermost planet corresponds to one unit of time in the simulation (which we define as one beat in the music)."
   ]
  },
  {
   "cell_type": "code",
   "execution_count": 216,
   "metadata": {},
   "outputs": [
    {
     "name": "stdout",
     "output_type": "stream",
     "text": [
      "0.012074950561369303\n",
      "0.9999999999999997\n",
      "Epimethues, Janus Periods: [1.0029599257705506, 0.9999999999999997]\n",
      "Epimethues, Janus Eccentricity: [0.004332915471032346, 0.005086661460336809]\n"
     ]
    },
    {
     "data": {
      "text/plain": [
       "'\\na_Janus=sim.particles[-1].a\\nN_ring=5\\nfor i in range(N_ring):\\n    sim.add(m=0.,a=a_Janus*2**(-2./3),theta=2.*np.pi/N_ring*i)\\n'"
      ]
     },
     "execution_count": 216,
     "metadata": {},
     "output_type": "execute_result"
    }
   ],
   "source": [
    "import sys\n",
    "sys.path.append('../')\n",
    "import systemsounds as ss\n",
    "import numpy as np\n",
    "import rebound\n",
    "\n",
    "filename = \"../binaries/janus.bin\"\n",
    "#filename = \"../binaries/newsystem.bin\"\n",
    "sim = rebound.Simulation.from_file(filename)\n",
    "sim.t = 0\n",
    "print(sim.particles[2].P)\n",
    "ss.rescale_time(sim, sim.particles[2].P) #rescale to Janus\n",
    "print(sim.particles[2].P)\n",
    "Periods=[sim.particles[i].P for i in range(1,3)]\n",
    "e_s=[sim.particles[i].e for i in range(1,3)]\n",
    "print('Epimethues, Janus Periods:',Periods)\n",
    "print('Epimethues, Janus Eccentricity:',e_s)\n",
    "#sim.dt = 1e-2\n",
    "#sim.status()\n",
    "'''\n",
    "a_Janus=sim.particles[-1].a\n",
    "N_ring=5\n",
    "for i in range(N_ring):\n",
    "    sim.add(m=0.,a=a_Janus*2**(-2./3),theta=2.*np.pi/N_ring*i)\n",
    "'''"
   ]
  },
  {
   "cell_type": "markdown",
   "metadata": {},
   "source": [
    "We chose to begin the movie at 30 beats per minute. We have to convert this to simulation time per second. Above we rescaled time so that one orbit of the outer planet is one unit of simulation time, so 30 bpm / 60 = 0.5 beats per second. We also assign colors to each of the particles in the simulation."
   ]
  },
  {
   "cell_type": "code",
   "execution_count": 217,
   "metadata": {
    "collapsed": true
   },
   "outputs": [],
   "source": [
    "bpm = 25  #aliasing issues with 20 and 32 particles\n",
    "\n",
    "frames = ss.FrameRecorder(sim, time_per_sec=bpm/60)\n",
    "transits = ss.EventRecorder(sim, lambda sim, i: sim.particles[i].y)\n",
    "resonances = ss.EventRecorder(sim, lambda sim, i: -sim.particles[i].y) #2nd order resonance\n",
    "\n",
    "frames.color = None #[None, 'black','black','black']\n",
    "frames.figscale = 1.1*sim.particles[2].a"
   ]
  },
  {
   "cell_type": "markdown",
   "metadata": {},
   "source": [
    "We also start our MIDI file now, so that we can enter the right tempo information as we go. We will add all the notes at the end:"
   ]
  },
  {
   "cell_type": "code",
   "execution_count": 218,
   "metadata": {
    "collapsed": true
   },
   "outputs": [],
   "source": [
    "from midiutil import MIDIFile\n",
    "\n",
    "midifile = MIDIFile(adjust_origin=True)\n",
    "midifile.addTempo(track=0, time=sim.t, tempo=bpm) "
   ]
  },
  {
   "cell_type": "markdown",
   "metadata": {},
   "source": [
    "# Test"
   ]
  },
  {
   "cell_type": "code",
   "execution_count": 219,
   "metadata": {},
   "outputs": [
    {
     "name": "stdout",
     "output_type": "stream",
     "text": [
      "t = 0.0\t planets = [1, 2, 3, 4, 5, 6, 7]\n",
      "t = 0.0\t planets = [1, 2, 3, 4, 5, 6, 7]\n",
      "t = 4.0\t planets = [1, 2, 3, 4, 5, 6, 7]\n",
      "t = 8.0\t planets = [1, 2, 3, 4, 5, 6, 7]\n",
      "t = 12.0\t planets = [1, 2, 3, 4, 5, 6, 7]\n",
      "t = 16.0\t planets = [1, 2, 3, 4, 5, 6, 7]\n",
      "t = 20.0\t planets = [1, 2, 3, 4, 5, 6, 7]\n",
      "t = 24.0\t planets = [1, 2, 3, 4, 5, 6, 7]\n",
      "t = 28.0\t planets = [1, 2, 3, 4, 5, 6, 7]\n",
      "t = 32.0\t planets = [1, 2, 3, 4, 5, 6, 7]\n",
      "t = 36.0\t planets = [1, 2, 3, 4, 5, 6, 7]\n",
      "t = 40.0\t planets = [1, 2, 3, 4, 5, 6, 7]\n",
      "t = 44.0\t planets = [1, 2, 3, 4, 5, 6, 7]\n",
      "t = 48.0\t planets = [1, 2, 3, 4, 5, 6, 7]\n",
      "t = 52.0\t planets = [1, 2, 3, 4, 5, 6, 7]\n",
      "t = 56.0\t planets = [1, 2, 3, 4, 5, 6, 7]\n",
      "t = 60.0\t planets = [1, 2, 3, 4, 5, 6, 7]\n",
      "t = 64.0\t planets = [1, 2, 3, 4, 5, 6, 7]\n",
      "t = 68.0\t planets = [1, 2, 3, 4, 5, 6, 7]\n",
      "t = 72.0\t planets = [1, 2, 3, 4, 5, 6, 7]\n",
      "t = 76.0\t planets = [1, 2, 3, 4, 5, 6, 7]\n"
     ]
    }
   ],
   "source": [
    "\n",
    "frames.plottransits = True\n",
    "frames.plotconjunctions = False\n",
    "frames.plotresonances = True\n",
    "\n",
    "\n",
    "planets = list(range(sim.N))\n",
    "\n",
    "ps = planets[1:]\n",
    "print(\"t = {0}\\t planets = {1}\".format(sim.t, ps))\n",
    "frames.plotparticles = ps #don't plot Janus resonance as planet\n",
    "transits.targets = planets[1:3]  \n",
    "resonances.targets = [planets[2]]\n",
    "frames.transittargets=transits.targets\n",
    "#m=2. #resonant order (2:1)\n",
    "#frames.r_ress=[sim.particles[1].a,sim.particles[-1].a]\n",
    "\n",
    "bars=20\n",
    "for i in range(bars):\n",
    "    print(\"t = {0}\\t planets = {1}\".format(sim.t, ps))\n",
    "    sim.integrate(sim.t+4)\n"
   ]
  },
  {
   "cell_type": "code",
   "execution_count": 220,
   "metadata": {},
   "outputs": [
    {
     "name": "stdout",
     "output_type": "stream",
     "text": [
      "All moons: [1, 2, 3, 4, 5, 6, 7]\n",
      "t = 80.0\t moons = [2]\n",
      "t = 82.0\t moons = [1, 2]\n",
      "t = 84.0\t moons = [1, 2, 3, 4, 5, 6, 7]\n",
      "t = 88.0\t bpm = 25.0\t moons = [1, 2, 3, 4, 5, 6, 7]\n",
      "t = 92.0\t bpm = 50.0\t moons = [1, 2, 3, 4, 5, 6, 7]\n",
      "t = 96.0\t bpm = 75.0\t moons = [1, 2, 3, 4, 5, 6, 7]\n",
      "t = 100.0\t moons = [1, 2, 3, 4, 5, 6, 7]\n"
     ]
    }
   ],
   "source": [
    "frames.plottransits = True\n",
    "frames.plotresonances = False\n",
    "\n",
    "\n",
    "planets = list(range(sim.N))\n",
    "ps = planets[1:]\n",
    "print(\"All moons: {0}\".format(ps))\n",
    "\n",
    "#Janus\n",
    "frames.plotparticles = planets[2:3] \n",
    "transits.targets = [planets[2]]\n",
    "resonances.targets = []\n",
    "frames.transittargets=transits.targets\n",
    "print(\"t = {0}\\t moons = {1}\".format(sim.t, frames.plotparticles))\n",
    "sim.integrate(sim.t+2)\n",
    "\n",
    "#Janus and Epi\n",
    "frames.plotparticles = planets[1:3]\n",
    "transits.targets = planets[1:3]  \n",
    "resonances.targets = []\n",
    "frames.transittargets=transits.targets\n",
    "print(\"t = {0}\\t moons = {1}\".format(sim.t, frames.plotparticles))\n",
    "sim.integrate(sim.t+2) #t0 1.8 then 4.2?\n",
    "\n",
    "\n",
    "#All, with Janus triggers\n",
    "frames.plotresonances = True\n",
    "frames.plotparticles = ps \n",
    "resonances.targets = [planets[2]]\n",
    "print(\"t = {0}\\t moons = {1}\".format(sim.t, frames.plotparticles))\n",
    "sim.integrate(sim.t+4)\n",
    "\n",
    "\n",
    "speedupbars = 3\n",
    "barbpms = np.linspace(25,100,speedupbars+1)\n",
    "bpms = []\n",
    "\n",
    "N = 10 # number of gradations per bar for bpm adjustments (so it sounds smoother)   \n",
    "for j, i in enumerate(range(speedupbars)):\n",
    "    print(\"t = {0}\\t bpm = {1}\\t moons = {2}\".format(sim.t, barbpms[j], ps))\n",
    "    times = np.linspace(sim.t,sim.t+4,N,endpoint=True)\n",
    "    bpms = np.linspace(barbpms[j],barbpms[j+1],N,endpoint=True) # array of bpm values at N points within the current bar\n",
    "    for time, bpm in zip(times, bpms):\n",
    "        frames.time_per_sec = bpm/60\n",
    "        midifile.addTempo(track=0, time=sim.t, tempo=bpm) \n",
    "        sim.integrate(time)\n",
    "bars=1\n",
    "for i in range(bars):\n",
    "    print(\"t = {0}\\t moons = {1}\".format(sim.t, ps))\n",
    "    sim.integrate(sim.t+4)\n",
    "    "
   ]
  },
  {
   "cell_type": "markdown",
   "metadata": {},
   "source": [
    "# MIDI File\n",
    "\n",
    "We now write the MIDI file. We scale all transit notes to the outermost planet, which we assign to a C4 note (MIDI note 48)."
   ]
  },
  {
   "cell_type": "code",
   "execution_count": 221,
   "metadata": {},
   "outputs": [],
   "source": [
    "transit_notes = ss.calc_midi_notes(sim.particles, ref_note=48, ref_ID=-1)\n",
    "\n",
    "for transit in transits.events:\n",
    "    if transit['target']==1:\n",
    "        midifile.addNote(track=0, channel=1, pitch=50, time=transit['time'], duration=1, volume=100)\n",
    "    if transit['target']==2:\n",
    "        midifile.addNote(track=0, channel=1, pitch=48, time=transit['time'], duration=1, volume=100)\n",
    "for resonance in resonances.events:\n",
    "    midifile.addNote(track=0, channel=1, pitch=60, time=resonance['time'], duration=1, volume=100)\n",
    "        \n",
    "with open(\"./janus.mid\", \"wb\") as f:\n",
    "    midifile.writeFile(f)"
   ]
  },
  {
   "cell_type": "markdown",
   "metadata": {},
   "source": [
    "# Write images to temporary folder for movie"
   ]
  },
  {
   "cell_type": "markdown",
   "metadata": {},
   "source": [
    "Now we write the images. This is parallelized, but making matplotlib plots is slow, so this can take a couple hours! (the movie is 2 mins long)."
   ]
  },
  {
   "cell_type": "code",
   "execution_count": 222,
   "metadata": {},
   "outputs": [
    {
     "name": "stderr",
     "output_type": "stream",
     "text": [
      "ERROR:root:Internal Python error in the inspect module.\n",
      "Below is the traceback from this internal error.\n",
      "\n"
     ]
    },
    {
     "name": "stdout",
     "output_type": "stream",
     "text": [
      "Traceback (most recent call last):\n",
      "  File \"/Applications/anaconda/envs/venv/lib/python3.6/site-packages/IPython/core/magics/execution.py\", line 1200, in time\n",
      "    exec(code, glob, local_ns)\n",
      "  File \"<timed exec>\", line 3, in <module>\n",
      "  File \"/Applications/anaconda/envs/venv/lib/python3.6/site-packages/rebound/interruptible_pool.py\", line 74, in __init__\n",
      "    initargs, **kwargs)\n",
      "  File \"/Applications/anaconda/envs/venv/lib/python3.6/multiprocessing/pool.py\", line 168, in __init__\n",
      "    self._repopulate_pool()\n",
      "  File \"/Applications/anaconda/envs/venv/lib/python3.6/multiprocessing/pool.py\", line 233, in _repopulate_pool\n",
      "    w.start()\n",
      "  File \"/Applications/anaconda/envs/venv/lib/python3.6/multiprocessing/process.py\", line 105, in start\n",
      "  File \"/Applications/anaconda/envs/venv/lib/python3.6/multiprocessing/context.py\", line 277, in _Popen\n",
      "  File \"/Applications/anaconda/envs/venv/lib/python3.6/multiprocessing/popen_fork.py\", line 20, in __init__\n",
      "  File \"/Applications/anaconda/envs/venv/lib/python3.6/multiprocessing/popen_fork.py\", line 66, in _launch\n",
      "OSError: [Errno 24] Too many open files\n",
      "\n",
      "During handling of the above exception, another exception occurred:\n",
      "\n",
      "Traceback (most recent call last):\n",
      "  File \"/Applications/anaconda/envs/venv/lib/python3.6/site-packages/IPython/core/interactiveshell.py\", line 1795, in showtraceback\n",
      "    stb = value._render_traceback_()\n",
      "AttributeError: 'OSError' object has no attribute '_render_traceback_'\n",
      "\n",
      "During handling of the above exception, another exception occurred:\n",
      "\n",
      "Traceback (most recent call last):\n",
      "  File \"/Applications/anaconda/envs/venv/lib/python3.6/site-packages/IPython/core/ultratb.py\", line 1092, in get_records\n",
      "  File \"/Applications/anaconda/envs/venv/lib/python3.6/site-packages/IPython/core/ultratb.py\", line 312, in wrapped\n",
      "  File \"/Applications/anaconda/envs/venv/lib/python3.6/site-packages/IPython/core/ultratb.py\", line 347, in _fixed_getinnerframes\n",
      "  File \"/Applications/anaconda/envs/venv/lib/python3.6/inspect.py\", line 1453, in getinnerframes\n",
      "  File \"/Applications/anaconda/envs/venv/lib/python3.6/inspect.py\", line 1411, in getframeinfo\n",
      "  File \"/Applications/anaconda/envs/venv/lib/python3.6/inspect.py\", line 666, in getsourcefile\n",
      "  File \"/Applications/anaconda/envs/venv/lib/python3.6/inspect.py\", line 695, in getmodule\n",
      "  File \"/Applications/anaconda/envs/venv/lib/python3.6/inspect.py\", line 679, in getabsfile\n",
      "  File \"/Applications/anaconda/envs/venv/lib/python3.6/posixpath.py\", line 374, in abspath\n",
      "OSError: [Errno 24] Too many open files\n"
     ]
    },
    {
     "ename": "OSError",
     "evalue": "[Errno 24] Too many open files",
     "output_type": "error",
     "traceback": [
      "\u001b[0;31m---------------------------------------------------------------------------\u001b[0m"
     ]
    }
   ],
   "source": [
    "%%time\n",
    "from subprocess import call\n",
    "call(\"rm -f tmp/pngs/*\", shell=True)\n",
    "pool = rebound.InterruptiblePool()\n",
    "res = pool.map(write_png, frames.events)"
   ]
  },
  {
   "cell_type": "markdown",
   "metadata": {},
   "source": [
    "# Outputting a movie file\n",
    "\n",
    "You now have all the frames for the movie in `systemsounds/jupyter_examples/tmp/pngs`, as well as the MIDI file `systemsounds/jupyter_examples/trappist.mid`, and can stitch them together into a movie using your favorite software. For some ideas and options, see [MovieEditingSoftware.ipynb](MovieEditingSoftware.ipynb)\n"
   ]
  },
  {
   "cell_type": "code",
   "execution_count": 223,
   "metadata": {},
   "outputs": [
    {
     "ename": "OSError",
     "evalue": "[Errno 24] Too many open files",
     "output_type": "error",
     "traceback": [
      "\u001b[0;31m---------------------------------------------------------------------------\u001b[0m",
      "\u001b[0;31mOSError\u001b[0m                                   Traceback (most recent call last)",
      "\u001b[0;32m<ipython-input-223-42b118519ccf>\u001b[0m in \u001b[0;36m<module>\u001b[0;34m()\u001b[0m\n\u001b[1;32m      5\u001b[0m \u001b[0;32mexcept\u001b[0m\u001b[0;34m:\u001b[0m\u001b[0;34m\u001b[0m\u001b[0m\n\u001b[1;32m      6\u001b[0m     \u001b[0;32mpass\u001b[0m\u001b[0;34m\u001b[0m\u001b[0m\n\u001b[0;32m----> 7\u001b[0;31m \u001b[0mcall\u001b[0m\u001b[0;34m(\u001b[0m\u001b[0;34m\"ffmpeg -r {0} -i tmp/pngs/%05d.png -c:v libx264 -pix_fmt yuv420p {1}\"\u001b[0m\u001b[0;34m.\u001b[0m\u001b[0mformat\u001b[0m\u001b[0;34m(\u001b[0m\u001b[0mfps\u001b[0m\u001b[0;34m,\u001b[0m \u001b[0mmoviename\u001b[0m\u001b[0;34m)\u001b[0m\u001b[0;34m,\u001b[0m \u001b[0mshell\u001b[0m\u001b[0;34m=\u001b[0m\u001b[0;32mTrue\u001b[0m\u001b[0;34m)\u001b[0m\u001b[0;34m\u001b[0m\u001b[0m\n\u001b[0m\u001b[1;32m      8\u001b[0m \u001b[0;31m#call(\"open test.mp4\", shell=True)\u001b[0m\u001b[0;34m\u001b[0m\u001b[0;34m\u001b[0m\u001b[0m\n",
      "\u001b[0;32m/Applications/anaconda/envs/venv/lib/python3.6/subprocess.py\u001b[0m in \u001b[0;36mcall\u001b[0;34m(timeout, *popenargs, **kwargs)\u001b[0m\n\u001b[1;32m    265\u001b[0m     \u001b[0mretcode\u001b[0m \u001b[0;34m=\u001b[0m \u001b[0mcall\u001b[0m\u001b[0;34m(\u001b[0m\u001b[0;34m[\u001b[0m\u001b[0;34m\"ls\"\u001b[0m\u001b[0;34m,\u001b[0m \u001b[0;34m\"-l\"\u001b[0m\u001b[0;34m]\u001b[0m\u001b[0;34m)\u001b[0m\u001b[0;34m\u001b[0m\u001b[0m\n\u001b[1;32m    266\u001b[0m     \"\"\"\n\u001b[0;32m--> 267\u001b[0;31m     \u001b[0;32mwith\u001b[0m \u001b[0mPopen\u001b[0m\u001b[0;34m(\u001b[0m\u001b[0;34m*\u001b[0m\u001b[0mpopenargs\u001b[0m\u001b[0;34m,\u001b[0m \u001b[0;34m**\u001b[0m\u001b[0mkwargs\u001b[0m\u001b[0;34m)\u001b[0m \u001b[0;32mas\u001b[0m \u001b[0mp\u001b[0m\u001b[0;34m:\u001b[0m\u001b[0;34m\u001b[0m\u001b[0m\n\u001b[0m\u001b[1;32m    268\u001b[0m         \u001b[0;32mtry\u001b[0m\u001b[0;34m:\u001b[0m\u001b[0;34m\u001b[0m\u001b[0m\n\u001b[1;32m    269\u001b[0m             \u001b[0;32mreturn\u001b[0m \u001b[0mp\u001b[0m\u001b[0;34m.\u001b[0m\u001b[0mwait\u001b[0m\u001b[0;34m(\u001b[0m\u001b[0mtimeout\u001b[0m\u001b[0;34m=\u001b[0m\u001b[0mtimeout\u001b[0m\u001b[0;34m)\u001b[0m\u001b[0;34m\u001b[0m\u001b[0m\n",
      "\u001b[0;32m/Applications/anaconda/envs/venv/lib/python3.6/subprocess.py\u001b[0m in \u001b[0;36m__init__\u001b[0;34m(self, args, bufsize, executable, stdin, stdout, stderr, preexec_fn, close_fds, shell, cwd, env, universal_newlines, startupinfo, creationflags, restore_signals, start_new_session, pass_fds, encoding, errors)\u001b[0m\n\u001b[1;32m    705\u001b[0m                                 \u001b[0mc2pread\u001b[0m\u001b[0;34m,\u001b[0m \u001b[0mc2pwrite\u001b[0m\u001b[0;34m,\u001b[0m\u001b[0;34m\u001b[0m\u001b[0m\n\u001b[1;32m    706\u001b[0m                                 \u001b[0merrread\u001b[0m\u001b[0;34m,\u001b[0m \u001b[0merrwrite\u001b[0m\u001b[0;34m,\u001b[0m\u001b[0;34m\u001b[0m\u001b[0m\n\u001b[0;32m--> 707\u001b[0;31m                                 restore_signals, start_new_session)\n\u001b[0m\u001b[1;32m    708\u001b[0m         \u001b[0;32mexcept\u001b[0m\u001b[0;34m:\u001b[0m\u001b[0;34m\u001b[0m\u001b[0m\n\u001b[1;32m    709\u001b[0m             \u001b[0;31m# Cleanup if the child failed starting.\u001b[0m\u001b[0;34m\u001b[0m\u001b[0;34m\u001b[0m\u001b[0m\n",
      "\u001b[0;32m/Applications/anaconda/envs/venv/lib/python3.6/subprocess.py\u001b[0m in \u001b[0;36m_execute_child\u001b[0;34m(self, args, executable, preexec_fn, close_fds, pass_fds, cwd, env, startupinfo, creationflags, shell, p2cread, p2cwrite, c2pread, c2pwrite, errread, errwrite, restore_signals, start_new_session)\u001b[0m\n\u001b[1;32m   1222\u001b[0m             \u001b[0;31m# Data format: \"exception name:hex errno:description\"\u001b[0m\u001b[0;34m\u001b[0m\u001b[0;34m\u001b[0m\u001b[0m\n\u001b[1;32m   1223\u001b[0m             \u001b[0;31m# Pickle is not used; it is complex and involves memory allocation.\u001b[0m\u001b[0;34m\u001b[0m\u001b[0;34m\u001b[0m\u001b[0m\n\u001b[0;32m-> 1224\u001b[0;31m             \u001b[0merrpipe_read\u001b[0m\u001b[0;34m,\u001b[0m \u001b[0merrpipe_write\u001b[0m \u001b[0;34m=\u001b[0m \u001b[0mos\u001b[0m\u001b[0;34m.\u001b[0m\u001b[0mpipe\u001b[0m\u001b[0;34m(\u001b[0m\u001b[0;34m)\u001b[0m\u001b[0;34m\u001b[0m\u001b[0m\n\u001b[0m\u001b[1;32m   1225\u001b[0m             \u001b[0;31m# errpipe_write must not be in the standard io 0, 1, or 2 fd range.\u001b[0m\u001b[0;34m\u001b[0m\u001b[0;34m\u001b[0m\u001b[0m\n\u001b[1;32m   1226\u001b[0m             \u001b[0mlow_fds_to_close\u001b[0m \u001b[0;34m=\u001b[0m \u001b[0;34m[\u001b[0m\u001b[0;34m]\u001b[0m\u001b[0;34m\u001b[0m\u001b[0m\n",
      "\u001b[0;31mOSError\u001b[0m: [Errno 24] Too many open files"
     ]
    }
   ],
   "source": [
    "moviename = 'Janus.mp4'\n",
    "fps = 30\n",
    "try:\n",
    "    call(\"rm -f {0}\".format(moviename), shell=True)\n",
    "except:\n",
    "    pass\n",
    "call(\"ffmpeg -r {0} -i tmp/pngs/%05d.png -c:v libx264 -pix_fmt yuv420p {1}\".format(fps, moviename), shell=True)\n",
    "#call(\"open test.mp4\", shell=True)"
   ]
  },
  {
   "cell_type": "code",
   "execution_count": null,
   "metadata": {
    "collapsed": true
   },
   "outputs": [],
   "source": []
  }
 ],
 "metadata": {
  "kernelspec": {
   "display_name": "Python 3",
   "language": "python",
   "name": "python3"
  },
  "language_info": {
   "codemirror_mode": {
    "name": "ipython",
    "version": 3
   },
   "file_extension": ".py",
   "mimetype": "text/x-python",
   "name": "python",
   "nbconvert_exporter": "python",
   "pygments_lexer": "ipython3",
   "version": "3.6.1"
  }
 },
 "nbformat": 4,
 "nbformat_minor": 2
}
