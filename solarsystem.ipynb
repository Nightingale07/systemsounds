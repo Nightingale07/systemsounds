{
 "cells": [
  {
   "cell_type": "code",
   "execution_count": 1,
   "metadata": {
    "collapsed": true
   },
   "outputs": [],
   "source": [
    "from systemsounds import System\n",
    "import numpy as np"
   ]
  },
  {
   "cell_type": "code",
   "execution_count": 37,
   "metadata": {
    "collapsed": false
   },
   "outputs": [
    {
     "name": "stdout",
     "output_type": "stream",
     "text": [
      "Searching NASA Horizons for 'Sun'... Found: Sun (10).\n",
      "Searching NASA Horizons for 'Jupiter'... Found: Jupiter Barycenter (5).\n",
      "Searching NASA Horizons for 'Saturn'... Found: Saturn Barycenter (6).\n",
      "Searching NASA Horizons for 'Uranus'... Found: Uranus Barycenter (7).\n",
      "Searching NASA Horizons for 'Neptune'... Found: Neptune Barycenter (8).\n"
     ]
    }
   ],
   "source": [
    "import rebound\n",
    "try:\n",
    "    sim = rebound.Simulation.from_file(\"binaries/solarsystemO.bin\")\n",
    "except:\n",
    "    date = \"2017-05-10 05:00\"\n",
    "    sim = rebound.Simulation()\n",
    "    sim.add(\"Sun\", date=date)\n",
    "    #sim.add(\"Mercury\")\n",
    "    #sim.add(\"Venus\")\n",
    "    #sim.add(\"Earth\")\n",
    "    #sim.add(\"Mars\")\n",
    "    sim.add(\"Jupiter\")\n",
    "    sim.add(\"Saturn\")\n",
    "    sim.add(\"Uranus\")\n",
    "    sim.add(\"Neptune\")\n",
    "    sim.move_to_com()\n",
    "    sim.save(\"binaries/solarsystemO.bin\")"
   ]
  },
  {
   "cell_type": "code",
   "execution_count": 19,
   "metadata": {
    "collapsed": false
   },
   "outputs": [
    {
     "name": "stdout",
     "output_type": "stream",
     "text": [
      "0.0 [4, 5, 6, 7, 8]\n",
      "2.0000155770460433 [3, 4, 5, 6, 7, 8]\n",
      "4.000031154096038 [2, 3, 4, 5, 6, 7, 8]\n",
      "6.000046731146033 [1, 2, 3, 4, 5, 6, 7, 8]\n",
      "CPU times: user 9.89 s, sys: 18.3 ms, total: 9.9 s\n",
      "Wall time: 9.91 s\n"
     ]
    }
   ],
   "source": [
    "%%time\n",
    "filename = \"binaries/solarsystem.bin\"\n",
    "# The commented out colors are the colors in the video, but we invert the colors in the post-processing, so we use\n",
    "# the corresponding inverse colors instead\n",
    "#colors = ['None','red','darkorange','yellow','forestgreen','cyan','deepskyblue','violet','darkviolet']\n",
    "colors = [None, 'cyan','dodgerblue','blue','hotpink','crimson','chocolate','forestgreen','yellowgreen']\n",
    "\n",
    "import rebound\n",
    "sim = rebound.Simulation.from_file(\"binaries/solarsystem.bin\")\n",
    "\n",
    "ss = System(filename, bpm=30, outer_midi_note=0, time_per_beat=sim.particles[4].P) # notes: http://subsynth.sourceforge.net/midinote2freq.html\n",
    "ss.conjunction_notes = [0, 33, 35, 20, 18, 14, 12, 10]\n",
    "ss.conjunction_velocities = [0, 43, 68, 100, 100, 124, 124, 124]\n",
    "\n",
    "planets = list(range(ss.sim.N))\n",
    "for i in [4,3,2,1]:\n",
    "    ps = planets[i:]\n",
    "    print(ss.sim.t, ps)\n",
    "    ss.integrate(tmax=ss.sim.t+2, playtransits=ps, playconjunctions=False, showplanets=ps, showtransits=ps, showconjunctions=False, duration=1, color=colors,planetentrance=True)\n",
    "\n",
    "'''\n",
    "conjunctionbars = 3\n",
    "barbpms = np.linspace(30,100,conjunctionbars+1)\n",
    "N = 10\n",
    "\n",
    "for j, i in enumerate([3,2,1]):\n",
    "    ps = planets[i:-1]\n",
    "    print(ss.sim.t, ps, ss.bpm)\n",
    "    times = np.linspace(ss.sim.t,ss.sim.t+4,N,endpoint=True)\n",
    "    bpms = np.linspace(ss.bpm,barbpms[j+1],N,endpoint=True)\n",
    "    for time, bpm in zip(times, bpms):\n",
    "        ss.change_tempo(bpm)\n",
    "        ss.integrate(time, playtransits=True, playconjunctions=ps, showplanets=ps, showtransits=False, showconjunctions=ps, duration=1, color=colors)\n",
    "\n",
    "for i in range(4):\n",
    "    print(ss.sim.t, ps, ss.bpm)\n",
    "    ss.integrate(tmax=ss.sim.t+4, playtransits=True, playconjunctions=True, showplanets=True, showtransits=False, showconjunctions=True, duration=1, color=colors)\n",
    "\n",
    "ss.change_tempo(30)    \n",
    "print(ss.sim.t, ps, ss.bpm)\n",
    "ss.integrate(tmax=ss.sim.t+12, playtransits=False, playconjunctions=False, showplanets=True, showtransits=False, showconjunctions=False, duration=1, color=colors)\n",
    "print(ss.sim.t, ps, ss.bpm)\n",
    "'''"
   ]
  },
  {
   "cell_type": "code",
   "execution_count": 39,
   "metadata": {
    "collapsed": true
   },
   "outputs": [],
   "source": [
    "sim = rebound.Simulation.from_file(filename)"
   ]
  },
  {
   "cell_type": "code",
   "execution_count": 41,
   "metadata": {
    "collapsed": false
   },
   "outputs": [
    {
     "data": {
      "text/plain": [
       "1035.6567967467147"
      ]
     },
     "execution_count": 41,
     "metadata": {},
     "output_type": "execute_result"
    }
   ],
   "source": [
    "sim.particles[-1].P"
   ]
  },
  {
   "cell_type": "code",
   "execution_count": 5,
   "metadata": {
    "collapsed": false
   },
   "outputs": [
    {
     "name": "stdout",
     "output_type": "stream",
     "text": [
      "0.0 [4]\n",
      "4.021061006263518 [3, 4]\n",
      "8.042122012526981 [2, 3, 4]\n",
      "12.063183018790443 [1, 2, 3, 4]\n",
      "CPU times: user 413 ms, sys: 8.14 ms, total: 421 ms\n",
      "Wall time: 420 ms\n"
     ]
    }
   ],
   "source": [
    "%%time\n",
    "filename = \"binaries/solarsystemT.bin\"\n",
    "# The commented out colors are the colors in the video, but we invert the colors in the post-processing, so we use\n",
    "# the corresponding inverse colors instead\n",
    "#colors = ['None','red','darkorange','yellow','forestgreen','cyan','deepskyblue','violet','darkviolet']\n",
    "colors = [None, 'cyan','dodgerblue','blue','hotpink']\n",
    "\n",
    "ss = System(filename, bpm=30, outer_midi_note=48) # notes: http://subsynth.sourceforge.net/midinote2freq.html\n",
    "ss.conjunction_notes = [0, 33, 35, 20]\n",
    "ss.conjunction_velocities = [0, 43, 68, 100]\n",
    "\n",
    "planets = list(range(ss.sim.N))\n",
    "for i in [4,3,2,1]:\n",
    "    ps = planets[i:]\n",
    "    print(ss.sim.t, ps)\n",
    "    ss.integrate(tmax=ss.sim.t+4, playtransits=ps, playconjunctions=False, showplanets=ps, showtransits=ps, showconjunctions=False, duration=1, color=colors,planetentrance=True)\n",
    "\n",
    "'''\n",
    "conjunctionbars = 3\n",
    "barbpms = np.linspace(30,100,conjunctionbars+1)\n",
    "N = 10\n",
    "\n",
    "for j, i in enumerate([3,2,1]):\n",
    "    ps = planets[i:-1]\n",
    "    print(ss.sim.t, ps, ss.bpm)\n",
    "    times = np.linspace(ss.sim.t,ss.sim.t+4,N,endpoint=True)\n",
    "    bpms = np.linspace(ss.bpm,barbpms[j+1],N,endpoint=True)\n",
    "    for time, bpm in zip(times, bpms):\n",
    "        ss.change_tempo(bpm)\n",
    "        ss.integrate(time, playtransits=True, playconjunctions=ps, showplanets=ps, showtransits=False, showconjunctions=ps, duration=1, color=colors)\n",
    "\n",
    "for i in range(4):\n",
    "    print(ss.sim.t, ps, ss.bpm)\n",
    "    ss.integrate(tmax=ss.sim.t+4, playtransits=True, playconjunctions=True, showplanets=True, showtransits=False, showconjunctions=True, duration=1, color=colors)\n",
    "\n",
    "ss.change_tempo(30)    \n",
    "print(ss.sim.t, ps, ss.bpm)\n",
    "ss.integrate(tmax=ss.sim.t+12, playtransits=False, playconjunctions=False, showplanets=True, showtransits=False, showconjunctions=False, duration=1, color=colors)\n",
    "print(ss.sim.t, ps, ss.bpm)\n",
    "'''"
   ]
  },
  {
   "cell_type": "code",
   "execution_count": 6,
   "metadata": {
    "collapsed": false
   },
   "outputs": [],
   "source": [
    "midiname = \"ssmidi\"\n",
    "ss.write_midi(midiname)"
   ]
  },
  {
   "cell_type": "code",
   "execution_count": 7,
   "metadata": {
    "collapsed": false
   },
   "outputs": [
    {
     "data": {
      "text/plain": [
       "0"
      ]
     },
     "execution_count": 7,
     "metadata": {},
     "output_type": "execute_result"
    }
   ],
   "source": [
    "from subprocess import call\n",
    "call(\"open ssmidi.mid\", shell=True)"
   ]
  },
  {
   "cell_type": "code",
   "execution_count": null,
   "metadata": {
    "collapsed": true
   },
   "outputs": [],
   "source": []
  }
 ],
 "metadata": {
  "kernelspec": {
   "display_name": "Python 3",
   "language": "python",
   "name": "python3"
  },
  "language_info": {
   "codemirror_mode": {
    "name": "ipython",
    "version": 3
   },
   "file_extension": ".py",
   "mimetype": "text/x-python",
   "name": "python",
   "nbconvert_exporter": "python",
   "pygments_lexer": "ipython3",
   "version": "3.5.1"
  }
 },
 "nbformat": 4,
 "nbformat_minor": 2
}
