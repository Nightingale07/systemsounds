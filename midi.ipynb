{
 "cells": [
  {
   "cell_type": "markdown",
   "metadata": {},
   "source": [
    "# Requirements\n",
    "\n",
    "pip install midiutil numpy scipy matplotlib Pillow rebound\n",
    "\n",
    "(rebound only works on mac / Linux, not windows)\n",
    "\n",
    "To make the movies you need ffmpeg and timidity:\n",
    "\n",
    "https://trac.ffmpeg.org/wiki/CompilationGuide/MacOSX\n",
    "(there are also guides for other operating systems)\n",
    "\n",
    "Timidity is easiest to install with homebrew if you have it:\n",
    "brew install timidity\n",
    "\n",
    "(probably there are other ways)\n"
   ]
  },
  {
   "cell_type": "code",
   "execution_count": 2,
   "metadata": {
    "collapsed": false
   },
   "outputs": [],
   "source": [
    "from midiutil import MIDIFile\n",
    "import rebound\n",
    "import numpy as np\n",
    "import matplotlib.pyplot as plt\n",
    "from subprocess import call\n",
    "from itertools import repeat\n",
    "import PIL # reminder that this is a requirement\n",
    "from scipy.misc import imread"
   ]
  },
  {
   "cell_type": "code",
   "execution_count": 3,
   "metadata": {
    "collapsed": false
   },
   "outputs": [],
   "source": [
    "class PlanetBeat():\n",
    "    def __init__(self, filename, bpm, time_per_beat=None, dt=None, outer_midi_note=48, fps=30):\n",
    "        try:\n",
    "            call(\"rm -f ./tmp/*\", shell=True)\n",
    "        except:\n",
    "            pass\n",
    "        self.midi = MIDIFile(adjust_origin=True) # One track, defaults to format 1 (tempo track automatically created)\n",
    "        self.filename = filename\n",
    "        self.sim = rebound.Simulation.from_file(filename)\n",
    "        self.sim.t = 0\n",
    "        if time_per_beat:\n",
    "            self.time_per_beat = time_per_beat\n",
    "        else:\n",
    "            self.time_per_beat = self.sim.particles[-1].P\n",
    "        if not dt:\n",
    "            self.sim.dt = self.sim.particles[1].P/100. # use small timestep to get transits right. This is not the bottleneck\n",
    "        else:\n",
    "            self.sim.dt = dt\n",
    "        \n",
    "        self.bpm = bpm\n",
    "        self.fps = fps\n",
    "        self.fig_ctr = 0\n",
    "        self.time_elapsed = 0\n",
    "        self.time_per_fig = 1./self.fps\n",
    "        \n",
    "        self.notes = self.calc_midi_notes(outer_midi_note)\n",
    "        self.velocities = [100 for i in range(self.sim.N)]\n",
    "        self.conjunction_notes = [12 for i in range(self.sim.N)] # C1\n",
    "        self.conjunction_velocities = [100 for i in range(self.sim.N)]\n",
    "        \n",
    "        set_time_per_beat(self.sim, self.time_per_beat)\n",
    "        self.change_tempo(bpm)\n",
    "        self.fig_params = []\n",
    "        self.conjunctions = []\n",
    "    def calc_midi_notes(self, outer_midi_note):\n",
    "        # 12 notes between octaves, freq = f0*2**(n/12). \n",
    "        # n = 12 log_2(freq/f0)\n",
    "        # star, then planets from inside out\n",
    "        ps = self.sim.particles\n",
    "        midinotes = [0] # placeholder for star\n",
    "        for p in ps[1:]:\n",
    "            midinote = outer_midi_note+12*np.log(ps[-1].P/p.P)/np.log(2)\n",
    "            midinotes.append(int(np.round(midinote)))\n",
    "        return midinotes  \n",
    "    def make_tuple(self, arg):\n",
    "        N = self.sim.N\n",
    "        if arg == True:\n",
    "            return tuple(range(1,N))\n",
    "        elif arg == False:\n",
    "            return ()\n",
    "        else:\n",
    "            return tuple(arg)\n",
    "    def integrate(self, tmax, color=True, duration=1, track=0, playtransits=True, playconjunctions=False, showplanets=True, showtransits=True, showconjunctions=True):\n",
    "        playtransits = self.make_tuple(playtransits)\n",
    "        playconjunctions = self.make_tuple(playconjunctions)\n",
    "        showplanets = self.make_tuple(showplanets)\n",
    "        showtransits = self.make_tuple(showtransits)\n",
    "        showconjunctions = self.make_tuple(showconjunctions)\n",
    "        \n",
    "        N=self.sim.N\n",
    "        ps = self.sim.particles\n",
    "        yprev = np.zeros(N)\n",
    "        sinthetaprev = np.zeros(N)\n",
    "        while self.sim.t < tmax:\n",
    "            self.sim.step()\n",
    "            self.time_elapsed += self.sim.dt/self.bpm*60.\n",
    "            for j in playtransits:\n",
    "                if yprev[j] < 0 and ps[j].y > 0:\n",
    "                    #print(self.sim.t, j)\n",
    "                    #print(ps[j].index)\n",
    "                    self.midi.addNote(track, ps[j].index, self.notes[j], self.sim.t, duration, self.velocities[j])\n",
    "                yprev[j] = ps[j].y\n",
    "       \n",
    "            for j in playconjunctions:\n",
    "                if j+1 in planets:\n",
    "                    sintheta = np.sin(ps[j+1].theta-ps[j].theta)\n",
    "                    if sinthetaprev[j] > 0 and sintheta < 0:\n",
    "                        #print('conjunction', self.sim.t, j)\n",
    "                        self.conjunctions.append((self.sim.t, j, ps[j].x, ps[j].y))\n",
    "                        self.midi.addNote(track, N, self.conjunction_notes[j], self.sim.t, duration, self.conjunction_velocities[j]) # add to track above all planets\n",
    "                    sinthetaprev[j] = sintheta\n",
    "            if self.time_elapsed/self.time_per_fig > self.fig_ctr + 1:\n",
    "                #print(self.time_elapsed*self.fps)\n",
    "                self.fig_params.append([self.fig_ctr, self.sim.t, filename, self.time_per_beat, color, tuple(showplanets), tuple(showtransits), tuple(showconjunctions), tuple(self.conjunctions)])\n",
    "                self.fig_ctr += 1\n",
    "    def change_tempo(self, bpm):\n",
    "        self.bpm = bpm\n",
    "        self.midi.addTempo(0, self.sim.t, self.bpm) \n",
    "    def write_midi(self, filename):\n",
    "        with open(filename, \"wb\") as f:\n",
    "            self.midi.writeFile(f)\n",
    "\n",
    "def set_time_per_beat(sim, time_per_beat): # makes sim.t run in units of the outer planet orbit = one beat\n",
    "        ps = sim.particles\n",
    "        sim.G = time_per_beat**2\n",
    "        sim.dt /= time_per_beat\n",
    "        for p in ps:\n",
    "            p.vx *= time_per_beat\n",
    "            p.vy *= time_per_beat\n",
    "            p.vz *= time_per_beat"
   ]
  },
  {
   "cell_type": "code",
   "execution_count": 40,
   "metadata": {
    "collapsed": false
   },
   "outputs": [],
   "source": [
    "def write_png(params):\n",
    "    fig_ctr, time, filename, time_per_beat, color, showplanets, showtransits, showconjunctions, conjunctions, background, transparent = params\n",
    "    coloriterator = [color[i] for i in showplanets]\n",
    "    sim = rebound.Simulation.from_file(filename)\n",
    "    sim.t=0\n",
    "    set_time_per_beat(sim, time_per_beat)\n",
    "    sim.integrate(time)\n",
    "    ps = sim.particles\n",
    "    \n",
    "    lw=3\n",
    "    fadetimescale = sim.particles[-1].P/3. # for conjunctions\n",
    "    refsize=25*lw # this is what REBOUND uses for size of circles in call to plt.scatter\n",
    "\n",
    "    fig = rebound.OrbitPlot(sim, figsize=(8,8), color=coloriterator, lw=lw, plotparticles=showplanets)\n",
    "    ax = fig.axes[0]\n",
    "    ax.axis('off')\n",
    "        \n",
    "    for i in showtransits:\n",
    "        p = ps[i]\n",
    "        ax.scatter(p.x, p.y, s=refsize, color=color[i], marker='o', zorder=4)\n",
    "    for i in showtransits:\n",
    "        p = ps[i]\n",
    "        scale=p.a/3 # length scale for making dots bigger\n",
    "        if p.x > 0 and np.abs(p.y)/scale < 1:\n",
    "            ax.scatter(p.x, p.y, s=refsize*(1+5*np.exp(-np.abs(p.y)/scale)),color=\"black\", marker='o', zorder=5)\n",
    "    \n",
    "    xlim = ax.get_xlim()\n",
    "    ylim = ax.get_ylim()\n",
    "    cscale = 10*xlim[1]\n",
    "    if showconjunctions:\n",
    "        nearby_conjunctions = [conjunction for conjunction in conjunctions if time - conjunction[0] < fadetimescale]\n",
    "        for conjunction in nearby_conjunctions:\n",
    "            j, x, y = conjunction[1], conjunction[2], conjunction[3]\n",
    "            if j in showconjunctions and j+1 in showconjunctions:\n",
    "                ax.plot([0, cscale*x], [0,cscale*y], lw=5, color=color[j], alpha=max(1.-(time-conjunction[0])/fadetimescale,0.), zorder=1)\n",
    "       \n",
    "    if background:\n",
    "        bkg = imread('images/US_background_image.png')\n",
    "        ax.imshow(bkg, zorder=0, extent=xlim+ylim)\n",
    "    fig.savefig('tmp/pngs/{0:0=5d}.png'.format(fig_ctr), transparent=transparent)\n",
    "    plt.close(fig)  "
   ]
  },
  {
   "cell_type": "code",
   "execution_count": 10,
   "metadata": {
    "collapsed": false
   },
   "outputs": [
    {
     "name": "stdout",
     "output_type": "stream",
     "text": [
      "0.0 [7]\n",
      "4.000158071149695 [6, 7]\n",
      "8.000316142299175 [5, 6, 7]\n",
      "12.000474213457244 [4, 5, 6, 7]\n",
      "16.00063228461531 [3, 4, 5, 6, 7]\n",
      "20.00079035577338 [2, 3, 4, 5, 6, 7]\n",
      "24.000948426931448 [1, 2, 3, 4, 5, 6, 7]\n",
      "28.001106498089516 [6, 7] 30\n",
      "32.00126456924758 [5, 6, 7] 41.6666666667\n",
      "36.00142264040565 [4, 5, 6, 7] 53.3333333333\n",
      "40.00158071156372 [3, 4, 5, 6, 7] 65.0\n",
      "44.00173878272179 [2, 3, 4, 5, 6, 7] 76.6666666667\n",
      "48.001896853879856 [1, 2, 3, 4, 5, 6, 7] 88.3333333333\n",
      "52.002054925037925 [1, 2, 3, 4, 5, 6, 7] 100.0\n",
      "56.00221299619599 [1, 2, 3, 4, 5, 6, 7] 100.0\n",
      "60.00237106735406 [1, 2, 3, 4, 5, 6, 7] 100.0\n",
      "64.00252913851213 [1, 2, 3, 4, 5, 6, 7] 100.0\n",
      "68.0026872096702 [1, 2, 3, 4, 5, 6, 7] 30\n",
      "72.00284528082827 [1, 2, 3, 4, 5, 6, 7] 30\n",
      "CPU times: user 15.4 s, sys: 238 ms, total: 15.6 s\n",
      "Wall time: 16.1 s\n"
     ]
    }
   ],
   "source": [
    "%%time\n",
    "filename = \"binaries/trappist.bin\"\n",
    "#colors = [None, 'whitesmoke', 'darkviolet', 'cyan', 'red', 'yellow', 'chartreuse', 'fuchsia']\n",
    "colors = [None, 'aqua','dodgerblue','palevioletred','gold','khaki','darkorchid','slategrey']\n",
    "\n",
    "pb = PlanetBeat(filename, bpm=30, outer_midi_note=48) # notes: http://subsynth.sourceforge.net/midinote2freq.html\n",
    "pb.conjunction_notes = [0, 33, 35, 20, 18, 14, 12]\n",
    "pb.conjunction_velocities = [0, 43, 68, 100, 100, 124, 124]\n",
    "\n",
    "planets = list(range(pb.sim.N))\n",
    "for i in range(1,pb.sim.N):\n",
    "    ps = planets[-i:]\n",
    "    print(pb.sim.t, ps)\n",
    "    pb.integrate(tmax=pb.sim.t+4, playtransits=ps, playconjunctions=False, showplanets=ps, showtransits=ps, showconjunctions=False, duration=1, color=colors)\n",
    "    \n",
    "conjunctionbars = 6\n",
    "barbpms = np.linspace(30,100,conjunctionbars+1)\n",
    "N = 10\n",
    "\n",
    "for j, i in enumerate(range(2,pb.sim.N)):\n",
    "    ps = planets[-i:]\n",
    "    print(pb.sim.t, ps, pb.bpm)\n",
    "    times = np.linspace(pb.sim.t,pb.sim.t+4,N,endpoint=True)\n",
    "    bpms = np.linspace(pb.bpm,barbpms[j+1],N,endpoint=True)\n",
    "    for time, bpm in zip(times, bpms):\n",
    "        pb.change_tempo(bpm)\n",
    "        pb.integrate(time, playtransits=True, playconjunctions=ps, showplanets=ps, showtransits=False, showconjunctions=ps, duration=1, color=colors)\n",
    "\n",
    "for i in range(4):\n",
    "    print(pb.sim.t, ps, pb.bpm)\n",
    "    pb.integrate(tmax=pb.sim.t+4, playtransits=True, playconjunctions=True, showplanets=True, showtransits=False, showconjunctions=True, duration=1, color=colors)\n",
    "\n",
    "pb.change_tempo(30)    \n",
    "print(pb.sim.t, ps, pb.bpm)\n",
    "pb.integrate(tmax=pb.sim.t+4, playtransits=False, playconjunctions=False, showplanets=True, showtransits=False, showconjunctions=False, duration=1, color=colors)\n",
    "print(pb.sim.t, ps, pb.bpm)\n",
    "\n",
    "midiname = \"midi\"\n",
    "pb.write_midi(\"./tmp/\"+midiname+\".mid\")"
   ]
  },
  {
   "cell_type": "code",
   "execution_count": 46,
   "metadata": {
    "collapsed": false
   },
   "outputs": [
    {
     "name": "stdout",
     "output_type": "stream",
     "text": [
      "CPU times: user 38.6 ms, sys: 43.2 ms, total: 81.8 ms\n",
      "Wall time: 2.9 s\n"
     ]
    }
   ],
   "source": [
    "%%time\n",
    "import warnings\n",
    "warnings.filterwarnings(\"ignore\")\n",
    "\n",
    "call(\"rm -f tmp/pngs/*\", shell=True)\n",
    "pool = rebound.InterruptiblePool()\n",
    "for a in pb.fig_params:\n",
    "    a.append(None)\n",
    "    a.append(False)\n",
    "res = pool.map(write_png, pb.fig_params)"
   ]
  },
  {
   "cell_type": "markdown",
   "metadata": {},
   "source": [
    "# Tests\n",
    "\n",
    "Ignore"
   ]
  },
  {
   "cell_type": "code",
   "execution_count": 111,
   "metadata": {
    "collapsed": false
   },
   "outputs": [
    {
     "name": "stdout",
     "output_type": "stream",
     "text": [
      "5\n",
      "6\n",
      "7\n"
     ]
    }
   ],
   "source": [
    "filename = \"binaries/trappist.bin\"\n",
    "sim = rebound.Simulation.from_file(filename)\n",
    "colors = [None, 'whitesmoke', 'darkviolet', 'cyan', 'red', 'yellow', 'chartreuse', 'fuchsia']\n",
    "\n",
    "write_png((0, 0, filename, 1, colors, list(range(5,8)), list(range(5,8)), [], []))"
   ]
  },
  {
   "cell_type": "code",
   "execution_count": 45,
   "metadata": {
    "collapsed": false
   },
   "outputs": [],
   "source": [
    "filename = \"binaries/trappist.bin\"\n",
    "colors = [None, 'whitesmoke', 'darkviolet', 'cyan', 'red', 'yellow', 'chartreuse', 'fuchsia']\n",
    "#colors = [None, 'aqua','dodgerblue','palevioletred','gold','khaki','dark orchid','slategrey']\n",
    "pb = PlanetBeat(filename, bpm=30, outer_midi_note=48) # notes: http://subsynth.sourceforge.net/midinote2freq.html\n",
    "planets = [5,6,7]\n",
    "\n",
    "pb.integrate(1, playtransits=planets, playconjunctions=planets, showtransits=planets, showconjunctions=planets, showplanets=planets, duration=1, color=colors)\n",
    "    \n",
    "midiname = \"midi\"\n",
    "pb.write_midi(\"./tmp/\"+midiname+\".mid\")"
   ]
  },
  {
   "cell_type": "markdown",
   "metadata": {},
   "source": [
    "# Movie with MIDI audio"
   ]
  },
  {
   "cell_type": "code",
   "execution_count": 47,
   "metadata": {
    "collapsed": false
   },
   "outputs": [
    {
     "data": {
      "text/plain": [
       "0"
      ]
     },
     "execution_count": 47,
     "metadata": {},
     "output_type": "execute_result"
    }
   ],
   "source": [
    "call(\"timidity -Ow ./tmp/{0}.mid -o ./tmp/{0}.wav --preserve-silence\".format(midiname), shell=True)\n",
    "call(\"ffmpeg -t {0} -i ./tmp/{1}.wav ./tmp/{1}cut.wav\".format(pb.time_elapsed, midiname), shell=True)\n",
    "moviename = \"opaque.mp4\"\n",
    "fps = 30\n",
    "try:\n",
    "    call(\"rm -f {0}\".format(moviename), shell=True)\n",
    "except:\n",
    "    pass\n",
    "call(\"ffmpeg -r {0} -i tmp/pngs/%05d.png -i tmp/{1}cut.wav -c:v libx264 -pix_fmt yuv420p -c:a libvo_aacenc -b:a 192k -shortest {2}\".format(fps, midiname, moviename), shell=True)"
   ]
  },
  {
   "cell_type": "markdown",
   "metadata": {},
   "source": [
    "# Just movie"
   ]
  },
  {
   "cell_type": "code",
   "execution_count": 32,
   "metadata": {
    "collapsed": false
   },
   "outputs": [
    {
     "data": {
      "text/plain": [
       "0"
      ]
     },
     "execution_count": 32,
     "metadata": {},
     "output_type": "execute_result"
    }
   ],
   "source": [
    "moviename = \"opaquenosound.mp4\"\n",
    "fps = 30\n",
    "try:\n",
    "    call(\"rm -f {0}\".format(moviename), shell=True)\n",
    "except:\n",
    "    pass\n",
    "call(\"ffmpeg -r {0} -i tmp/pngs/%05d.png -c:v libx264 -pix_fmt yuv420p {1}\".format(fps, moviename), shell=True)"
   ]
  },
  {
   "cell_type": "code",
   "execution_count": 35,
   "metadata": {
    "collapsed": false
   },
   "outputs": [
    {
     "data": {
      "text/plain": [
       "0"
      ]
     },
     "execution_count": 35,
     "metadata": {},
     "output_type": "execute_result"
    }
   ],
   "source": [
    "call(\"open \"+moviename, shell=True)"
   ]
  },
  {
   "cell_type": "code",
   "execution_count": 49,
   "metadata": {
    "collapsed": false
   },
   "outputs": [
    {
     "data": {
      "text/plain": [
       "0"
      ]
     },
     "execution_count": 49,
     "metadata": {},
     "output_type": "execute_result"
    }
   ],
   "source": [
    "call(\"open opaque.mp4\", shell=True)"
   ]
  },
  {
   "cell_type": "code",
   "execution_count": null,
   "metadata": {
    "collapsed": true
   },
   "outputs": [],
   "source": []
  }
 ],
 "metadata": {
  "kernelspec": {
   "display_name": "Python 3",
   "language": "python",
   "name": "python3"
  },
  "language_info": {
   "codemirror_mode": {
    "name": "ipython",
    "version": 3
   },
   "file_extension": ".py",
   "mimetype": "text/x-python",
   "name": "python",
   "nbconvert_exporter": "python",
   "pygments_lexer": "ipython3",
   "version": "3.5.1"
  }
 },
 "nbformat": 4,
 "nbformat_minor": 2
}
