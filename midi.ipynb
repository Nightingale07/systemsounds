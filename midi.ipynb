{
 "cells": [
  {
   "cell_type": "code",
   "execution_count": 1,
   "metadata": {
    "collapsed": false
   },
   "outputs": [],
   "source": [
    "from midiutil import MIDIFile\n",
    "import rebound\n",
    "import numpy as np\n",
    "import matplotlib.pyplot as plt\n",
    "from subprocess import call\n",
    "from itertools import repeat"
   ]
  },
  {
   "cell_type": "code",
   "execution_count": 11,
   "metadata": {
    "collapsed": false
   },
   "outputs": [],
   "source": [
    "class PlanetBeat():\n",
    "    def __init__(self, filename, bpm, time_per_beat=None, dt=None, outer_midi_note=48, fps=30):\n",
    "        try:\n",
    "            call(\"rm -f ./tmp/*\", shell=True)\n",
    "        except:\n",
    "            pass\n",
    "        self.midi = MIDIFile(adjust_origin=True) # One track, defaults to format 1 (tempo track automatically created)\n",
    "        self.filename = filename\n",
    "        self.sim = rebound.Simulation.from_file(filename)\n",
    "        self.sim.t = 0\n",
    "        if time_per_beat:\n",
    "            self.time_per_beat = time_per_beat\n",
    "        else:\n",
    "            self.time_per_beat = self.sim.particles[-1].P\n",
    "        if not dt:\n",
    "            self.sim.dt = self.sim.particles[1].P/100. # use small timestep to get transits right. This is not the bottleneck\n",
    "        else:\n",
    "            self.sim.dt = dt\n",
    "        \n",
    "        self.bpm = bpm\n",
    "        self.fps = fps\n",
    "        self.fig_ctr = 0\n",
    "        self.time_elapsed = 0\n",
    "        self.time_per_fig = 1./self.fps\n",
    "        \n",
    "        self.notes = self.calc_midi_notes(outer_midi_note)\n",
    "        self.velocities = [100 for i in range(self.sim.N)]\n",
    "        self.conjunction_notes = [12 for i in range(self.sim.N)] # C1\n",
    "        self.conjunction_velocities = [100 for i in range(self.sim.N)]\n",
    "        \n",
    "        set_time_per_beat(self.sim, self.time_per_beat)\n",
    "        self.change_tempo(bpm)\n",
    "        self.fig_params = []\n",
    "        self.conjunctions = []\n",
    "    def calc_midi_notes(self, outer_midi_note):\n",
    "        # 12 notes between octaves, freq = f0*2**(n/12). \n",
    "        # n = 12 log_2(freq/f0)\n",
    "        # star, then planets from inside out\n",
    "        ps = self.sim.particles\n",
    "        midinotes = [0] # placeholder for star\n",
    "        for p in ps[1:]:\n",
    "            midinote = outer_midi_note+12*np.log(ps[-1].P/p.P)/np.log(2)\n",
    "            midinotes.append(int(np.round(midinote)))\n",
    "        return midinotes  \n",
    "    def make_tuple(self, arg):\n",
    "        N = self.sim.N\n",
    "        if arg == True:\n",
    "            return tuple(range(1,N))\n",
    "        elif arg == False:\n",
    "            return ()\n",
    "        else:\n",
    "            return tuple(arg)\n",
    "    def integrate(self, tmax, color=True, duration=1, track=0, playtransits=True, playconjunctions=False, showplanets=True, showtransits=True, showconjunctions=True):\n",
    "        playtransits = self.make_tuple(playtransits)\n",
    "        playconjunctions = self.make_tuple(playconjunctions)\n",
    "        showplanets = self.make_tuple(showplanets)\n",
    "        showtransits = self.make_tuple(showtransits)\n",
    "        showconjunctions = self.make_tuple(showconjunctions)\n",
    "        \n",
    "        N=self.sim.N\n",
    "        ps = self.sim.particles\n",
    "        yprev = np.zeros(N)\n",
    "        sinthetaprev = np.zeros(N)\n",
    "        while self.sim.t < tmax:\n",
    "            self.sim.step()\n",
    "            self.time_elapsed += self.sim.dt/self.bpm*60.\n",
    "            for j in playtransits:\n",
    "                if yprev[j] < 0 and ps[j].y > 0:\n",
    "                    #print(self.sim.t, j)\n",
    "                    #print(ps[j].index)\n",
    "                    self.midi.addNote(track, ps[j].index, self.notes[j], self.sim.t, duration, self.velocities[j])\n",
    "                yprev[j] = ps[j].y\n",
    "            for j in playconjunctions:\n",
    "                if j+1 in planets:\n",
    "                    sintheta = np.sin(ps[j+1].theta-ps[j].theta)\n",
    "                    if sinthetaprev[j] > 0 and sintheta < 0:\n",
    "                        #print('conjunction', self.sim.t, j)\n",
    "                        self.conjunctions.append((self.sim.t, j))\n",
    "                        self.midi.addNote(track, N, self.conjunction_notes[j], self.sim.t, duration, self.conjunction_velocities[j]) # add to track above all planets\n",
    "                    sinthetaprev[j] = sintheta\n",
    "            if self.time_elapsed/self.time_per_fig > self.fig_ctr + 1:\n",
    "                #print(self.time_elapsed*self.fps)\n",
    "                self.fig_params.append([self.fig_ctr, self.sim.t, filename, self.time_per_beat, color, tuple(showplanets), tuple(showtransits), tuple(showconjunctions)])\n",
    "                self.fig_ctr += 1\n",
    "    def change_tempo(self, bpm):\n",
    "        self.bpm = bpm\n",
    "        self.midi.addTempo(0, self.sim.t, self.bpm) \n",
    "    def write_midi(self, filename):\n",
    "        with open(filename, \"wb\") as f:\n",
    "            self.midi.writeFile(f)\n",
    "\n",
    "def set_time_per_beat(sim, time_per_beat): # makes sim.t run in units of the outer planet orbit = one beat\n",
    "        ps = sim.particles\n",
    "        sim.G = time_per_beat**2\n",
    "        sim.dt /= time_per_beat\n",
    "        for p in ps:\n",
    "            p.vx *= time_per_beat\n",
    "            p.vy *= time_per_beat\n",
    "            p.vz *= time_per_beat\n",
    "    \n",
    "def write_png(params):\n",
    "    fig_ctr, time, filename, time_per_beat, color, showplanets, showtransits, showconjunctions = params\n",
    "    sim = rebound.Simulation.from_file(filename)\n",
    "    sim.t=0\n",
    "    set_time_per_beat(sim, time_per_beat)\n",
    "    sim.integrate(time)\n",
    "    ps = sim.particles\n",
    "    \n",
    "    lw=3\n",
    "    scale=ps[1].a/5 # length scale for making dots bigger\n",
    "    refsize=25*lw # this is what REBOUND uses for size of circles in call to plt.scatter\n",
    "\n",
    "    fig = rebound.OrbitPlot(sim, figsize=(8,8), color=color, lw=lw, plotparticles=showplanets)\n",
    "    ax = fig.axes[0]\n",
    "    ax.axis('off')\n",
    "    for i in showtransits:\n",
    "        p = ps[i]\n",
    "        if p.x > 0:\n",
    "            ax.scatter(p.x, p.y, s=refsize*(1+5*np.exp(-np.abs(p.y)/scale)),color='k', marker='o')\n",
    "    #if doconjunctions:\n",
    "    #    nearby_conjunctions = [conjunction for conjunction in conjunctions if np.abs(conjunction[0]-time) < sim.particles[-1].P/10.]\n",
    "    #    for conjunction in nearby_conjunctions:\n",
    "    #        p = ps[conjunction[1]]\n",
    "    #        ax.plot([0, p.x], [0,p.y], lw=5)\n",
    "    fig.savefig('tmp/pngs/{0:0=5d}.png'.format(fig_ctr))\n",
    "    plt.close(fig)  "
   ]
  },
  {
   "cell_type": "code",
   "execution_count": 79,
   "metadata": {
    "collapsed": false
   },
   "outputs": [],
   "source": [
    "filename = \"trappist.bin\"\n",
    "\n",
    "pb = PlanetBeat(filename, bpm=30, outer_midi_note=48) # notes: http://subsynth.sourceforge.net/midinote2freq.html\n",
    "planets = [6,7]\n",
    "\n",
    "pb.integrate(7, duration=1, color=True)\n",
    "    \n",
    "midiname = \"midi\"\n",
    "pb.write_midi(\"./tmp/\"+midiname+\".mid\")"
   ]
  },
  {
   "cell_type": "code",
   "execution_count": 14,
   "metadata": {
    "collapsed": false
   },
   "outputs": [
    {
     "data": {
      "text/plain": [
       "21.0"
      ]
     },
     "execution_count": 14,
     "metadata": {},
     "output_type": "execute_result"
    }
   ],
   "source": [
    "0.35/30*60*30"
   ]
  },
  {
   "cell_type": "code",
   "execution_count": 96,
   "metadata": {
    "collapsed": false
   },
   "outputs": [
    {
     "name": "stdout",
     "output_type": "stream",
     "text": [
      "0.028129343209743 -1\n",
      "1.0283756944032767 -1\n",
      "2.027794711972785 -1\n",
      "3.0280410631661088 -1\n",
      "4.027460080735617 -1\n",
      "5.027706431928941 -1\n",
      "6.027952783122265 -1\n",
      "7.027371800691773 -1\n",
      "8.027618151885155 -1\n",
      "9.02703716945681 -1\n",
      "CPU times: user 366 ms, sys: 499 ms, total: 866 ms\n",
      "Wall time: 480 ms\n"
     ]
    }
   ],
   "source": [
    "%%time\n",
    "filename = \"trappist.bin\"\n",
    "\n",
    "pb = PlanetBeat(filename, bpm=30, outer_midi_note=48, movie=True) # notes: http://subsynth.sourceforge.net/midinote2freq.html\n",
    "planets = [-1]\n",
    "\n",
    "N = 100\n",
    "beats = np.linspace(0,10,N,endpoint=True)\n",
    "tempos = np.linspace(30,100,N,endpoint=True)\n",
    "for beat, tempo in zip(beats, tempos):\n",
    "    pb.change_tempo(tempo)\n",
    "    pb.integrate(beat, planets=planets, duration=1, color=True)\n",
    "    \n",
    "midiname = \"midi\"\n",
    "pb.write_midi(\"./tmp/\"+midiname+\".mid\")"
   ]
  },
  {
   "cell_type": "code",
   "execution_count": 16,
   "metadata": {
    "collapsed": false
   },
   "outputs": [
    {
     "data": {
      "text/plain": [
       "0.6666666666666666"
      ]
     },
     "execution_count": 16,
     "metadata": {},
     "output_type": "execute_result"
    }
   ],
   "source": [
    "20/30"
   ]
  },
  {
   "cell_type": "code",
   "execution_count": 12,
   "metadata": {
    "collapsed": false
   },
   "outputs": [
    {
     "name": "stdout",
     "output_type": "stream",
     "text": [
      "CPU times: user 455 ms, sys: 151 ms, total: 605 ms\n",
      "Wall time: 2min 34s\n"
     ]
    }
   ],
   "source": [
    "%%time\n",
    "import warnings\n",
    "warnings.filterwarnings(\"ignore\")\n",
    "\n",
    "call(\"rm -f tmp/pngs/*\", shell=True)\n",
    "pool = rebound.InterruptiblePool()\n",
    "#for a in pb.fig_params:\n",
    "#    a.append(pb.conjunctions)\n",
    "res = pool.map(write_png, pb.fig_params)"
   ]
  },
  {
   "cell_type": "code",
   "execution_count": 41,
   "metadata": {
    "collapsed": false
   },
   "outputs": [
    {
     "data": {
      "text/plain": [
       "array([  30.,   65.,  100.])"
      ]
     },
     "execution_count": 41,
     "metadata": {},
     "output_type": "execute_result"
    }
   ],
   "source": [
    "np.linspace(30,100,3, endpoint=True)"
   ]
  },
  {
   "cell_type": "code",
   "execution_count": 42,
   "metadata": {
    "collapsed": false
   },
   "outputs": [
    {
     "data": {
      "text/plain": [
       "[]"
      ]
     },
     "execution_count": 42,
     "metadata": {},
     "output_type": "execute_result"
    }
   ],
   "source": [
    "list(range(6,1))"
   ]
  },
  {
   "cell_type": "code",
   "execution_count": 47,
   "metadata": {
    "collapsed": false
   },
   "outputs": [
    {
     "data": {
      "text/plain": [
       "array([ 28.,  32.,  36.,  40.,  44.,  48.,  52.])"
      ]
     },
     "execution_count": 47,
     "metadata": {},
     "output_type": "execute_result"
    }
   ],
   "source": [
    "np.linspace(28, 52, 7)"
   ]
  },
  {
   "cell_type": "code",
   "execution_count": 48,
   "metadata": {
    "collapsed": false
   },
   "outputs": [
    {
     "data": {
      "text/plain": [
       "array([  30.        ,   41.66666667,   53.33333333,   65.        ,\n",
       "         76.66666667,   88.33333333,  100.        ])"
      ]
     },
     "execution_count": 48,
     "metadata": {},
     "output_type": "execute_result"
    }
   ],
   "source": [
    "np.linspace(30, 100, 7)"
   ]
  },
  {
   "cell_type": "code",
   "execution_count": 10,
   "metadata": {
    "collapsed": false
   },
   "outputs": [
    {
     "name": "stdout",
     "output_type": "stream",
     "text": [
      "0.0 [7]\n",
      "4.000158071149695 [6, 7]\n",
      "8.000316142299175 [5, 6, 7]\n",
      "12.000474213457244 [4, 5, 6, 7]\n",
      "16.00063228461531 [3, 4, 5, 6, 7]\n",
      "20.00079035577338 [2, 3, 4, 5, 6, 7]\n",
      "24.000948426931448 [1, 2, 3, 4, 5, 6, 7]\n",
      "28.001106498089516 [6, 7] 30\n",
      "32.00126456924758 [5, 6, 7] 41.6666666667\n",
      "36.00142264040565 [4, 5, 6, 7] 53.3333333333\n",
      "40.00158071156372 [3, 4, 5, 6, 7] 65.0\n",
      "44.00173878272179 [2, 3, 4, 5, 6, 7] 76.6666666667\n",
      "48.001896853879856 [1, 2, 3, 4, 5, 6, 7] 88.3333333333\n",
      "52.002054925037925 [1, 2, 3, 4, 5, 6, 7] 100.0\n",
      "56.00221299619599 [1, 2, 3, 4, 5, 6, 7] 100.0\n",
      "60.00237106735406 [1, 2, 3, 4, 5, 6, 7] 100.0\n",
      "64.00252913851213 [1, 2, 3, 4, 5, 6, 7] 100.0\n",
      "68.0026872096702 [1, 2, 3, 4, 5, 6, 7] 30\n"
     ]
    }
   ],
   "source": [
    "#%%time\n",
    "filename = \"trappist.bin\"\n",
    "\n",
    "pb = PlanetBeat(filename, bpm=30, outer_midi_note=48) # notes: http://subsynth.sourceforge.net/midinote2freq.html\n",
    "pb.conjunction_notes = [0, 33, 35, 20, 18, 14, 12]\n",
    "pb.conjunction_velocities = [0, 43, 68, 100, 100, 124, 124]\n",
    "\n",
    "planets = list(range(pb.sim.N))\n",
    "for i in range(1,pb.sim.N):\n",
    "    ps = planets[-i:]\n",
    "    print(pb.sim.t, ps)\n",
    "    pb.integrate(tmax=pb.sim.t+4, playtransits=ps, playconjunctions=False, showplanets=ps, showtransits=ps, showconjunctions=False, duration=1, color='red')\n",
    "    \n",
    "conjunctionbars = 6\n",
    "barbpms = np.linspace(30,100,conjunctionbars+1)\n",
    "N = 10\n",
    "\n",
    "for j, i in enumerate(range(2,pb.sim.N)):\n",
    "    ps = planets[-i:]\n",
    "    print(pb.sim.t, ps, pb.bpm)\n",
    "    times = np.linspace(pb.sim.t,pb.sim.t+4,N,endpoint=True)\n",
    "    bpms = np.linspace(pb.bpm,barbpms[j+1],N,endpoint=True)\n",
    "    for time, bpm in zip(times, bpms):\n",
    "        pb.change_tempo(bpm)\n",
    "        pb.integrate(time, playtransits=True, playconjunctions=ps, showplanets=ps, showtransits=ps, showconjunctions=ps, duration=1, color='red')\n",
    "\n",
    "for i in range(4):\n",
    "    print(pb.sim.t, ps, pb.bpm)\n",
    "    pb.integrate(tmax=pb.sim.t+4, playtransits=True, playconjunctions=True, showplanets=True, showtransits=True, showconjunctions=True, duration=1, color='red')\n",
    "\n",
    "pb.change_tempo(30)    \n",
    "print(pb.sim.t, ps, pb.bpm)\n",
    "\n",
    "midiname = \"midi\"\n",
    "pb.write_midi(\"./tmp/\"+midiname+\".mid\")"
   ]
  },
  {
   "cell_type": "code",
   "execution_count": 86,
   "metadata": {
    "collapsed": false
   },
   "outputs": [
    {
     "data": {
      "text/plain": [
       "array([  30.        ,   41.66666667,   53.33333333,   65.        ,\n",
       "         76.66666667,   88.33333333,  100.        ])"
      ]
     },
     "execution_count": 86,
     "metadata": {},
     "output_type": "execute_result"
    }
   ],
   "source": [
    "barbpms"
   ]
  },
  {
   "cell_type": "code",
   "execution_count": 13,
   "metadata": {
    "collapsed": false
   },
   "outputs": [
    {
     "data": {
      "text/plain": [
       "0"
      ]
     },
     "execution_count": 13,
     "metadata": {},
     "output_type": "execute_result"
    }
   ],
   "source": [
    "call(\"timidity -Ow ./tmp/{0}.mid -o ./tmp/{0}.wav --preserve-silence\".format(midiname), shell=True)\n",
    "call(\"ffmpeg -t {0} -i ./tmp/{1}.wav ./tmp/{1}cut.wav\".format(pb.time_elapsed, midiname), shell=True)\n",
    "moviename = \"test2.mp4\"\n",
    "fps = 30\n",
    "try:\n",
    "    call(\"rm -f {0}\".format(moviename), shell=True)\n",
    "except:\n",
    "    pass\n",
    "call(\"ffmpeg -r {0} -i tmp/pngs/%05d.png -i tmp/{1}cut.wav -c:v libx264 -pix_fmt yuv420p -c:a libvo_aacenc -b:a 192k -shortest {2}\".format(fps, midiname, moviename), shell=True)"
   ]
  },
  {
   "cell_type": "code",
   "execution_count": 14,
   "metadata": {
    "collapsed": false
   },
   "outputs": [
    {
     "data": {
      "text/plain": [
       "0"
      ]
     },
     "execution_count": 14,
     "metadata": {},
     "output_type": "execute_result"
    }
   ],
   "source": [
    "call(\"open \"+moviename, shell=True)"
   ]
  },
  {
   "cell_type": "code",
   "execution_count": 79,
   "metadata": {
    "collapsed": false
   },
   "outputs": [
    {
     "data": {
      "text/plain": [
       "0"
      ]
     },
     "execution_count": 79,
     "metadata": {},
     "output_type": "execute_result"
    }
   ],
   "source": [
    "call(\"open ./tmp/midi.wav\", shell=True)"
   ]
  },
  {
   "cell_type": "code",
   "execution_count": 70,
   "metadata": {
    "collapsed": false
   },
   "outputs": [
    {
     "data": {
      "text/plain": [
       "'midi'"
      ]
     },
     "execution_count": 70,
     "metadata": {},
     "output_type": "execute_result"
    }
   ],
   "source": [
    "midiname"
   ]
  },
  {
   "cell_type": "code",
   "execution_count": 75,
   "metadata": {
    "collapsed": false
   },
   "outputs": [
    {
     "data": {
      "text/plain": [
       "'./tmp/midicut.wav'"
      ]
     },
     "execution_count": 75,
     "metadata": {},
     "output_type": "execute_result"
    }
   ],
   "source": [
    "\"./tmp/{0}cut.wav\".format(midiname)"
   ]
  },
  {
   "cell_type": "code",
   "execution_count": null,
   "metadata": {
    "collapsed": true
   },
   "outputs": [],
   "source": []
  }
 ],
 "metadata": {
  "kernelspec": {
   "display_name": "Python 3",
   "language": "python",
   "name": "python3"
  },
  "language_info": {
   "codemirror_mode": {
    "name": "ipython",
    "version": 3
   },
   "file_extension": ".py",
   "mimetype": "text/x-python",
   "name": "python",
   "nbconvert_exporter": "python",
   "pygments_lexer": "ipython3",
   "version": "3.5.1"
  }
 },
 "nbformat": 4,
 "nbformat_minor": 2
}
