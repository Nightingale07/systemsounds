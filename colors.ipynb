{
 "cells": [
  {
   "cell_type": "code",
   "execution_count": 1,
   "metadata": {
    "collapsed": true
   },
   "outputs": [],
   "source": [
    "from midiutil import MIDIFile\n",
    "import rebound\n",
    "import numpy as np\n",
    "import matplotlib.pyplot as plt\n",
    "from subprocess import call\n",
    "from itertools import repeat\n",
    "import PIL # reminder that this is a requirement\n",
    "from scipy.misc import imread"
   ]
  },
  {
   "cell_type": "code",
   "execution_count": 2,
   "metadata": {
    "collapsed": true
   },
   "outputs": [],
   "source": [
    "class PlanetBeat():\n",
    "    def __init__(self, filename, bpm, time_per_beat=None, dt=None, outer_midi_note=48, fps=30):\n",
    "        try:\n",
    "            call(\"rm -f ./tmp/*\", shell=True)\n",
    "        except:\n",
    "            pass\n",
    "        self.midi = MIDIFile(adjust_origin=True) # One track, defaults to format 1 (tempo track automatically created)\n",
    "        self.filename = filename\n",
    "        self.sim = rebound.Simulation.from_file(filename)\n",
    "        self.sim.t = 0\n",
    "        if time_per_beat:\n",
    "            self.time_per_beat = time_per_beat\n",
    "        else:\n",
    "            self.time_per_beat = self.sim.particles[-1].P\n",
    "        if not dt:\n",
    "            self.sim.dt = self.sim.particles[1].P/100. # use small timestep to get transits right. This is not the bottleneck\n",
    "        else:\n",
    "            self.sim.dt = dt\n",
    "        \n",
    "        self.bpm = bpm\n",
    "        self.fps = fps\n",
    "        self.fig_ctr = 0\n",
    "        self.time_elapsed = 0\n",
    "        self.time_per_fig = 1./self.fps\n",
    "        \n",
    "        self.notes = self.calc_midi_notes(outer_midi_note)\n",
    "        self.velocities = [100 for i in range(self.sim.N)]\n",
    "        self.conjunction_notes = [12 for i in range(self.sim.N)] # C1\n",
    "        self.conjunction_velocities = [100 for i in range(self.sim.N)]\n",
    "        \n",
    "        set_time_per_beat(self.sim, self.time_per_beat)\n",
    "        self.change_tempo(bpm)\n",
    "        self.fig_params = []\n",
    "        self.conjunctions = []\n",
    "    def calc_midi_notes(self, outer_midi_note):\n",
    "        # 12 notes between octaves, freq = f0*2**(n/12). \n",
    "        # n = 12 log_2(freq/f0)\n",
    "        # star, then planets from inside out\n",
    "        ps = self.sim.particles\n",
    "        midinotes = [0] # placeholder for star\n",
    "        for p in ps[1:]:\n",
    "            midinote = outer_midi_note+12*np.log(ps[-1].P/p.P)/np.log(2)\n",
    "            midinotes.append(int(np.round(midinote)))\n",
    "        return midinotes  \n",
    "    def make_tuple(self, arg):\n",
    "        N = self.sim.N\n",
    "        if arg == True:\n",
    "            return tuple(range(1,N))\n",
    "        elif arg == False:\n",
    "            return ()\n",
    "        else:\n",
    "            return tuple(arg)\n",
    "    def integrate(self, tmax, color=True, duration=1, track=0, playtransits=True, playconjunctions=False, showplanets=True, showtransits=True, showconjunctions=True):\n",
    "        playtransits = self.make_tuple(playtransits)\n",
    "        playconjunctions = self.make_tuple(playconjunctions)\n",
    "        showplanets = self.make_tuple(showplanets)\n",
    "        showtransits = self.make_tuple(showtransits)\n",
    "        showconjunctions = self.make_tuple(showconjunctions)\n",
    "        \n",
    "        N=self.sim.N\n",
    "        ps = self.sim.particles\n",
    "        yprev = np.zeros(N)\n",
    "        sinthetaprev = np.zeros(N)\n",
    "        while self.sim.t < tmax:\n",
    "            self.sim.step()\n",
    "            self.time_elapsed += self.sim.dt/self.bpm*60.\n",
    "            for j in playtransits:\n",
    "                if yprev[j] < 0 and ps[j].y > 0:\n",
    "                    #print(self.sim.t, j)\n",
    "                    #print(ps[j].index)\n",
    "                    self.midi.addNote(track, ps[j].index, self.notes[j], self.sim.t, duration, self.velocities[j])\n",
    "                yprev[j] = ps[j].y\n",
    "            for j in playconjunctions:\n",
    "                if j+1 in planets:\n",
    "                    sintheta = np.sin(ps[j+1].theta-ps[j].theta)\n",
    "                    if sinthetaprev[j] > 0 and sintheta < 0:\n",
    "                        #print('conjunction', self.sim.t, j)\n",
    "                        self.conjunctions.append((self.sim.t, j))\n",
    "                        self.midi.addNote(track, N, self.conjunction_notes[j], self.sim.t, duration, self.conjunction_velocities[j]) # add to track above all planets\n",
    "                    sinthetaprev[j] = sintheta\n",
    "            if self.time_elapsed/self.time_per_fig > self.fig_ctr + 1:\n",
    "                #print(self.time_elapsed*self.fps)\n",
    "                self.fig_params.append([self.fig_ctr, self.sim.t, filename, self.time_per_beat, color, tuple(showplanets), tuple(showtransits), tuple(showconjunctions)])\n",
    "                self.fig_ctr += 1\n",
    "    def change_tempo(self, bpm):\n",
    "        self.bpm = bpm\n",
    "        self.midi.addTempo(0, self.sim.t, self.bpm) \n",
    "    def write_midi(self, filename):\n",
    "        with open(filename, \"wb\") as f:\n",
    "            self.midi.writeFile(f)\n",
    "\n",
    "def set_time_per_beat(sim, time_per_beat): # makes sim.t run in units of the outer planet orbit = one beat\n",
    "        ps = sim.particles\n",
    "        sim.G = time_per_beat**2\n",
    "        sim.dt /= time_per_beat\n",
    "        for p in ps:\n",
    "            p.vx *= time_per_beat\n",
    "            p.vy *= time_per_beat\n",
    "            p.vz *= time_per_beat\n",
    "    \n",
    "def write_png(params):\n",
    "    fig_ctr, time, filename, time_per_beat, color, showplanets, showtransits, showconjunctions = params\n",
    "    sim = rebound.Simulation.from_file(filename)\n",
    "    sim.t=0\n",
    "    set_time_per_beat(sim, time_per_beat)\n",
    "    sim.integrate(time)\n",
    "    ps = sim.particles\n",
    "    \n",
    "    lw=3\n",
    "    scale=ps[1].a/5 # length scale for making dots bigger\n",
    "    refsize=25*lw # this is what REBOUND uses for size of circles in call to plt.scatter\n",
    "\n",
    "    fig = rebound.OrbitPlot(sim, figsize=(8,8), color=color, lw=lw, plotparticles=showplanets)\n",
    "    ax = fig.axes[0]\n",
    "    ax.axis('off')\n",
    "    for i in showtransits:\n",
    "        p = ps[i]\n",
    "        if p.x > 0:\n",
    "            ax.scatter(p.x, p.y, s=refsize*(1+5*np.exp(-np.abs(p.y)/scale)),color='k', marker='o',zorder=1)\n",
    "    #if doconjunctions:\n",
    "    #    nearby_conjunctions = [conjunction for conjunction in conjunctions if np.abs(conjunction[0]-time) < sim.particles[-1].P/10.]\n",
    "    #    for conjunction in nearby_conjunctions:\n",
    "    #        p = ps[conjunction[1]]\n",
    "    #        ax.plot([0, p.x], [0,p.y], lw=5)\n",
    "    \n",
    "    bkg = imread('images/US_background_image.png')\n",
    "    xlim = ax.get_xlim()\n",
    "    ylim = ax.get_ylim()\n",
    "    ax.imshow(bkg, zorder=0, extent=xlim+ylim)\n",
    "    #fig.savefig('test.png')\n",
    "    fig.savefig('tmp/pngs/{0:0=5d}.png'.format(fig_ctr))\n",
    "    plt.close(fig)  "
   ]
  },
  {
   "cell_type": "markdown",
   "metadata": {},
   "source": [
    "# Pick colors from\n",
    "\n",
    "http://stackoverflow.com/questions/22408237/named-colors-in-matplotlib"
   ]
  },
  {
   "cell_type": "code",
   "execution_count": 3,
   "metadata": {
    "collapsed": false
   },
   "outputs": [
    {
     "name": "stderr",
     "output_type": "stream",
     "text": [
      "/Users/dtamayo/Documents/workspace/rebound/rebound/simulation.py:374: RuntimeWarning: Binary file was saved with a different version of REBOUND. Binary format might have changed.\n",
      "  warnings.warn(message, RuntimeWarning)\n",
      "/Users/dtamayo/Documents/workspace/rebound/rebound/simulation.py:374: RuntimeWarning: You have to reset function pointers after creating a reb_simulation struct with a binary file.\n",
      "  warnings.warn(message, RuntimeWarning)\n"
     ]
    }
   ],
   "source": [
    "filename = \"binaries/trappist.bin\"\n",
    "colors = ['fuchsia', 'chartreuse', 'yellow', 'red', 'cyan', 'darkviolet', 'whitesmoke']\n",
    "pb = PlanetBeat(filename, bpm=30, outer_midi_note=48) # notes: http://subsynth.sourceforge.net/midinote2freq.html\n",
    "planets = [1,2,3,4,5,6,7]\n",
    "\n",
    "pb.integrate(1, duration=1, color=colors[::-1])\n",
    "    \n",
    "midiname = \"midi\"\n",
    "pb.write_midi(\"./tmp/\"+midiname+\".mid\")"
   ]
  },
  {
   "cell_type": "code",
   "execution_count": 4,
   "metadata": {
    "collapsed": false
   },
   "outputs": [
    {
     "name": "stdout",
     "output_type": "stream",
     "text": [
      "CPU times: user 21 ms, sys: 29.6 ms, total: 50.5 ms\n",
      "Wall time: 6.51 s\n"
     ]
    }
   ],
   "source": [
    "%%time\n",
    "import warnings\n",
    "warnings.filterwarnings(\"ignore\")\n",
    "\n",
    "call(\"rm -f tmp/pngs/*\", shell=True)\n",
    "pool = rebound.InterruptiblePool()\n",
    "res = pool.map(write_png, pb.fig_params)"
   ]
  },
  {
   "cell_type": "code",
   "execution_count": 5,
   "metadata": {
    "collapsed": false
   },
   "outputs": [
    {
     "data": {
      "text/plain": [
       "0"
      ]
     },
     "execution_count": 5,
     "metadata": {},
     "output_type": "execute_result"
    }
   ],
   "source": [
    "call(\"timidity -Ow ./tmp/{0}.mid -o ./tmp/{0}.wav --preserve-silence\".format(midiname), shell=True)\n",
    "call(\"ffmpeg -t {0} -i ./tmp/{1}.wav ./tmp/{1}cut.wav\".format(pb.time_elapsed, midiname), shell=True)\n",
    "moviename = \"colors.mp4\"\n",
    "fps = 30\n",
    "try:\n",
    "    call(\"rm -f {0}\".format(moviename), shell=True)\n",
    "except:\n",
    "    pass\n",
    "call(\"ffmpeg -r {0} -i tmp/pngs/%05d.png -i tmp/{1}cut.wav -c:v libx264 -pix_fmt yuv420p -c:a libvo_aacenc -b:a 192k -shortest {2}\".format(fps, midiname, moviename), shell=True)"
   ]
  },
  {
   "cell_type": "code",
   "execution_count": 6,
   "metadata": {
    "collapsed": false
   },
   "outputs": [
    {
     "data": {
      "text/plain": [
       "0"
      ]
     },
     "execution_count": 6,
     "metadata": {},
     "output_type": "execute_result"
    }
   ],
   "source": [
    "call(\"open \"+moviename, shell=True)"
   ]
  },
  {
   "cell_type": "code",
   "execution_count": 8,
   "metadata": {
    "collapsed": false
   },
   "outputs": [],
   "source": [
    "import matplotlib.colors as mplcolors\n",
    "\n",
    "def trycolor(color):\n",
    "    try:\n",
    "        hexcolor = mplcolors.cnames[color]\n",
    "    except KeyError:\n",
    "        raise AttributeError(\"Color passed to OrbitPlot not recognized in matplotlib.\")\n"
   ]
  },
  {
   "cell_type": "code",
   "execution_count": 22,
   "metadata": {
    "collapsed": false
   },
   "outputs": [],
   "source": [
    "trycolor('slategrey')"
   ]
  },
  {
   "cell_type": "code",
   "execution_count": null,
   "metadata": {
    "collapsed": true
   },
   "outputs": [],
   "source": []
  }
 ],
 "metadata": {
  "kernelspec": {
   "display_name": "Python 3",
   "language": "python",
   "name": "python3"
  },
  "language_info": {
   "codemirror_mode": {
    "name": "ipython",
    "version": 3
   },
   "file_extension": ".py",
   "mimetype": "text/x-python",
   "name": "python",
   "nbconvert_exporter": "python",
   "pygments_lexer": "ipython3",
   "version": "3.5.1"
  }
 },
 "nbformat": 4,
 "nbformat_minor": 2
}
