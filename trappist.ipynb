{
 "cells": [
  {
   "cell_type": "code",
   "execution_count": 2,
   "metadata": {
    "collapsed": true
   },
   "outputs": [],
   "source": [
    "from systemsounds import System"
   ]
  },
  {
   "cell_type": "code",
   "execution_count": 3,
   "metadata": {
    "collapsed": false
   },
   "outputs": [
    {
     "name": "stdout",
     "output_type": "stream",
     "text": [
      "0.0 [7]\n",
      "4.000158071149695 [6, 7]\n",
      "8.000316142299175 [5, 6, 7]\n",
      "12.000474213457244 [4, 5, 6, 7]\n",
      "16.00063228461531 [3, 4, 5, 6, 7]\n",
      "20.00079035577338 [2, 3, 4, 5, 6, 7]\n",
      "24.000948426931448 [1, 2, 3, 4, 5, 6, 7]\n",
      "28.001106498089516 [6, 7] 30\n",
      "32.00126456924758 [5, 6, 7] 41.6666666667\n",
      "36.00142264040565 [4, 5, 6, 7] 53.3333333333\n",
      "40.00158071156372 [3, 4, 5, 6, 7] 65.0\n",
      "44.00173878272179 [2, 3, 4, 5, 6, 7] 76.6666666667\n",
      "48.001896853879856 [1, 2, 3, 4, 5, 6, 7] 88.3333333333\n",
      "52.002054925037925 [1, 2, 3, 4, 5, 6, 7] 100.0\n",
      "56.00221299619599 [1, 2, 3, 4, 5, 6, 7] 100.0\n",
      "60.00237106735406 [1, 2, 3, 4, 5, 6, 7] 100.0\n",
      "64.00252913851213 [1, 2, 3, 4, 5, 6, 7] 100.0\n",
      "68.0026872096702 [1, 2, 3, 4, 5, 6, 7] 30\n",
      "80.0031614231444 [1, 2, 3, 4, 5, 6, 7] 30\n"
     ]
    }
   ],
   "source": [
    "%%time\n",
    "filename = \"binaries/trappist.bin\"\n",
    "#colors = [None, 'whitesmoke', 'darkviolet', 'cyan', 'red', 'yellow', 'chartreuse', 'fuchsia']\n",
    "#colors = [None, 'aqua','dodgerblue','blue','palevioletred','darkorange','olivedrab','darkolivegreen']\n",
    "#colors = [None, 'cyan','dodgerblue','darkblue','gold','khaki','darkorchid','darkolivegreen']\n",
    "colors = [None, 'cyan','dodgerblue','hotpink','crimson','chocolate','forestgreen','yellowgreen']\n",
    "\n",
    "trappist = System(filename, bpm=30, outer_midi_note=48) # notes: http://subsynth.sourceforge.net/midinote2freq.html\n",
    "trappist.conjunction_notes = [0, 33, 35, 20, 18, 14, 12]\n",
    "trappist.conjunction_velocities = [0, 43, 68, 100, 100, 124, 124]\n",
    "\n",
    "planets = list(range(trappist.sim.N))\n",
    "for i in range(1,trappist.sim.N):\n",
    "    ps = planets[-i:]\n",
    "    print(trappist.sim.t, ps)\n",
    "    trappist.integrate(tmax=trappist.sim.t+4, playtransits=ps, playconjunctions=False, showplanets=ps, showtransits=ps, showconjunctions=False, duration=1, color=colors,planetentrance=True)\n",
    "    \n",
    "conjunctionbars = 6\n",
    "barbpms = np.linspace(30,100,conjunctionbars+1)\n",
    "N = 10\n",
    "\n",
    "for j, i in enumerate(range(2,trappist.sim.N)):\n",
    "    ps = planets[-i:]\n",
    "    print(trappist.sim.t, ps, trappist.bpm)\n",
    "    times = np.linspace(trappist.sim.t,trappist.sim.t+4,N,endpoint=True)\n",
    "    bpms = np.linspace(trappist.bpm,barbpms[j+1],N,endpoint=True)\n",
    "    for time, bpm in zip(times, bpms):\n",
    "        trappist.change_tempo(bpm)\n",
    "        trappist.integrate(time, playtransits=True, playconjunctions=ps, showplanets=ps, showtransits=False, showconjunctions=ps, duration=1, color=colors)\n",
    "\n",
    "for i in range(4):\n",
    "    print(trappist.sim.t, ps, trappist.bpm)\n",
    "    trappist.integrate(tmax=trappist.sim.t+4, playtransits=True, playconjunctions=True, showplanets=True, showtransits=False, showconjunctions=True, duration=1, color=colors)\n",
    "\n",
    "trappist.change_tempo(30)    \n",
    "print(trappist.sim.t, ps, trappist.bpm)\n",
    "trappist.integrate(tmax=trappist.sim.t+12, playtransits=False, playconjunctions=False, showplanets=True, showtransits=False, showconjunctions=False, duration=1, color=colors)\n",
    "print(trappist.sim.t, ps, trappist.bpm)"
   ]
  },
  {
   "cell_type": "markdown",
   "metadata": {},
   "source": [
    "# MIDI File\n",
    "\n",
    "Will write midiname.mid to systemsounds directory (and overwrite any filename with that name!)"
   ]
  },
  {
   "cell_type": "code",
   "execution_count": 4,
   "metadata": {
    "collapsed": true
   },
   "outputs": [],
   "source": [
    "trappist.write_midi(midiname=\"midi\")"
   ]
  },
  {
   "cell_type": "markdown",
   "metadata": {},
   "source": [
    "# Write images to temporary folder for movie"
   ]
  },
  {
   "cell_type": "code",
   "execution_count": null,
   "metadata": {
    "collapsed": true
   },
   "outputs": [],
   "source": [
    "%%time\n",
    "trappist.write_images()"
   ]
  },
  {
   "cell_type": "markdown",
   "metadata": {},
   "source": [
    "# Movie with sound\n",
    "\n",
    "Will write moviename.mp4 to systemsounds directory (and overwrite any filename with that name!)"
   ]
  },
  {
   "cell_type": "code",
   "execution_count": null,
   "metadata": {
    "collapsed": true
   },
   "outputs": [],
   "source": [
    "trappist.write_movie(moviename=\"movie\", midiname=\"midi\")"
   ]
  },
  {
   "cell_type": "markdown",
   "metadata": {},
   "source": [
    "# Movie without sound"
   ]
  },
  {
   "cell_type": "code",
   "execution_count": null,
   "metadata": {
    "collapsed": true
   },
   "outputs": [],
   "source": [
    "trappist.write_movie(moviename=\"movie\")"
   ]
  },
  {
   "cell_type": "markdown",
   "metadata": {},
   "source": [
    "# Open movie\n"
   ]
  },
  {
   "cell_type": "code",
   "execution_count": null,
   "metadata": {
    "collapsed": true
   },
   "outputs": [],
   "source": [
    "from subprocess import call\n",
    "call(\"open movie.mp4\", shell=True)"
   ]
  }
 ],
 "metadata": {
  "kernelspec": {
   "display_name": "Python 3",
   "language": "python",
   "name": "python3"
  },
  "language_info": {
   "codemirror_mode": {
    "name": "ipython",
    "version": 3
   },
   "file_extension": ".py",
   "mimetype": "text/x-python",
   "name": "python",
   "nbconvert_exporter": "python",
   "pygments_lexer": "ipython3",
   "version": "3.5.1"
  }
 },
 "nbformat": 4,
 "nbformat_minor": 2
}
