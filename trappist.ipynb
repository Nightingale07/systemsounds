{
 "cells": [
  {
   "cell_type": "code",
   "execution_count": 1,
   "metadata": {
    "collapsed": true
   },
   "outputs": [],
   "source": [
    "from systemsounds import System\n",
    "import numpy as np"
   ]
  },
  {
   "cell_type": "code",
   "execution_count": 2,
   "metadata": {
    "collapsed": false
   },
   "outputs": [
    {
     "name": "stdout",
     "output_type": "stream",
     "text": [
      "0.0 [7]\n",
      "4.00132188478624 [6, 7]\n",
      "8.002643769572785 [5, 6, 7]\n",
      "12.003965654358527 [4, 5, 6, 7]\n",
      "16.00528753914427 [3, 4, 5, 6, 7]\n",
      "20.006609423930012 [2, 3, 4, 5, 6, 7]\n",
      "24.007931308715754 [1, 2, 3, 4, 5, 6, 7]\n",
      "28.009253193501497 [6, 7] 30\n",
      "32.010575078287246 [5, 6, 7] 41.6666666667\n",
      "36.011896963076204 [4, 5, 6, 7] 53.3333333333\n",
      "40.01321884786516 [3, 4, 5, 6, 7] 65.0\n",
      "44.01454073265412 [2, 3, 4, 5, 6, 7] 76.6666666667\n",
      "48.01586261744308 [1, 2, 3, 4, 5, 6, 7] 88.3333333333\n",
      "52.017184502232034 [1, 2, 3, 4, 5, 6, 7] 100.0\n",
      "56.01850638702099 [1, 2, 3, 4, 5, 6, 7] 100.0\n",
      "60.01982827180995 [1, 2, 3, 4, 5, 6, 7] 100.0\n",
      "64.02115015659888 [1, 2, 3, 4, 5, 6, 7] 100.0\n",
      "68.0224720413814 [1, 2, 3, 4, 5, 6, 7] 30\n",
      "80.02643769572899 [1, 2, 3, 4, 5, 6, 7] 30\n",
      "CPU times: user 7.5 s, sys: 45.3 ms, total: 7.55 s\n",
      "Wall time: 7.56 s\n"
     ]
    }
   ],
   "source": [
    "%%time\n",
    "filename = \"binaries/trappist.bin\"\n",
    "# The commented out colors are the colors in the video, but we invert the colors in the post-processing, so we use\n",
    "# the corresponding inverse colors instead\n",
    "#colors = ['None','red','darkorange','forestgreen','cyan','deepskyblue','violet','darkviolet']\n",
    "colors = [None, 'cyan','dodgerblue','hotpink','crimson','chocolate','forestgreen','yellowgreen']\n",
    "\n",
    "trappist = System(filename, bpm=30, outer_midi_note=48) # notes: http://subsynth.sourceforge.net/midinote2freq.html\n",
    "trappist.conjunction_notes = [0, 33, 35, 20, 18, 14, 12]\n",
    "trappist.conjunction_velocities = [0, 43, 68, 100, 100, 124, 124]\n",
    "\n",
    "planets = list(range(trappist.sim.N))\n",
    "for i in range(1,trappist.sim.N):\n",
    "    ps = planets[-i:]\n",
    "    print(trappist.sim.t, ps)\n",
    "    trappist.integrate(tmax=trappist.sim.t+4, playtransits=ps, playconjunctions=False, showplanets=ps, showtransits=ps, showconjunctions=False, duration=1, color=colors,planetentrance=True)\n",
    "    \n",
    "conjunctionbars = 6\n",
    "barbpms = np.linspace(30,100,conjunctionbars+1)\n",
    "N = 10\n",
    "\n",
    "for j, i in enumerate(range(2,trappist.sim.N)):\n",
    "    ps = planets[-i:]\n",
    "    print(trappist.sim.t, ps, trappist.bpm)\n",
    "    times = np.linspace(trappist.sim.t,trappist.sim.t+4,N,endpoint=True)\n",
    "    bpms = np.linspace(trappist.bpm,barbpms[j+1],N,endpoint=True)\n",
    "    for time, bpm in zip(times, bpms):\n",
    "        trappist.change_tempo(bpm)\n",
    "        trappist.integrate(time, playtransits=True, playconjunctions=ps, showplanets=ps, showtransits=False, showconjunctions=ps, duration=1, color=colors)\n",
    "\n",
    "for i in range(4):\n",
    "    print(trappist.sim.t, ps, trappist.bpm)\n",
    "    trappist.integrate(tmax=trappist.sim.t+4, playtransits=True, playconjunctions=True, showplanets=True, showtransits=False, showconjunctions=True, duration=1, color=colors)\n",
    "\n",
    "trappist.change_tempo(30)    \n",
    "print(trappist.sim.t, ps, trappist.bpm)\n",
    "trappist.integrate(tmax=trappist.sim.t+12, playtransits=False, playconjunctions=False, showplanets=True, showtransits=False, showconjunctions=False, duration=1, color=colors)\n",
    "print(trappist.sim.t, ps, trappist.bpm)"
   ]
  },
  {
   "cell_type": "markdown",
   "metadata": {},
   "source": [
    "# MIDI File\n",
    "\n",
    "Will write midiname.mid to systemsounds directory (and overwrite any filename with that name!)"
   ]
  },
  {
   "cell_type": "code",
   "execution_count": 3,
   "metadata": {
    "collapsed": true
   },
   "outputs": [],
   "source": [
    "midiname = \"trappistmidi\"\n",
    "trappist.write_midi(midiname)"
   ]
  },
  {
   "cell_type": "markdown",
   "metadata": {},
   "source": [
    "# Write images to temporary folder for movie"
   ]
  },
  {
   "cell_type": "code",
   "execution_count": 4,
   "metadata": {
    "collapsed": false
   },
   "outputs": [
    {
     "name": "stdout",
     "output_type": "stream",
     "text": [
      "CPU times: user 1.51 s, sys: 357 ms, total: 1.87 s\n",
      "Wall time: 19min 31s\n"
     ]
    }
   ],
   "source": [
    "%%time\n",
    "trappist.write_images()"
   ]
  },
  {
   "cell_type": "markdown",
   "metadata": {},
   "source": [
    "# Movie with sound\n",
    "\n",
    "Will write moviename.mp4 to systemsounds directory (and overwrite any filename with that name!)"
   ]
  },
  {
   "cell_type": "code",
   "execution_count": 5,
   "metadata": {
    "collapsed": true
   },
   "outputs": [],
   "source": [
    "trappist.write_movie(moviename=\"trappist\", midiname=midiname)"
   ]
  },
  {
   "cell_type": "markdown",
   "metadata": {},
   "source": [
    "# Movie without sound"
   ]
  },
  {
   "cell_type": "code",
   "execution_count": null,
   "metadata": {
    "collapsed": true
   },
   "outputs": [],
   "source": [
    "trappist.write_movie(moviename=\"trappistnosound\")"
   ]
  },
  {
   "cell_type": "markdown",
   "metadata": {},
   "source": [
    "# Open movie\n"
   ]
  },
  {
   "cell_type": "code",
   "execution_count": 6,
   "metadata": {
    "collapsed": false
   },
   "outputs": [
    {
     "data": {
      "text/plain": [
       "0"
      ]
     },
     "execution_count": 6,
     "metadata": {},
     "output_type": "execute_result"
    }
   ],
   "source": [
    "from subprocess import call\n",
    "call(\"open trappist.mp4\", shell=True)"
   ]
  }
 ],
 "metadata": {
  "kernelspec": {
   "display_name": "Python 3",
   "language": "python",
   "name": "python3"
  },
  "language_info": {
   "codemirror_mode": {
    "name": "ipython",
    "version": 3
   },
   "file_extension": ".py",
   "mimetype": "text/x-python",
   "name": "python",
   "nbconvert_exporter": "python",
   "pygments_lexer": "ipython3",
   "version": "3.5.1"
  }
 },
 "nbformat": 4,
 "nbformat_minor": 2
}
