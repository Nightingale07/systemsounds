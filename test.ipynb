{
 "cells": [
  {
   "cell_type": "code",
   "execution_count": 1,
   "metadata": {
    "collapsed": true
   },
   "outputs": [],
   "source": [
    "from systemsounds import System"
   ]
  },
  {
   "cell_type": "code",
   "execution_count": 2,
   "metadata": {
    "collapsed": false
   },
   "outputs": [
    {
     "name": "stdout",
     "output_type": "stream",
     "text": [
      "0.0 [1, 2, 3, 4, 5, 6, 7]\n"
     ]
    }
   ],
   "source": [
    "filename = \"binaries/trappist.bin\"\n",
    "colors = [None, 'cyan','dodgerblue','hotpink','crimson','chocolate','forestgreen','yellowgreen']\n",
    "\n",
    "trappist = System(filename, bpm=30, outer_midi_note=48) # notes: http://subsynth.sourceforge.net/midinote2freq.html\n",
    "trappist.conjunction_notes = [0, 33, 35, 20, 18, 14, 12]\n",
    "trappist.conjunction_velocities = [0, 43, 68, 100, 100, 124, 124]\n",
    "\n",
    "planets = list(range(trappist.sim.N))\n",
    "for i in range(7,8):\n",
    "    ps = planets[-i:]\n",
    "    print(trappist.sim.t, ps)\n",
    "    trappist.integrate(tmax=trappist.sim.t+1, playtransits=ps, playconjunctions=False, showplanets=ps, showtransits=ps, showconjunctions=False, duration=1, color=colors,planetentrance=True)"
   ]
  },
  {
   "cell_type": "markdown",
   "metadata": {},
   "source": [
    "# MIDI File\n",
    "\n",
    "Will write midiname.mid to systemsounds directory (and overwrite any filename with that name!)"
   ]
  },
  {
   "cell_type": "code",
   "execution_count": 6,
   "metadata": {
    "collapsed": true
   },
   "outputs": [],
   "source": [
    "trappist.write_midi(midiname=\"midi\")"
   ]
  },
  {
   "cell_type": "markdown",
   "metadata": {},
   "source": [
    "# Write images to temporary folder for movie"
   ]
  },
  {
   "cell_type": "code",
   "execution_count": 7,
   "metadata": {
    "collapsed": false
   },
   "outputs": [
    {
     "name": "stdout",
     "output_type": "stream",
     "text": [
      "CPU times: user 32 ms, sys: 30.1 ms, total: 62 ms\n",
      "Wall time: 19.3 s\n"
     ]
    }
   ],
   "source": [
    "%%time\n",
    "trappist.write_images()"
   ]
  },
  {
   "cell_type": "markdown",
   "metadata": {},
   "source": [
    "# Movie with sound\n",
    "\n",
    "Will write moviename.mp4 to systemsounds directory (and overwrite any filename with that name!)"
   ]
  },
  {
   "cell_type": "code",
   "execution_count": 8,
   "metadata": {
    "collapsed": true
   },
   "outputs": [],
   "source": [
    "trappist.write_movie(moviename=\"movie\", midiname=\"midi\")"
   ]
  },
  {
   "cell_type": "markdown",
   "metadata": {},
   "source": [
    "# Movie without sound"
   ]
  },
  {
   "cell_type": "code",
   "execution_count": 9,
   "metadata": {
    "collapsed": true
   },
   "outputs": [],
   "source": [
    "trappist.write_movie(moviename=\"movie\")"
   ]
  },
  {
   "cell_type": "markdown",
   "metadata": {},
   "source": [
    "# Open movie"
   ]
  },
  {
   "cell_type": "code",
   "execution_count": 10,
   "metadata": {
    "collapsed": false
   },
   "outputs": [
    {
     "data": {
      "text/plain": [
       "0"
      ]
     },
     "execution_count": 10,
     "metadata": {},
     "output_type": "execute_result"
    }
   ],
   "source": [
    "from subprocess import call\n",
    "call(\"open movie.mp4\", shell=True)"
   ]
  }
 ],
 "metadata": {
  "kernelspec": {
   "display_name": "Python 3",
   "language": "python",
   "name": "python3"
  },
  "language_info": {
   "codemirror_mode": {
    "name": "ipython",
    "version": 3
   },
   "file_extension": ".py",
   "mimetype": "text/x-python",
   "name": "python",
   "nbconvert_exporter": "python",
   "pygments_lexer": "ipython3",
   "version": "3.5.1"
  }
 },
 "nbformat": 4,
 "nbformat_minor": 2
}
