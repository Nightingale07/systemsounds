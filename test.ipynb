{
 "cells": [
  {
   "cell_type": "code",
   "execution_count": 1,
   "metadata": {
    "collapsed": false
   },
   "outputs": [],
   "source": [
    "from systemsounds import System"
   ]
  },
  {
   "cell_type": "code",
   "execution_count": 2,
   "metadata": {
    "collapsed": false
   },
   "outputs": [
    {
     "name": "stdout",
     "output_type": "stream",
     "text": [
      "0.0 [1, 2, 3, 4, 5, 6, 7]\n",
      "Transit: 0.0264278152685746\t1\n",
      "Transit: 0.02796290695338939\t7\n",
      "Figure: 0\t0.03309334495263882\t71.05320840439892\t(2, 3, 4, 5, 6, 7)\n",
      "Figure: 1\t0.049640017428958225\t71.05320840439892\t(2, 3, 4, 5, 6, 7)\n",
      "Transit: 0.054560390250285626\t2\n",
      "Figure: 2\t0.06618668990527764\t71.05320840439892\t(2, 3, 4, 5, 6, 7)\n",
      "Figure: 3\t0.08273336238159705\t71.05320840439892\t(2, 3, 4, 5, 6, 7)\n",
      "Figure: 4\t0.09928003485791646\t71.05320840439892\t(2, 3, 4, 5, 6, 7)\n",
      "Transit: 0.10917733651001181\t1\n",
      "Figure: 5\t0.11582670733423588\t71.05320840439892\t(2, 3, 4, 5, 6, 7)\n",
      "Figure: 6\t0.13237337981055528\t71.05320840439892\t(2, 3, 4, 5, 6, 7)\n",
      "Transit: 0.13920049809302107\t6\n",
      "Figure: 7\t0.1489200522868747\t71.05320840439892\t(2, 3, 4, 5, 6, 7)\n",
      "Figure: 8\t0.1654667247631941\t71.05320840439892\t(2, 3, 4, 5, 6, 7)\n",
      "Figure: 9\t0.1820133972395135\t71.05320840439892\t(2, 3, 4, 5, 6, 7)\n",
      "Transit: 0.1918945400317687\t1\n",
      "Transit: 0.18703072321988184\t2\n",
      "Figure: 10\t0.19856006971583293\t71.05320840439892\t(2, 3, 4, 5, 6, 7)\n",
      "Transit: 0.21330502931997503\t3\n",
      "Figure: 11\t0.21510674219215234\t71.05320840439892\t(2, 3, 4, 5, 6, 7)\n",
      "Figure: 12\t0.23165341466847175\t71.05320840439892\t(2, 3, 4, 5, 6, 7)\n",
      "Figure: 13\t0.24820008714479116\t71.05320840439892\t(2, 3, 4, 5, 6, 7)\n",
      "Figure: 14\t0.26474675962111055\t71.05320840439892\t(2, 3, 4, 5, 6, 7)\n",
      "Transit: 0.27462790241336577\t1\n",
      "Figure: 15\t0.28129343209742996\t71.05320840439892\t(2, 3, 4, 5, 6, 7)\n",
      "Figure: 16\t0.2978401045737494\t71.05320840439892\t(2, 3, 4, 5, 6, 7)\n",
      "Figure: 17\t0.3143867770500688\t71.05320840439892\t(2, 3, 4, 5, 6, 7)\n",
      "Transit: 0.31946873846979773\t2\n",
      "Figure: 18\t0.3309334495263882\t71.05320840439892\t(2, 3, 4, 5, 6, 7)\n",
      "Transit: 0.33184642510735696\t4\n",
      "Figure: 19\t0.3474801220027076\t71.05320840439892\t(2, 3, 4, 5, 6, 7)\n",
      "Transit: 0.3573612647949629\t1\n",
      "Figure: 20\t0.364026794479027\t71.05320840439892\t(2, 3, 4, 5, 6, 7)\n",
      "Figure: 21\t0.38057346695534644\t71.05320840439892\t(2, 3, 4, 5, 6, 7)\n",
      "Figure: 22\t0.39712013943166585\t71.05320840439892\t(2, 3, 4, 5, 6, 7)\n",
      "Figure: 23\t0.41366681190798527\t71.05320840439892\t(2, 3, 4, 5, 6, 7)\n",
      "Transit: 0.4300599752158232\t5\n",
      "Figure: 24\t0.4302134843843047\t71.05320840439892\t(2, 3, 4, 5, 6, 7)\n",
      "Transit: 0.4401107860364001\t1\n",
      "Transit: 0.43419664333490293\t3\n",
      "Figure: 25\t0.4467601568606241\t71.05320840439892\t(2, 3, 4, 5, 6, 7)\n",
      "Transit: 0.4518905948598736\t2\n",
      "Figure: 26\t0.4633068293369435\t71.05320840439892\t(2, 3, 4, 5, 6, 7)\n",
      "Figure: 27\t0.4798535018132629\t71.05320840439892\t(2, 3, 4, 5, 6, 7)\n",
      "Figure: 28\t0.49640017428958233\t71.05320840439892\t(2, 3, 4, 5, 6, 7)\n",
      "Figure: 29\t0.5129468467659017\t71.05320840439892\t(2, 3, 4, 5, 6, 7)\n",
      "Transit: 0.5228279895581569\t1\n",
      "Figure: 30\t0.5294935192422211\t71.05320840439892\t(2, 3, 4, 5, 6, 7)\n",
      "Figure: 31\t0.5460401917185405\t71.05320840439892\t(2, 3, 4, 5, 6, 7)\n",
      "Figure: 32\t0.5625868641948598\t71.05320840439892\t(2, 3, 4, 5, 6, 7)\n",
      "Figure: 33\t0.5791335366711792\t71.05320840439892\t(2, 3, 4, 5, 6, 7)\n",
      "Transit: 0.5843286101097892\t2\n",
      "Figure: 34\t0.5956802091474985\t71.05320840439892\t(2, 3, 4, 5, 6, 7)\n",
      "Transit: 0.6055613519397537\t1\n",
      "Figure: 35\t0.6122268816238179\t71.05320840439892\t(2, 3, 4, 5, 6, 7)\n",
      "Figure: 36\t0.6287735541001372\t71.05320840439892\t(2, 3, 4, 5, 6, 7)\n",
      "Figure: 37\t0.6453202265764566\t71.05320840439892\t(2, 3, 4, 5, 6, 7)\n",
      "Transit: 0.65502362191047\t3\n",
      "Figure: 38\t0.661866899052776\t71.05320840439892\t(2, 3, 4, 5, 6, 7)\n",
      "Transit: 0.6634585467470312\t4\n",
      "Figure: 39\t0.6784135715290953\t71.05320840439892\t(2, 3, 4, 5, 6, 7)\n",
      "Transit: 0.6883270320410307\t1\n",
      "Figure: 40\t0.6949602440054147\t71.05320840439892\t(2, 3, 4, 5, 6, 7)\n",
      "Figure: 41\t0.711506916481734\t71.05320840439892\t(2, 3, 4, 5, 6, 7)\n",
      "Transit: 0.7167181487801842\t2\n",
      "Figure: 42\t0.7280535889580534\t71.05320840439892\t(2, 3, 4, 5, 6, 7)\n",
      "Figure: 43\t0.7446002614343727\t71.05320840439892\t(2, 3, 4, 5, 6, 7)\n",
      "Figure: 44\t0.7611469339106921\t71.05320840439892\t(2, 3, 4, 5, 6, 7)\n",
      "Transit: 0.7710603944226275\t1\n",
      "Figure: 45\t0.7776936063870115\t71.05320840439892\t(2, 3, 4, 5, 6, 7)\n",
      "Figure: 46\t0.7942402788633308\t71.05320840439892\t(2, 3, 4, 5, 6, 7)\n",
      "Transit: 0.8041052627957458\t6\n",
      "Figure: 47\t0.8107869513396502\t71.05320840439892\t(2, 3, 4, 5, 6, 7)\n",
      "Figure: 48\t0.8273336238159695\t71.05320840439892\t(2, 3, 4, 5, 6, 7)\n",
      "Figure: 49\t0.8438802962922889\t71.05320840439892\t(2, 3, 4, 5, 6, 7)\n",
      "Transit: 0.8537937568042243\t1\n",
      "Transit: 0.8491723228899398\t2\n",
      "Figure: 50\t0.8604269687686082\t71.05320840439892\t(2, 3, 4, 5, 6, 7)\n",
      "Transit: 0.8758344416261966\t3\n",
      "Figure: 51\t0.8769736412449276\t71.05320840439892\t(2, 3, 4, 5, 6, 7)\n",
      "Figure: 52\t0.893520313721247\t71.05320840439892\t(2, 3, 4, 5, 6, 7)\n",
      "Figure: 53\t0.9100669861975663\t71.05320840439892\t(2, 3, 4, 5, 6, 7)\n",
      "Figure: 54\t0.9266136586738857\t71.05320840439892\t(2, 3, 4, 5, 6, 7)\n",
      "Transit: 0.936510960325981\t1\n",
      "Transit: 0.9280275589098993\t5\n",
      "Figure: 55\t0.943160331150205\t71.05320840439892\t(2, 3, 4, 5, 6, 7)\n",
      "Figure: 56\t0.9597070036265244\t71.05320840439892\t(2, 3, 4, 5, 6, 7)\n",
      "Figure: 57\t0.9762536761028437\t71.05320840439892\t(2, 3, 4, 5, 6, 7)\n",
      "Transit: 0.9816264969996955\t2\n",
      "Figure: 58\t0.9928003485791631\t71.05320840439892\t(2, 3, 4, 5, 6, 7)\n",
      "Transit: 0.9950545095268648\t4\n",
      "Figure: 59\t1.0093470210554825\t71.05320840439892\t(2, 3, 4, 5, 6, 7)\n"
     ]
    }
   ],
   "source": [
    "filename = \"binaries/trappist.bin\"\n",
    "colors = [None, 'cyan','dodgerblue','hotpink','crimson','chocolate','forestgreen','yellowgreen']\n",
    "\n",
    "trappist = System(filename, bpm=30, outer_midi_note=48) # notes: http://subsynth.sourceforge.net/midinote2freq.html\n",
    "trappist.conjunction_notes = [0, 33, 35, 20, 18, 14, 12]\n",
    "trappist.conjunction_velocities = [0, 43, 68, 100, 100, 124, 124]\n",
    "\n",
    "planets = list(range(trappist.sim.N))\n",
    "for i in range(7,8):\n",
    "    ps = planets[-i:]\n",
    "    print(trappist.sim.t, ps)\n",
    "    trappist.integrate(tmax=trappist.sim.t+1, playtransits=ps, playconjunctions=False, showplanets=ps, showtransits=ps, showconjunctions=False, duration=1, color=colors,planetentrance=True)"
   ]
  },
  {
   "cell_type": "markdown",
   "metadata": {},
   "source": [
    "# MIDI File\n",
    "\n",
    "Will write midiname.mid to systemsounds directory (and overwrite any filename with that name!)"
   ]
  },
  {
   "cell_type": "code",
   "execution_count": 6,
   "metadata": {
    "collapsed": true
   },
   "outputs": [],
   "source": [
    "trappist.write_midi(midiname=\"midi\")"
   ]
  },
  {
   "cell_type": "markdown",
   "metadata": {},
   "source": [
    "# Write images to temporary folder for movie"
   ]
  },
  {
   "cell_type": "code",
   "execution_count": 7,
   "metadata": {
    "collapsed": false
   },
   "outputs": [
    {
     "name": "stdout",
     "output_type": "stream",
     "text": [
      "CPU times: user 32 ms, sys: 30.1 ms, total: 62 ms\n",
      "Wall time: 19.3 s\n"
     ]
    }
   ],
   "source": [
    "%%time\n",
    "trappist.write_images()"
   ]
  },
  {
   "cell_type": "markdown",
   "metadata": {},
   "source": [
    "# Movie with sound\n",
    "\n",
    "Will write moviename.mp4 to systemsounds directory (and overwrite any filename with that name!)"
   ]
  },
  {
   "cell_type": "code",
   "execution_count": 8,
   "metadata": {
    "collapsed": true
   },
   "outputs": [],
   "source": [
    "trappist.write_movie(moviename=\"movie\", midiname=\"midi\")"
   ]
  },
  {
   "cell_type": "markdown",
   "metadata": {},
   "source": [
    "# Movie without sound"
   ]
  },
  {
   "cell_type": "code",
   "execution_count": 9,
   "metadata": {
    "collapsed": true
   },
   "outputs": [],
   "source": [
    "trappist.write_movie(moviename=\"movie\")"
   ]
  },
  {
   "cell_type": "markdown",
   "metadata": {},
   "source": [
    "# Open movie"
   ]
  },
  {
   "cell_type": "code",
   "execution_count": 10,
   "metadata": {
    "collapsed": false
   },
   "outputs": [
    {
     "data": {
      "text/plain": [
       "0"
      ]
     },
     "execution_count": 10,
     "metadata": {},
     "output_type": "execute_result"
    }
   ],
   "source": [
    "from subprocess import call\n",
    "call(\"open movie.mp4\", shell=True)"
   ]
  }
 ],
 "metadata": {
  "kernelspec": {
   "display_name": "Python 3",
   "language": "python",
   "name": "python3"
  },
  "language_info": {
   "codemirror_mode": {
    "name": "ipython",
    "version": 3
   },
   "file_extension": ".py",
   "mimetype": "text/x-python",
   "name": "python",
   "nbconvert_exporter": "python",
   "pygments_lexer": "ipython3",
   "version": "3.5.1"
  }
 },
 "nbformat": 4,
 "nbformat_minor": 2
}
