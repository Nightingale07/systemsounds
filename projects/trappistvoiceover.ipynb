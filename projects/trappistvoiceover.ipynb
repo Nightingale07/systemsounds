{
 "cells": [
  {
   "cell_type": "markdown",
   "metadata": {},
   "source": [
    "# Need to execute these cells, start editing at bottom at 'start modifying here'"
   ]
  },
  {
   "cell_type": "code",
   "execution_count": 1,
   "metadata": {
    "collapsed": true
   },
   "outputs": [],
   "source": [
    "import sys\n",
    "sys.path.append('../')\n",
    "import systemsounds as ss\n",
    "import numpy as np\n",
    "import rebound\n",
    "filename = \"../binaries/trappist.bin\"\n",
    "sim = rebound.Simulation.from_file(filename)\n",
    "sim.t = 0\n",
    "ss.rescale_time(sim, sim.particles[-1].P)"
   ]
  },
  {
   "cell_type": "code",
   "execution_count": 2,
   "metadata": {
    "collapsed": true
   },
   "outputs": [],
   "source": [
    "def OrbitPlotOneSlice(sim, ax, lim=None, limz=None, Narc=100, color=False, periastron=False, trails=False, show_orbit=True, lw=1., axes=\"xy\", plotparticles=[]):\n",
    "    import matplotlib.pyplot as plt \n",
    "    from matplotlib.collections import LineCollection\n",
    "    from matplotlib.colors import LinearSegmentedColormap\n",
    "    import numpy as np\n",
    "    if not plotparticles: # default. No plotparticles list passed, so plot all obits\n",
    "        orbits = sim.calculate_orbits()\n",
    "    else: \n",
    "        orbits = []\n",
    "        for p in plotparticles:\n",
    "            try:\n",
    "                orbits.append(sim.particles[p].orbit)\n",
    "            except ParticleNotFound:\n",
    "                raise AttributeError(\"Particle in plotparticles list passed to OrbitPlot not found in the simulation.\")\n",
    "\n",
    "    particles = sim.particles\n",
    "    if lim is None:\n",
    "        lim = 0.\n",
    "        for o in orbits:\n",
    "            if o.a>0.:\n",
    "                r = (1.+o.e)*o.a\n",
    "            else:\n",
    "                r = o.d \n",
    "            if r>lim:\n",
    "                lim = r \n",
    "        lim *= 1.15\n",
    "    if limz is None:\n",
    "        z = [p.z for p in particles]\n",
    "        limz = 2.0*max(z)\n",
    "        if limz > lim:\n",
    "            limz = lim \n",
    "        if limz <= 0.: \n",
    "            limz = lim \n",
    "\n",
    "\n",
    "    if axes[0]==\"z\":\n",
    "        ax.set_xlim([-limz,limz])\n",
    "    else:\n",
    "        ax.set_xlim([-lim,lim])\n",
    "    if axes[1]==\"z\":\n",
    "        ax.set_ylim([-limz,limz])\n",
    "    else:\n",
    "        ax.set_ylim([-lim,lim])\n",
    "\n",
    "    if color:\n",
    "        if color == True:\n",
    "            colors = [(1.,0.,0.),(0.,0.75,0.75),(0.75,0.,0.75),(0.75, 0.75, 0,),(0., 0., 0.),(0., 0., 1.),(0., 0.5, 0.)]\n",
    "        if isinstance(color, str):\n",
    "            colors = [getcolor(color)]\n",
    "        if isinstance(color, list):\n",
    "            colors = []\n",
    "            for c in color:\n",
    "                colors.append(getcolor(c))\n",
    "    else:\n",
    "        colors = [(0.,0.,0.)]\n",
    "\n",
    "    coloriterator = cycle(colors)\n",
    "\n",
    "    ax.scatter(getattr(particles[0],axes[0]),getattr(particles[0],axes[1]), marker=\"*\", s=35*lw, facecolor=\"black\", edgecolor=None, zorder=3)\n",
    "    for i, o in enumerate(orbits):\n",
    "        colori = next(coloriterator)\n",
    "        primary = sim.calculate_com(last=i)\n",
    "        pp = Particle(a=o.a, f=o.f, inc=o.inc, omega=o.omega, Omega=o.Omega, e=o.e, m=particles[i+1].m, primary=primary, simulation=sim)\n",
    "        ax.scatter(getattr(pp,axes[0]), getattr(pp,axes[1]), s=25*lw, facecolor=\"black\", edgecolor=None, zorder=3)\n",
    "        if o.a>0.: # bound orbit\n",
    "            segments = np.zeros((Narc,2,2))\n",
    "            if show_orbit:\n",
    "                phase = np.linspace(0,2.*np.pi,Narc)\n",
    "                for j,ph in enumerate(phase):\n",
    "                    newp = Particle(a=o.a, f=o.f+ph, inc=o.inc, omega=o.omega, Omega=o.Omega, e=o.e, m=particles[i+1].m, primary=primary, simulation=sim)\n",
    "                    xy = [getattr(newp,axes[0]), getattr(newp,axes[1])]\n",
    "                    segments[j][1]=xy\n",
    "                    segments[(j+1)%Narc][0]=xy\n",
    "            cdict = {'red': ((0.,colori[0],colori[0]),(1.,colori[0],colori[0])),\n",
    "                     'green': ((0.,colori[1],colori[1]),(1.,colori[1],colori[1])),\n",
    "                     'blue': ((0.,colori[2],colori[2]),(1.,colori[2],colori[2]))}\n",
    "            if trails:\n",
    "                cdict['alpha'] = ((0.,0.,0.),(1.,1.,1.))\n",
    "            individual_cm = LinearSegmentedColormap('indv1', cdict)\n",
    "            lc = LineCollection(segments, cmap=individual_cm, linewidth=lw)\n",
    "            if show_orbit:\n",
    "                lc.set_array(phase)\n",
    "            ax.add_collection(lc)\n",
    "        else:     # unbound orbit.  Step in M rather than f, since for hyperbolic orbits f stays near lim, and jumps to -f at peri\n",
    "            t_cross = 4.*o.d/o.v # rough time to cross display box\n",
    "\n",
    "            lim_phase = abs(o.n)*t_cross # M = nt, n is negative\n",
    "            segments = np.zeros((Narc,2,2))\n",
    "            if show_orbit:\n",
    "                phase = np.linspace(-lim_phase+o.M,o.M,Narc)\n",
    "                for j,ph in enumerate(phase):\n",
    "                    newp = Particle(a=o.a, M=ph, inc=o.inc, omega=o.omega, Omega=o.Omega, e=o.e, m=particles[i+1].m, primary=primary, simulation=sim)\n",
    "                    xy = [getattr(newp,axes[0]), getattr(newp,axes[1])]\n",
    "                    segments[j][1]=xy\n",
    "                    if j+1<Narc:\n",
    "                       segments[j+1][0]=xy\n",
    "                    if j==0:\n",
    "                       segments[j][0]=xy\n",
    "            cdict = {'red': ((0.,colori[0],colori[0]),(1.,colori[0],colori[0])),\n",
    "                     'green': ((0.,colori[1],colori[1]),(1.,colori[1],colori[1])),\n",
    "                     'blue': ((0.,colori[2],colori[2]),(1.,colori[2],colori[2]))}\n",
    "            if trails:\n",
    "                cdict['alpha'] = ((0.,0.,0.),(1.,1.,1.))\n",
    "            individual_cm = LinearSegmentedColormap('indv1', cdict)\n",
    "            lc = LineCollection(segments, cmap=individual_cm, linewidth=lw)\n",
    "            if show_orbit:\n",
    "                lc.set_array(phase)\n",
    "            ax.add_collection(lc)\n",
    "            \n",
    "            segments = np.zeros((Narc,2,2))\n",
    "            if show_orbit:\n",
    "                phase = np.linspace(o.M,o.M+lim_phase,Narc)\n",
    "                for j,ph in enumerate(phase):\n",
    "                    newp = Particle(a=o.a, M=ph, inc=o.inc, omega=o.omega, Omega=o.Omega, e=o.e, m=particles[i+1].m, primary=primary, simulation=sim)\n",
    "                    xy = [getattr(newp,axes[0]), getattr(newp,axes[1])]\n",
    "                    segments[j][1]=xy\n",
    "                    if j+1<Narc:\n",
    "                       segments[j+1][0]=xy\n",
    "                    if j==0:\n",
    "                       segments[j][0]=xy\n",
    "            cdict = {'red': ((0.,colori[0],colori[0]),(1.,colori[0],colori[0])),\n",
    "                     'green': ((0.,colori[1],colori[1]),(1.,colori[1],colori[1])),\n",
    "                     'blue': ((0.,colori[2],colori[2]),(1.,colori[2],colori[2]))}\n",
    "            if trails:\n",
    "                cdict['alpha'] = ((0.,0.2,0.2),(1.,0.2,0.2))\n",
    "            individual_cm = LinearSegmentedColormap('indv1', cdict)\n",
    "            lc = LineCollection(segments, cmap=individual_cm, linewidth=lw)\n",
    "            if show_orbit:\n",
    "                lc.set_array(phase)\n",
    "            ax.add_collection(lc)\n",
    "\n",
    "\n",
    "        if periastron:\n",
    "            newp = Particle(a=o.a, f=0., inc=o.inc, omega=o.omega, Omega=o.Omega, e=o.e, m=particles[i+1].m, primary=primary, simulation=sim)\n",
    "            ax.plot([getattr(primary,axes[0]), getattr(newp,axes[0])], [getattr(primary,axes[1]), getattr(newp,axes[1])], linestyle=\"dotted\", c=colori, zorder=1, lw=lw)\n",
    "            ax.scatter([getattr(newp,axes[0])],[getattr(newp,axes[1])], marker=\"o\", s=5.*lw, facecolor=\"none\", edgecolor=colori, zorder=1)\n"
   ]
  },
  {
   "cell_type": "code",
   "execution_count": 3,
   "metadata": {
    "collapsed": false
   },
   "outputs": [
    {
     "data": {
      "image/png": "[encoded data removed]",
      "text/plain": [
       "<matplotlib.figure.Figure at 0x10b8fa4e0>"
      ]
     },
     "metadata": {},
     "output_type": "display_data"
    }
   ],
   "source": [
    "import matplotlib.pyplot as plt\n",
    "%matplotlib inline\n",
    "from itertools import cycle\n",
    "from rebound import Particle\n",
    "fig, ax = plt.subplots()\n",
    "OrbitPlotOneSlice(sim, ax)\n",
    "ax.set_aspect('equal')"
   ]
  },
  {
   "cell_type": "code",
   "execution_count": 4,
   "metadata": {
    "collapsed": true
   },
   "outputs": [],
   "source": [
    "from matplotlib.collections import LineCollection\n",
    "from matplotlib.colors import LinearSegmentedColormap    "
   ]
  },
  {
   "cell_type": "code",
   "execution_count": 27,
   "metadata": {
    "collapsed": true
   },
   "outputs": [],
   "source": [
    "def get_orbit(particle, Npts=100):\n",
    "    p = particle\n",
    "    o = np.zeros((Npts, 3))\n",
    "    if p.a>0.: # bound orbit\n",
    "        phase = np.linspace(0,2.*np.pi,Npts)\n",
    "        for i,ph in enumerate(phase):\n",
    "            newp = Particle(a=p.a, f=p.f+ph, inc=p.inc, omega=p.omega, Omega=p.Omega, e=p.e, m=p.m, simulation=p._sim.contents)\n",
    "            o[i][0] = newp.x\n",
    "            o[i][1] = newp.y\n",
    "            o[i][2] = newp.z\n",
    "    else:     # unbound orbit.  Step in M rather than f, since for hyperbolic orbits f stays near lim, and jumps to -f at peri\n",
    "        t_cross = 4.*p.d/p.v # rough time to cross display box\n",
    "        lim_phase = abs(p.n)*t_cross # M = nt, n is negative\n",
    "        \n",
    "        # do half the points before current position\n",
    "        firsthalf = Npts // 2\n",
    "        phase = np.linspace(p.M-lim_phase,p.M,firsthalf,endpoint=False)\n",
    "        for i,ph in enumerate(phase):\n",
    "            newp = Particle(a=p.a, M=ph, inc=p.inc, omega=p.omega, Omega=p.Omega, e=p.e, m=p.m, simulation=p._sim.contents)\n",
    "            o[i][0] = newp.x\n",
    "            o[i][1] = newp.y\n",
    "            o[i][2] = newp.z\n",
    "        \n",
    "        # do half the points after the current position\n",
    "        lasthalf = Npts - firsthalf\n",
    "        phase = np.linspace(p.M,p.M+lim_phase,lasthalf)\n",
    "        for i,ph in enumerate(phase):\n",
    "            newp = Particle(a=p.a, M=ph, inc=p.inc, omega=p.omega, Omega=p.Omega, e=p.e, m=p.m, simulation=p._sim.contents)\n",
    "            o[firsthalf+i][0] = newp.x\n",
    "            o[firsthalf+i][1] = newp.y\n",
    "            o[firsthalf+i][2] = newp.z\n",
    "    return o"
   ]
  },
  {
   "cell_type": "code",
   "execution_count": 28,
   "metadata": {
    "collapsed": false
   },
   "outputs": [
    {
     "data": {
      "text/plain": [
       "[<matplotlib.lines.Line2D at 0x10bf63198>]"
      ]
     },
     "execution_count": 28,
     "metadata": {},
     "output_type": "execute_result"
    },
    {
     "data": {
      "image/png": "[encoded data removed]",
      "text/plain": [
       "<matplotlib.figure.Figure at 0x10bf632b0>"
      ]
     },
     "metadata": {},
     "output_type": "display_data"
    }
   ],
   "source": [
    "%matplotlib inline\n",
    "fig, ax = plt.subplots()\n",
    "sim = rebound.Simulation()\n",
    "sim.add(m=1.)\n",
    "sim.add(a=1.,e=0.1)\n",
    "o = get_orbit(sim.particles[1])\n",
    "ax.plot(o[:,0], o[:,1])"
   ]
  },
  {
   "cell_type": "code",
   "execution_count": 29,
   "metadata": {
    "collapsed": true
   },
   "outputs": [],
   "source": [
    "import matplotlib.colors as mplcolors\n",
    "    \n",
    "def getcolor(color):\n",
    "    try:\n",
    "        hexcolor = mplcolors.cnames[color]\n",
    "    except KeyError:\n",
    "        raise AttributeError(\"Color passed to OrbitPlot not recognized in matplotlib.\")\n",
    "\n",
    "    hexcolor = hexcolor.lstrip('#')\n",
    "    lv = len(hexcolor)\n",
    "    return tuple(int(hexcolor[i:i + lv // 3], 16)/255. for i in range(0, lv, lv // 3)) # tuple of rgb values"
   ]
  },
  {
   "cell_type": "code",
   "execution_count": 54,
   "metadata": {
    "collapsed": false
   },
   "outputs": [],
   "source": [
    "def get_orbit_trail(orbitcoordinates, color='black', hyperbolic=False, lw=1.):\n",
    "    color = getcolor(color)\n",
    "    o = orbitcoordinates\n",
    "    Npts = len(o)\n",
    "    # cdict with opacity going from 0 to 1 in trail\n",
    "    cdict = {'red': ((0.,color[0],color[0]),(1.,color[0],color[0])),\n",
    "             'green': ((0.,color[1],color[1]),(1.,color[1],color[1])),\n",
    "             'blue': ((0.,color[2],color[2]),(1.,color[2],color[2])),\n",
    "             'alpha': ((0.,0.,0.),(1.,1.,1.))}\n",
    "    # cdict with opacity constant at 0.2 for points ahead of hyperbolic orbit\n",
    "    cdict2 = {'red': ((0.,color[0],color[0]),(1.,color[0],color[0])),\n",
    "             'green': ((0.,color[1],color[1]),(1.,color[1],color[1])),\n",
    "             'blue': ((0.,color[2],color[2]),(1.,color[2],color[2])),\n",
    "             'alpha': ((0.,0.2,0.2),(1.,0.2,0.2))}\n",
    "    \n",
    "    if hyperbolic is True:\n",
    "        firsthalf = Npts // 2\n",
    "        segments = np.zeros((firsthalf,2,2))\n",
    "        \n",
    "        for i in range(firsthalf):\n",
    "            xy = [o[i][0], o[i][1]]\n",
    "            segments[i][1]=xy\n",
    "            if i+1<firsthalf:\n",
    "               segments[i+1][0]=xy\n",
    "            if i==0:\n",
    "               segments[i][0]=xy\n",
    "        individual_cm = LinearSegmentedColormap('indv1', cdict)\n",
    "        lc1 = LineCollection(segments, cmap=individual_cm, linewidth=lw)\n",
    "        lc1.set_array(np.linspace(0.,0.5,firsthalf))\n",
    "        \n",
    "        lasthalf = Npts - firsthalf\n",
    "        segments = np.zeros((lasthalf,2,2))\n",
    "        for i in range(lasthalf):\n",
    "            xy = [o[firsthalf+i][0], o[firsthalf+i][1]]\n",
    "            segments[i][1]=xy\n",
    "            if i+1<lasthalf:\n",
    "               segments[i+1][0]=xy\n",
    "            if i==0:\n",
    "               segments[i][0]=xy\n",
    "        \n",
    "        #cdict['alpha'] = ((0.,0.2,0.2),(1.,0.2,0.2))\n",
    "        individual_cm = LinearSegmentedColormap('indv1', cdict)\n",
    "        lc2 = LineCollection(segments, cmap=individual_cm, linewidth=lw)\n",
    "        lc2.set_array(np.linspace(0.5,1.,lasthalf))\n",
    "        return [lc1, lc2]\n",
    "    else:\n",
    "        segments = np.zeros((Npts-1,2,2))\n",
    "        segments[0][0] = [o[0][0], o[0][1]]\n",
    "        for i in range(1,Npts-1):\n",
    "            xy = [o[i][0], o[i][1]]\n",
    "            segments[i-1][1] = xy\n",
    "            segments[i][0] = xy\n",
    "        segments[-1][1] = [o[-1][0], o[-1][1]]    \n",
    "        individual_cm = LinearSegmentedColormap('indv1', cdict)\n",
    "        lc = LineCollection(segments, cmap=individual_cm, linewidth=lw)\n",
    "        lc.set_array(np.linspace(0.,1.,Npts))\n",
    "    return lc"
   ]
  },
  {
   "cell_type": "code",
   "execution_count": 55,
   "metadata": {
    "collapsed": false
   },
   "outputs": [
    {
     "data": {
      "text/plain": [
       "(-1, 1)"
      ]
     },
     "execution_count": 55,
     "metadata": {},
     "output_type": "execute_result"
    },
    {
     "data": {
      "image/png": "[encoded data removed]",
      "text/plain": [
       "<matplotlib.figure.Figure at 0x10b969c18>"
      ]
     },
     "metadata": {},
     "output_type": "display_data"
    }
   ],
   "source": [
    "%matplotlib inline\n",
    "fig, ax = plt.subplots()\n",
    "lc = get_orbit_trail(o)\n",
    "ax.add_collection(lc)\n",
    "ax.set_xlim([-1,1])\n",
    "ax.set_ylim([-1,1])"
   ]
  },
  {
   "cell_type": "markdown",
   "metadata": {},
   "source": [
    "# Start Modifying Here"
   ]
  },
  {
   "cell_type": "code",
   "execution_count": 56,
   "metadata": {
    "collapsed": true
   },
   "outputs": [],
   "source": [
    "import sys\n",
    "sys.path.append('../')\n",
    "import systemsounds as ss\n",
    "import numpy as np\n",
    "import rebound\n",
    "filename = \"../binaries/trappist.bin\"\n",
    "sim = rebound.Simulation.from_file(filename)\n",
    "sim.t = 0\n",
    "ss.rescale_time(sim, sim.particles[-1].P)"
   ]
  },
  {
   "cell_type": "markdown",
   "metadata": {},
   "source": [
    "# First integrate backwards for the length of the integration we want to do, so that when we go forwards we end up at time 0 to match up with movie"
   ]
  },
  {
   "cell_type": "code",
   "execution_count": 57,
   "metadata": {
    "collapsed": true
   },
   "outputs": [],
   "source": [
    "sim.integrate(-2)"
   ]
  },
  {
   "cell_type": "markdown",
   "metadata": {},
   "source": [
    "# This is a hack to get around the fact that the current code does not handle negative times correctly"
   ]
  },
  {
   "cell_type": "code",
   "execution_count": 58,
   "metadata": {
    "collapsed": true
   },
   "outputs": [],
   "source": [
    "sim.t = 0"
   ]
  },
  {
   "cell_type": "markdown",
   "metadata": {},
   "source": [
    "# This makes theta vary from inclined to face on over the integration. Can do a fixed inclination with a single frames.theta = 60.*np.pi/180"
   ]
  },
  {
   "cell_type": "code",
   "execution_count": null,
   "metadata": {
    "collapsed": false
   },
   "outputs": [],
   "source": [
    "frames = ss.FrameRecorder(sim, time_per_sec=0.5)\n",
    "frames.color = ['red','darkorange','forestgreen','cyan','deepskyblue','violet','darkviolet']\n",
    "\n",
    "Nout = 20\n",
    "times = np.linspace(0, 2, Nout)\n",
    "thetas = np.linspace(60.*np.pi/180., 0, Nout)\n",
    "\n",
    "for i, time in enumerate(times):\n",
    "    frames.theta = thetas[i]\n",
    "    sim.integrate(time) # integrate for two outer planet orbits"
   ]
  },
  {
   "cell_type": "markdown",
   "metadata": {},
   "source": [
    "# Helper functions for rotations. Set up to just do a simple rotation around the x axis by theta. Let me know if you want me to generalize this"
   ]
  },
  {
   "cell_type": "code",
   "execution_count": 51,
   "metadata": {
    "collapsed": false
   },
   "outputs": [],
   "source": [
    "def rotate_particles(sim, theta):\n",
    "    xyz = np.zeros((sim.N, 3))\n",
    "    for i, p in enumerate(sim.particles):\n",
    "        xyz[i][0] = p.x\n",
    "        xyz[i][1] = p.y\n",
    "        xyz[i][2] = p.z\n",
    "    rotmatrix = np.array([[1,0,0], [0,np.cos(theta),-np.sin(theta)], [0,np.sin(theta),np.cos(theta)]])\n",
    "    return rotmatrix.dot(xyz.T).T\n",
    "\n",
    "def rotate_orbit(o, theta):\n",
    "    rotmatrix = np.array([[1,0,0], [0,np.cos(theta),-np.sin(theta)], [0,np.sin(theta),np.cos(theta)]])\n",
    "    return rotmatrix.dot(o.T).T"
   ]
  },
  {
   "cell_type": "markdown",
   "metadata": {},
   "source": [
    "# I've tried to comment below what each section of code does so it's hopefully easy to edit"
   ]
  },
  {
   "cell_type": "code",
   "execution_count": 52,
   "metadata": {
    "collapsed": true
   },
   "outputs": [],
   "source": [
    "import matplotlib.pyplot as plt\n",
    "\n",
    "def write_png(params):\n",
    "    fig, ax = plt.subplots(figsize=(8,8))\n",
    "    fig.axes[0].axis('off') # turn off axes\n",
    "    colors = params['color']                       # colors for each of the particles (including the star)\n",
    "    theta=params['theta']\n",
    "    lw=3. # line width\n",
    "    \n",
    "    sim = rebound.Simulation.from_file(params['filename'])\n",
    "    ps = sim.particles\n",
    "    \n",
    "    # set plot boundaries to larger than outermost planet\n",
    "    lim = 1.15*ps[-1].a\n",
    "    ax.set_xlim([-lim, lim])\n",
    "    ax.set_ylim([-lim, lim])\n",
    "    \n",
    "    # get rotated xyz coordinates for all bodies\n",
    "    xyz = rotate_particles(sim, theta)\n",
    "    # plot star\n",
    "    ax.scatter(xyz[0][0], xyz[0][1], marker=\"*\", s=35*lw, facecolor=\"black\", edgecolor=None, zorder=3)\n",
    "    \n",
    "    for i, p in enumerate(sim.particles[1:]):\n",
    "        # plot planet\n",
    "        ax.scatter(xyz[i+1][0], xyz[i+1][1], s=25*lw, facecolor=colors[i], edgecolor=None, zorder=3)\n",
    "        #plot orbit\n",
    "        o = get_orbit(p)\n",
    "        o = rotate_orbit(o, theta)\n",
    "        lc = get_orbit_trail(o, color=colors[i], lw=lw)\n",
    "        ax.add_collection(lc)\n",
    "        \n",
    "    fig.savefig('tmp/pngs/{0:0=5d}.png'.format(params['frame_ctr']))\n",
    "    plt.close(fig)"
   ]
  },
  {
   "cell_type": "markdown",
   "metadata": {},
   "source": [
    "We now write all the frames using our function. Making matplotlib plots is not optimized for efficiency, so it's quite slow. We therefore generate them in parallel."
   ]
  },
  {
   "cell_type": "code",
   "execution_count": 53,
   "metadata": {
    "collapsed": false
   },
   "outputs": [
    {
     "name": "stdout",
     "output_type": "stream",
     "text": [
      "CPU times: user 44.8 ms, sys: 47.3 ms, total: 92.1 ms\n",
      "Wall time: 8.15 s\n"
     ]
    }
   ],
   "source": [
    "%%time\n",
    "from subprocess import call\n",
    "call(\"rm -f tmp/pngs/*\", shell=True)\n",
    "pool = rebound.InterruptiblePool()\n",
    "res = pool.map(write_png, frames.events)"
   ]
  },
  {
   "cell_type": "markdown",
   "metadata": {
    "collapsed": true
   },
   "source": [
    "# Outputting a movie file\n",
    "\n",
    "You now have all the frames for the movie in `systemsounds/jupyter_examples/tmp/pngs`, and can stitch them together into a movie using your favorite software. For some ideas and options, see [MovieEditingSoftware.ipynb](MovieEditingSoftware.ipynb)\n",
    "\n",
    "# More advanced example\n",
    "\n",
    "Everyone will want to do something slightly differently, so rather than building up a complicated framework with many options, the idea is that people can contribute examples to this repository that others can draw on to make their own custom movies. We're looking forward to seeing what people come up with! For a more complicated example see [TRAPPIST1.ipynb](TRAPPIST1.ipynb)"
   ]
  },
  {
   "cell_type": "code",
   "execution_count": null,
   "metadata": {
    "collapsed": true
   },
   "outputs": [],
   "source": []
  }
 ],
 "metadata": {
  "kernelspec": {
   "display_name": "Python 3",
   "language": "python",
   "name": "python3"
  },
  "language_info": {
   "codemirror_mode": {
    "name": "ipython",
    "version": 3
   },
   "file_extension": ".py",
   "mimetype": "text/x-python",
   "name": "python",
   "nbconvert_exporter": "python",
   "pygments_lexer": "ipython3",
   "version": "3.5.1"
  }
 },
 "nbformat": 4,
 "nbformat_minor": 2
}
