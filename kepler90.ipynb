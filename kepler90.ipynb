{
 "cells": [
  {
   "cell_type": "code",
   "execution_count": 1,
   "metadata": {
    "collapsed": true
   },
   "outputs": [],
   "source": [
    "from systemsounds import System\n",
    "import numpy as np"
   ]
  },
  {
   "cell_type": "code",
   "execution_count": 7,
   "metadata": {
    "collapsed": false
   },
   "outputs": [
    {
     "name": "stdout",
     "output_type": "stream",
     "text": [
      "0.0 [7]\n",
      "2.000687107248676 [6, 7]\n",
      "4.001374214497455 [5, 6, 7]\n",
      "6.002061321746024 [4, 5, 6, 7]\n",
      "8.002748428994593 [3, 4, 5, 6, 7]\n",
      "10.003435536243583 [2, 3, 4, 5, 6, 7]\n",
      "12.004122643492572 [1, 2, 3, 4, 5, 6, 7]\n",
      "CPU times: user 2.42 s, sys: 12.6 ms, total: 2.43 s\n",
      "Wall time: 2.42 s\n"
     ]
    }
   ],
   "source": [
    "%%time\n",
    "filename = \"binaries/kepler90.bin\"\n",
    "# The commented out colors are the colors in the video, but we invert the colors in the post-procek90ing, so we use\n",
    "# the corresponding inverse colors instead\n",
    "#colors = ['None','red','darkorange','forestgreen','cyan','deepskyblue','violet','darkviolet']\n",
    "colors = [None, 'cyan','dodgerblue','hotpink','crimson','chocolate','forestgreen','yellowgreen']\n",
    "\n",
    "k90 = System(filename, bpm=30, outer_midi_note=48) # notes: http://subsynth.sourceforge.net/midinote2freq.html\n",
    "k90.conjunction_notes = [0, 33, 35, 20, 18, 14, 12, 10]\n",
    "k90.conjunction_velocities = [0, 43, 68, 100, 100, 124, 124, 124]\n",
    "\n",
    "planets = list(range(k90.sim.N))\n",
    "for i in range(1,k90.sim.N):\n",
    "    ps = planets[-i:]\n",
    "    print(k90.sim.t, ps)\n",
    "    k90.integrate(tmax=k90.sim.t+2, playtransits=ps, playconjunctions=False, showplanets=ps, showtransits=ps, showconjunctions=False, duration=1, color=colors,planetentrance=True)\n",
    "\n",
    "'''\n",
    "conjunctionbars = 3\n",
    "barbpms = np.linspace(30,100,conjunctionbars+1)\n",
    "N = 10\n",
    "\n",
    "for j, i in enumerate([3,2,1]):\n",
    "    ps = planets[i:-1]\n",
    "    print(k90.sim.t, ps, k90.bpm)\n",
    "    times = np.linspace(k90.sim.t,k90.sim.t+4,N,endpoint=True)\n",
    "    bpms = np.linspace(k90.bpm,barbpms[j+1],N,endpoint=True)\n",
    "    for time, bpm in zip(times, bpms):\n",
    "        k90.change_tempo(bpm)\n",
    "        k90.integrate(time, playtransits=True, playconjunctions=ps, showplanets=ps, showtransits=False, showconjunctions=ps, duration=1, color=colors)\n",
    "\n",
    "for i in range(4):\n",
    "    print(k90.sim.t, ps, k90.bpm)\n",
    "    k90.integrate(tmax=k90.sim.t+4, playtransits=True, playconjunctions=True, showplanets=True, showtransits=False, showconjunctions=True, duration=1, color=colors)\n",
    "\n",
    "k90.change_tempo(30)    \n",
    "print(k90.sim.t, ps, k90.bpm)\n",
    "k90.integrate(tmax=k90.sim.t+12, playtransits=False, playconjunctions=False, showplanets=True, showtransits=False, showconjunctions=False, duration=1, color=colors)\n",
    "print(k90.sim.t, ps, k90.bpm)\n",
    "'''"
   ]
  },
  {
   "cell_type": "code",
   "execution_count": 8,
   "metadata": {
    "collapsed": false
   },
   "outputs": [],
   "source": [
    "midiname = \"k90midi\"\n",
    "k90.write_midi(midiname)"
   ]
  },
  {
   "cell_type": "code",
   "execution_count": 9,
   "metadata": {
    "collapsed": false
   },
   "outputs": [
    {
     "data": {
      "text/plain": [
       "0"
      ]
     },
     "execution_count": 9,
     "metadata": {},
     "output_type": "execute_result"
    }
   ],
   "source": [
    "from subprocess import call\n",
    "call(\"open k90midi.mid\", shell=True)"
   ]
  },
  {
   "cell_type": "code",
   "execution_count": null,
   "metadata": {
    "collapsed": true
   },
   "outputs": [],
   "source": []
  }
 ],
 "metadata": {
  "kernelspec": {
   "display_name": "Python 3",
   "language": "python",
   "name": "python3"
  },
  "language_info": {
   "codemirror_mode": {
    "name": "ipython",
    "version": 3
   },
   "file_extension": ".py",
   "mimetype": "text/x-python",
   "name": "python",
   "nbconvert_exporter": "python",
   "pygments_lexer": "ipython3",
   "version": "3.5.1"
  }
 },
 "nbformat": 4,
 "nbformat_minor": 2
}
